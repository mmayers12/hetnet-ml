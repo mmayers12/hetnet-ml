{
 "cells": [
  {
   "cell_type": "markdown",
   "metadata": {
    "deletable": true,
    "editable": true
   },
   "source": [
    "# Demonstration of feature extraction methods"
   ]
  },
  {
   "cell_type": "code",
   "execution_count": 1,
   "metadata": {
    "collapsed": false,
    "deletable": true,
    "editable": true
   },
   "outputs": [],
   "source": [
    "import sys\n",
    "sys.path.append('../src')\n",
    "\n",
    "from extractor import MatrixFormattedGraph"
   ]
  },
  {
   "cell_type": "markdown",
   "metadata": {
    "deletable": true,
    "editable": true
   },
   "source": [
    "## Conversion of Neo4j Formatted .csv files to Matrices\n",
    "\n",
    "The format for neo4j node and edge csvs is shown below. Notice the colons before column titles.\n",
    "\n",
    "Nodes:\n",
    "\n",
    "|:ID|name|:LABEL|\n",
    "|-|-|-|\n",
    "|UBERON:0000002|uterine cervix|Anatomy|\n",
    "|UBERON:0000004|nose|Anatomy|\n",
    "|UBERON:0000006|islet of Langerhans|Anatomy|\n",
    "\n",
    "Edges:\n",
    "\n",
    "|:START_ID|:END_ID|:TYPE|\n",
    "| - | - | - |\n",
    "|9021|GO:0071357|participates_GpBP|\n",
    "|51676|GO:0098780|participates_GpBP|\n",
    "|19|GO:0055088|participates_GpBP|\n",
    "\n",
    "The conversion process is fairly fast.  A metapaths.json file can be provided instead of the parameters `start_kind` `end_kind` and `max_length`.  However, when this file is not passed, a metagraph will not be built, so there is less flexibility in terms of what metapaths can be extracted down the line.\n",
    "\n",
    "One important caveat for successful initalization of the metagraph is the format of the `:TYPE` column.  It is important that this be in the format `{EdgeName}_{EdgeAbbrevation}` with the separating underscore."
   ]
  },
  {
   "cell_type": "code",
   "execution_count": 2,
   "metadata": {
    "collapsed": false,
    "deletable": true,
    "editable": true
   },
   "outputs": [
    {
     "name": "stdout",
     "output_type": "stream",
     "text": [
      "Reading file information...\n",
      "Initializing metagraph...\n",
      "Generating adjacency matrices...\n"
     ]
    },
    {
     "name": "stderr",
     "output_type": "stream",
     "text": [
      "100%|██████████| 24/24 [01:07<00:00,  6.27s/it]\n"
     ]
    },
    {
     "name": "stdout",
     "output_type": "stream",
     "text": [
      "\n",
      "Weighting matrices by degree with dampening factor 0.4...\n"
     ]
    },
    {
     "name": "stderr",
     "output_type": "stream",
     "text": [
      "100%|██████████| 25/25 [00:25<00:00,  1.02s/it]"
     ]
    },
    {
     "name": "stdout",
     "output_type": "stream",
     "text": [
      "CPU times: user 1min 48s, sys: 2.77 s, total: 1min 50s\n",
      "Wall time: 1min 51s\n"
     ]
    },
    {
     "name": "stderr",
     "output_type": "stream",
     "text": [
      "\n"
     ]
    }
   ],
   "source": [
    "%%time\n",
    "mg = MatrixFormattedGraph('nodes.csv', 'edges.csv', start_kind='Compound', end_kind='Disease', max_length=4)"
   ]
  },
  {
   "cell_type": "markdown",
   "metadata": {
    "deletable": true,
    "editable": true
   },
   "source": [
    "## Extraction of Degree Features\n",
    "\n",
    "Degree Features can also be extracted using matrices. In a machine learning context, we are primarily interested in the degrees of the source and target of the edge we are trying to predict. For this reason, this function has a `start_nodes` and `end_nodes` requried parameters."
   ]
  },
  {
   "cell_type": "code",
   "execution_count": 3,
   "metadata": {
    "collapsed": false,
    "deletable": true,
    "editable": true,
    "scrolled": true
   },
   "outputs": [
    {
     "name": "stderr",
     "output_type": "stream",
     "text": [
      "100%|██████████| 24/24 [00:24<00:00,  1.03s/it]\n"
     ]
    },
    {
     "name": "stdout",
     "output_type": "stream",
     "text": [
      "CPU times: user 22.7 s, sys: 1.99 s, total: 24.7 s\n",
      "Wall time: 24.7 s\n"
     ]
    }
   ],
   "source": [
    "%%time\n",
    "degs = mg.extract_degrees(start_nodes='Compound', end_nodes='Disease')"
   ]
  },
  {
   "cell_type": "code",
   "execution_count": 4,
   "metadata": {
    "collapsed": false,
    "deletable": true,
    "editable": true
   },
   "outputs": [
    {
     "data": {
      "text/html": [
       "<div>\n",
       "<style>\n",
       "    .dataframe thead tr:only-child th {\n",
       "        text-align: right;\n",
       "    }\n",
       "\n",
       "    .dataframe thead th {\n",
       "        text-align: left;\n",
       "    }\n",
       "\n",
       "    .dataframe tbody tr th {\n",
       "        vertical-align: top;\n",
       "    }\n",
       "</style>\n",
       "<table border=\"1\" class=\"dataframe\">\n",
       "  <thead>\n",
       "    <tr style=\"text-align: right;\">\n",
       "      <th></th>\n",
       "      <th>compound_id</th>\n",
       "      <th>disease_id</th>\n",
       "      <th>CbG</th>\n",
       "      <th>CcSE</th>\n",
       "      <th>CdG</th>\n",
       "      <th>CiPC</th>\n",
       "      <th>CpD</th>\n",
       "      <th>CrC</th>\n",
       "      <th>CtD</th>\n",
       "      <th>CuG</th>\n",
       "      <th>DaG</th>\n",
       "      <th>DdG</th>\n",
       "      <th>DlA</th>\n",
       "      <th>DpC</th>\n",
       "      <th>DpS</th>\n",
       "      <th>DrD</th>\n",
       "      <th>DtC</th>\n",
       "      <th>DuG</th>\n",
       "    </tr>\n",
       "  </thead>\n",
       "  <tbody>\n",
       "    <tr>\n",
       "      <th>0</th>\n",
       "      <td>DB00014</td>\n",
       "      <td>DOID:0050156</td>\n",
       "      <td>2</td>\n",
       "      <td>249</td>\n",
       "      <td>0</td>\n",
       "      <td>1</td>\n",
       "      <td>0</td>\n",
       "      <td>7</td>\n",
       "      <td>2</td>\n",
       "      <td>1</td>\n",
       "      <td>18</td>\n",
       "      <td>250</td>\n",
       "      <td>4</td>\n",
       "      <td>1</td>\n",
       "      <td>8</td>\n",
       "      <td>2</td>\n",
       "      <td>0</td>\n",
       "      <td>250</td>\n",
       "    </tr>\n",
       "    <tr>\n",
       "      <th>1</th>\n",
       "      <td>DB00014</td>\n",
       "      <td>DOID:0050425</td>\n",
       "      <td>2</td>\n",
       "      <td>249</td>\n",
       "      <td>0</td>\n",
       "      <td>1</td>\n",
       "      <td>0</td>\n",
       "      <td>7</td>\n",
       "      <td>2</td>\n",
       "      <td>1</td>\n",
       "      <td>12</td>\n",
       "      <td>0</td>\n",
       "      <td>16</td>\n",
       "      <td>10</td>\n",
       "      <td>21</td>\n",
       "      <td>6</td>\n",
       "      <td>0</td>\n",
       "      <td>0</td>\n",
       "    </tr>\n",
       "  </tbody>\n",
       "</table>\n",
       "</div>"
      ],
      "text/plain": [
       "  compound_id    disease_id  CbG  CcSE  CdG  CiPC  CpD  CrC  CtD  CuG  DaG  \\\n",
       "0     DB00014  DOID:0050156    2   249    0     1    0    7    2    1   18   \n",
       "1     DB00014  DOID:0050425    2   249    0     1    0    7    2    1   12   \n",
       "\n",
       "   DdG  DlA  DpC  DpS  DrD  DtC  DuG  \n",
       "0  250    4    1    8    2    0  250  \n",
       "1    0   16   10   21    6    0    0  "
      ]
     },
     "execution_count": 4,
     "metadata": {},
     "output_type": "execute_result"
    }
   ],
   "source": [
    "degs.head(2)"
   ]
  },
  {
   "cell_type": "code",
   "execution_count": 5,
   "metadata": {
    "collapsed": false,
    "deletable": true,
    "editable": true
   },
   "outputs": [
    {
     "data": {
      "text/html": [
       "<div>\n",
       "<style>\n",
       "    .dataframe thead tr:only-child th {\n",
       "        text-align: right;\n",
       "    }\n",
       "\n",
       "    .dataframe thead th {\n",
       "        text-align: left;\n",
       "    }\n",
       "\n",
       "    .dataframe tbody tr th {\n",
       "        vertical-align: top;\n",
       "    }\n",
       "</style>\n",
       "<table border=\"1\" class=\"dataframe\">\n",
       "  <thead>\n",
       "    <tr style=\"text-align: right;\">\n",
       "      <th></th>\n",
       "      <th>compound_id</th>\n",
       "      <th>disease_id</th>\n",
       "      <th>CbG</th>\n",
       "      <th>CcSE</th>\n",
       "      <th>CdG</th>\n",
       "      <th>CiPC</th>\n",
       "      <th>CpD</th>\n",
       "      <th>CrC</th>\n",
       "      <th>CtD</th>\n",
       "      <th>CuG</th>\n",
       "      <th>DaG</th>\n",
       "      <th>DdG</th>\n",
       "      <th>DlA</th>\n",
       "      <th>DpC</th>\n",
       "      <th>DpS</th>\n",
       "      <th>DrD</th>\n",
       "      <th>DtC</th>\n",
       "      <th>DuG</th>\n",
       "    </tr>\n",
       "  </thead>\n",
       "  <tbody>\n",
       "    <tr>\n",
       "      <th>0</th>\n",
       "      <td>DB00014</td>\n",
       "      <td>DOID:0050156</td>\n",
       "      <td>2</td>\n",
       "      <td>249</td>\n",
       "      <td>0</td>\n",
       "      <td>1</td>\n",
       "      <td>0</td>\n",
       "      <td>7</td>\n",
       "      <td>2</td>\n",
       "      <td>1</td>\n",
       "      <td>18</td>\n",
       "      <td>250</td>\n",
       "      <td>4</td>\n",
       "      <td>1</td>\n",
       "      <td>8</td>\n",
       "      <td>2</td>\n",
       "      <td>0</td>\n",
       "      <td>250</td>\n",
       "    </tr>\n",
       "    <tr>\n",
       "      <th>166181</th>\n",
       "      <td>DB01440</td>\n",
       "      <td>DOID:0050156</td>\n",
       "      <td>5</td>\n",
       "      <td>189</td>\n",
       "      <td>0</td>\n",
       "      <td>0</td>\n",
       "      <td>1</td>\n",
       "      <td>0</td>\n",
       "      <td>0</td>\n",
       "      <td>0</td>\n",
       "      <td>18</td>\n",
       "      <td>250</td>\n",
       "      <td>4</td>\n",
       "      <td>1</td>\n",
       "      <td>8</td>\n",
       "      <td>2</td>\n",
       "      <td>0</td>\n",
       "      <td>250</td>\n",
       "    </tr>\n",
       "  </tbody>\n",
       "</table>\n",
       "</div>"
      ],
      "text/plain": [
       "       compound_id    disease_id  CbG  CcSE  CdG  CiPC  CpD  CrC  CtD  CuG  \\\n",
       "0          DB00014  DOID:0050156    2   249    0     1    0    7    2    1   \n",
       "166181     DB01440  DOID:0050156    5   189    0     0    1    0    0    0   \n",
       "\n",
       "        DaG  DdG  DlA  DpC  DpS  DrD  DtC  DuG  \n",
       "0        18  250    4    1    8    2    0  250  \n",
       "166181   18  250    4    1    8    2    0  250  "
      ]
     },
     "execution_count": 5,
     "metadata": {},
     "output_type": "execute_result"
    }
   ],
   "source": [
    "degs.sort_values('disease_id').head(2)"
   ]
  },
  {
   "cell_type": "code",
   "execution_count": 6,
   "metadata": {
    "collapsed": true,
    "deletable": true,
    "editable": true
   },
   "outputs": [],
   "source": [
    "import bz2"
   ]
  },
  {
   "cell_type": "code",
   "execution_count": 7,
   "metadata": {
    "collapsed": false,
    "deletable": true,
    "editable": true
   },
   "outputs": [],
   "source": [
    "with bz2.open('degree-features.tsv.bz2', 'wt') as write_file:\n",
    "    degs.to_csv(write_file, sep='\\t', index=False)"
   ]
  },
  {
   "cell_type": "markdown",
   "metadata": {
    "deletable": true,
    "editable": true
   },
   "source": [
    "## Extraction of DWPC features\n",
    "\n",
    "DWPC features are similarly extracted using matrix-matrix multiplication.  DWPCs are fast to extract in this way.  This method also benefits greatly from speed increases provided by multiprocessing.\n",
    "\n",
    "Currently, remformatting the results to a DataFrame takes longer than producing the matrix.  This step does not show much of an increase in speed with parallel processing."
   ]
  },
  {
   "cell_type": "code",
   "execution_count": 8,
   "metadata": {
    "collapsed": false,
    "deletable": true,
    "editable": true,
    "scrolled": true
   },
   "outputs": [
    {
     "name": "stdout",
     "output_type": "stream",
     "text": [
      "Calculating DWPCs...\n"
     ]
    },
    {
     "name": "stderr",
     "output_type": "stream",
     "text": [
      "100%|██████████| 1206/1206 [04:39<00:00,  1.78s/it]\n"
     ]
    },
    {
     "name": "stdout",
     "output_type": "stream",
     "text": [
      "\n",
      "Reformating results...\n"
     ]
    },
    {
     "name": "stderr",
     "output_type": "stream",
     "text": [
      "100%|██████████| 1206/1206 [05:58<00:00,  2.69it/s]\n"
     ]
    },
    {
     "name": "stdout",
     "output_type": "stream",
     "text": [
      "CPU times: user 2min 33s, sys: 6min 53s, total: 9min 27s\n",
      "Wall time: 10min 43s\n"
     ]
    }
   ],
   "source": [
    "%%time\n",
    "dwpcs = mg.extract_dwpc(start_nodes='Compound', end_nodes='Disease', n_jobs=24)"
   ]
  },
  {
   "cell_type": "code",
   "execution_count": 9,
   "metadata": {
    "collapsed": false,
    "deletable": true,
    "editable": true
   },
   "outputs": [
    {
     "name": "stdout",
     "output_type": "stream",
     "text": [
      "(212624, 1208)\n"
     ]
    },
    {
     "data": {
      "text/html": [
       "<div>\n",
       "<style>\n",
       "    .dataframe thead tr:only-child th {\n",
       "        text-align: right;\n",
       "    }\n",
       "\n",
       "    .dataframe thead th {\n",
       "        text-align: left;\n",
       "    }\n",
       "\n",
       "    .dataframe tbody tr th {\n",
       "        vertical-align: top;\n",
       "    }\n",
       "</style>\n",
       "<table border=\"1\" class=\"dataframe\">\n",
       "  <thead>\n",
       "    <tr style=\"text-align: right;\">\n",
       "      <th></th>\n",
       "      <th>compound_id</th>\n",
       "      <th>disease_id</th>\n",
       "      <th>CuGuAuGdD</th>\n",
       "      <th>CpDpSpDrD</th>\n",
       "      <th>CbGdDaGaD</th>\n",
       "      <th>CuGuDdGuD</th>\n",
       "      <th>CiPCiCbGdD</th>\n",
       "      <th>CrCtDtCpD</th>\n",
       "      <th>CdGr&gt;GcGuD</th>\n",
       "      <th>CiPCiCbGaD</th>\n",
       "      <th>...</th>\n",
       "      <th>CdGcGaD</th>\n",
       "      <th>CbGdD</th>\n",
       "      <th>CbG&lt;rG&lt;rGuD</th>\n",
       "      <th>CuG&lt;rGdCtD</th>\n",
       "      <th>CuG&lt;rGuCtD</th>\n",
       "      <th>CuGr&gt;GbCpD</th>\n",
       "      <th>CdGaDrD</th>\n",
       "      <th>CbGiGuD</th>\n",
       "      <th>CbGuD</th>\n",
       "      <th>CtDtCdGuD</th>\n",
       "    </tr>\n",
       "  </thead>\n",
       "  <tbody>\n",
       "    <tr>\n",
       "      <th>0</th>\n",
       "      <td>DB00014</td>\n",
       "      <td>DOID:0050156</td>\n",
       "      <td>0.001434</td>\n",
       "      <td>0.0</td>\n",
       "      <td>0.0</td>\n",
       "      <td>0.000169</td>\n",
       "      <td>0.0</td>\n",
       "      <td>0.0</td>\n",
       "      <td>0.0</td>\n",
       "      <td>0.0</td>\n",
       "      <td>...</td>\n",
       "      <td>0.0</td>\n",
       "      <td>0.0</td>\n",
       "      <td>0.0</td>\n",
       "      <td>0.000000</td>\n",
       "      <td>0.000000</td>\n",
       "      <td>0.0</td>\n",
       "      <td>0.0</td>\n",
       "      <td>0.0</td>\n",
       "      <td>0.0</td>\n",
       "      <td>0.007722</td>\n",
       "    </tr>\n",
       "    <tr>\n",
       "      <th>1</th>\n",
       "      <td>DB00014</td>\n",
       "      <td>DOID:0050425</td>\n",
       "      <td>0.000000</td>\n",
       "      <td>0.0</td>\n",
       "      <td>0.0</td>\n",
       "      <td>0.000000</td>\n",
       "      <td>0.0</td>\n",
       "      <td>0.0</td>\n",
       "      <td>0.0</td>\n",
       "      <td>0.0</td>\n",
       "      <td>...</td>\n",
       "      <td>0.0</td>\n",
       "      <td>0.0</td>\n",
       "      <td>0.0</td>\n",
       "      <td>0.000000</td>\n",
       "      <td>0.000000</td>\n",
       "      <td>0.0</td>\n",
       "      <td>0.0</td>\n",
       "      <td>0.0</td>\n",
       "      <td>0.0</td>\n",
       "      <td>0.000000</td>\n",
       "    </tr>\n",
       "    <tr>\n",
       "      <th>2</th>\n",
       "      <td>DB00014</td>\n",
       "      <td>DOID:0050741</td>\n",
       "      <td>0.000839</td>\n",
       "      <td>0.0</td>\n",
       "      <td>0.0</td>\n",
       "      <td>0.000349</td>\n",
       "      <td>0.0</td>\n",
       "      <td>0.0</td>\n",
       "      <td>0.0</td>\n",
       "      <td>0.0</td>\n",
       "      <td>...</td>\n",
       "      <td>0.0</td>\n",
       "      <td>0.0</td>\n",
       "      <td>0.0</td>\n",
       "      <td>0.000582</td>\n",
       "      <td>0.000511</td>\n",
       "      <td>0.0</td>\n",
       "      <td>0.0</td>\n",
       "      <td>0.0</td>\n",
       "      <td>0.0</td>\n",
       "      <td>0.007271</td>\n",
       "    </tr>\n",
       "    <tr>\n",
       "      <th>3</th>\n",
       "      <td>DB00014</td>\n",
       "      <td>DOID:0050742</td>\n",
       "      <td>0.001529</td>\n",
       "      <td>0.0</td>\n",
       "      <td>0.0</td>\n",
       "      <td>0.001517</td>\n",
       "      <td>0.0</td>\n",
       "      <td>0.0</td>\n",
       "      <td>0.0</td>\n",
       "      <td>0.0</td>\n",
       "      <td>...</td>\n",
       "      <td>0.0</td>\n",
       "      <td>0.0</td>\n",
       "      <td>0.0</td>\n",
       "      <td>0.001304</td>\n",
       "      <td>0.000000</td>\n",
       "      <td>0.0</td>\n",
       "      <td>0.0</td>\n",
       "      <td>0.0</td>\n",
       "      <td>0.0</td>\n",
       "      <td>0.008063</td>\n",
       "    </tr>\n",
       "    <tr>\n",
       "      <th>4</th>\n",
       "      <td>DB00014</td>\n",
       "      <td>DOID:0060073</td>\n",
       "      <td>0.000000</td>\n",
       "      <td>0.0</td>\n",
       "      <td>0.0</td>\n",
       "      <td>0.000000</td>\n",
       "      <td>0.0</td>\n",
       "      <td>0.0</td>\n",
       "      <td>0.0</td>\n",
       "      <td>0.0</td>\n",
       "      <td>...</td>\n",
       "      <td>0.0</td>\n",
       "      <td>0.0</td>\n",
       "      <td>0.0</td>\n",
       "      <td>0.001569</td>\n",
       "      <td>0.000964</td>\n",
       "      <td>0.0</td>\n",
       "      <td>0.0</td>\n",
       "      <td>0.0</td>\n",
       "      <td>0.0</td>\n",
       "      <td>0.000000</td>\n",
       "    </tr>\n",
       "  </tbody>\n",
       "</table>\n",
       "<p>5 rows × 1208 columns</p>\n",
       "</div>"
      ],
      "text/plain": [
       "  compound_id    disease_id  CuGuAuGdD  CpDpSpDrD  CbGdDaGaD  CuGuDdGuD  \\\n",
       "0     DB00014  DOID:0050156   0.001434        0.0        0.0   0.000169   \n",
       "1     DB00014  DOID:0050425   0.000000        0.0        0.0   0.000000   \n",
       "2     DB00014  DOID:0050741   0.000839        0.0        0.0   0.000349   \n",
       "3     DB00014  DOID:0050742   0.001529        0.0        0.0   0.001517   \n",
       "4     DB00014  DOID:0060073   0.000000        0.0        0.0   0.000000   \n",
       "\n",
       "   CiPCiCbGdD  CrCtDtCpD  CdGr>GcGuD  CiPCiCbGaD    ...      CdGcGaD  CbGdD  \\\n",
       "0         0.0        0.0         0.0         0.0    ...          0.0    0.0   \n",
       "1         0.0        0.0         0.0         0.0    ...          0.0    0.0   \n",
       "2         0.0        0.0         0.0         0.0    ...          0.0    0.0   \n",
       "3         0.0        0.0         0.0         0.0    ...          0.0    0.0   \n",
       "4         0.0        0.0         0.0         0.0    ...          0.0    0.0   \n",
       "\n",
       "   CbG<rG<rGuD  CuG<rGdCtD  CuG<rGuCtD  CuGr>GbCpD  CdGaDrD  CbGiGuD  CbGuD  \\\n",
       "0          0.0    0.000000    0.000000         0.0      0.0      0.0    0.0   \n",
       "1          0.0    0.000000    0.000000         0.0      0.0      0.0    0.0   \n",
       "2          0.0    0.000582    0.000511         0.0      0.0      0.0    0.0   \n",
       "3          0.0    0.001304    0.000000         0.0      0.0      0.0    0.0   \n",
       "4          0.0    0.001569    0.000964         0.0      0.0      0.0    0.0   \n",
       "\n",
       "   CtDtCdGuD  \n",
       "0   0.007722  \n",
       "1   0.000000  \n",
       "2   0.007271  \n",
       "3   0.008063  \n",
       "4   0.000000  \n",
       "\n",
       "[5 rows x 1208 columns]"
      ]
     },
     "execution_count": 9,
     "metadata": {},
     "output_type": "execute_result"
    }
   ],
   "source": [
    "print(dwpcs.shape)\n",
    "dwpcs.head()"
   ]
  },
  {
   "cell_type": "code",
   "execution_count": 10,
   "metadata": {
    "collapsed": true,
    "deletable": true,
    "editable": true
   },
   "outputs": [],
   "source": [
    "with bz2.open('dwpc-features.tsv.bz2', 'wt') as write_file:\n",
    "    dwpcs.to_csv(write_file, sep='\\t', index=False, float_format='%.4g')"
   ]
  },
  {
   "cell_type": "markdown",
   "metadata": {
    "deletable": true,
    "editable": true
   },
   "source": [
    "#### Subsetting\n",
    "\n",
    "A subset of metapths, or Compound-Disease pairs can also be extracted by passing lists as arugments of the function.  Subsetting the metapaths will result in faster computation, but subsetting start and end nodes does not."
   ]
  },
  {
   "cell_type": "code",
   "execution_count": 11,
   "metadata": {
    "collapsed": false,
    "deletable": true,
    "editable": true
   },
   "outputs": [
    {
     "name": "stdout",
     "output_type": "stream",
     "text": [
      "Calculating DWPCs...\n"
     ]
    },
    {
     "name": "stderr",
     "output_type": "stream",
     "text": [
      "100%|██████████| 3/3 [00:01<00:00,  2.92it/s]\n"
     ]
    },
    {
     "name": "stdout",
     "output_type": "stream",
     "text": [
      "\n",
      "Reformating results...\n"
     ]
    },
    {
     "name": "stderr",
     "output_type": "stream",
     "text": [
      "100%|██████████| 3/3 [00:00<00:00,  6.75it/s]\n"
     ]
    }
   ],
   "source": [
    "subset = mg.extract_dwpc(metapaths=['CbGaD', 'CrCrCrCtD', 'CuGpPWpGaD'], \n",
    "                         start_nodes=['DB00132', 'DB00179', 'DB00238'], \n",
    "                         end_nodes=['DOID:0060119', 'DOID:7148', 'DOID:9970'])"
   ]
  },
  {
   "cell_type": "code",
   "execution_count": 12,
   "metadata": {
    "collapsed": false
   },
   "outputs": [
    {
     "data": {
      "text/html": [
       "<div>\n",
       "<style>\n",
       "    .dataframe thead tr:only-child th {\n",
       "        text-align: right;\n",
       "    }\n",
       "\n",
       "    .dataframe thead th {\n",
       "        text-align: left;\n",
       "    }\n",
       "\n",
       "    .dataframe tbody tr th {\n",
       "        vertical-align: top;\n",
       "    }\n",
       "</style>\n",
       "<table border=\"1\" class=\"dataframe\">\n",
       "  <thead>\n",
       "    <tr style=\"text-align: right;\">\n",
       "      <th></th>\n",
       "      <th>compound_id</th>\n",
       "      <th>disease_id</th>\n",
       "      <th>CbGaD</th>\n",
       "      <th>CrCrCrCtD</th>\n",
       "      <th>CuGpPWpGaD</th>\n",
       "    </tr>\n",
       "  </thead>\n",
       "  <tbody>\n",
       "    <tr>\n",
       "      <th>0</th>\n",
       "      <td>DB00132</td>\n",
       "      <td>DOID:0060119</td>\n",
       "      <td>0.000000</td>\n",
       "      <td>0.000000</td>\n",
       "      <td>0.001396</td>\n",
       "    </tr>\n",
       "    <tr>\n",
       "      <th>1</th>\n",
       "      <td>DB00132</td>\n",
       "      <td>DOID:7148</td>\n",
       "      <td>0.049131</td>\n",
       "      <td>0.000000</td>\n",
       "      <td>0.013806</td>\n",
       "    </tr>\n",
       "    <tr>\n",
       "      <th>2</th>\n",
       "      <td>DB00132</td>\n",
       "      <td>DOID:9970</td>\n",
       "      <td>0.031676</td>\n",
       "      <td>0.014459</td>\n",
       "      <td>0.016529</td>\n",
       "    </tr>\n",
       "    <tr>\n",
       "      <th>3</th>\n",
       "      <td>DB00179</td>\n",
       "      <td>DOID:0060119</td>\n",
       "      <td>0.000000</td>\n",
       "      <td>0.000000</td>\n",
       "      <td>0.000000</td>\n",
       "    </tr>\n",
       "    <tr>\n",
       "      <th>4</th>\n",
       "      <td>DB00179</td>\n",
       "      <td>DOID:7148</td>\n",
       "      <td>0.009839</td>\n",
       "      <td>0.000000</td>\n",
       "      <td>0.000000</td>\n",
       "    </tr>\n",
       "    <tr>\n",
       "      <th>5</th>\n",
       "      <td>DB00179</td>\n",
       "      <td>DOID:9970</td>\n",
       "      <td>0.004522</td>\n",
       "      <td>0.003562</td>\n",
       "      <td>0.000000</td>\n",
       "    </tr>\n",
       "    <tr>\n",
       "      <th>6</th>\n",
       "      <td>DB00238</td>\n",
       "      <td>DOID:0060119</td>\n",
       "      <td>0.000000</td>\n",
       "      <td>0.000000</td>\n",
       "      <td>0.000000</td>\n",
       "    </tr>\n",
       "    <tr>\n",
       "      <th>7</th>\n",
       "      <td>DB00238</td>\n",
       "      <td>DOID:7148</td>\n",
       "      <td>0.000000</td>\n",
       "      <td>0.000000</td>\n",
       "      <td>0.000000</td>\n",
       "    </tr>\n",
       "    <tr>\n",
       "      <th>8</th>\n",
       "      <td>DB00238</td>\n",
       "      <td>DOID:9970</td>\n",
       "      <td>0.000000</td>\n",
       "      <td>0.000000</td>\n",
       "      <td>0.000000</td>\n",
       "    </tr>\n",
       "  </tbody>\n",
       "</table>\n",
       "</div>"
      ],
      "text/plain": [
       "  compound_id    disease_id     CbGaD  CrCrCrCtD  CuGpPWpGaD\n",
       "0     DB00132  DOID:0060119  0.000000   0.000000    0.001396\n",
       "1     DB00132     DOID:7148  0.049131   0.000000    0.013806\n",
       "2     DB00132     DOID:9970  0.031676   0.014459    0.016529\n",
       "3     DB00179  DOID:0060119  0.000000   0.000000    0.000000\n",
       "4     DB00179     DOID:7148  0.009839   0.000000    0.000000\n",
       "5     DB00179     DOID:9970  0.004522   0.003562    0.000000\n",
       "6     DB00238  DOID:0060119  0.000000   0.000000    0.000000\n",
       "7     DB00238     DOID:7148  0.000000   0.000000    0.000000\n",
       "8     DB00238     DOID:9970  0.000000   0.000000    0.000000"
      ]
     },
     "execution_count": 12,
     "metadata": {},
     "output_type": "execute_result"
    }
   ],
   "source": [
    "subset"
   ]
  }
 ],
 "metadata": {
  "kernelspec": {
   "display_name": "Python 3",
   "language": "python",
   "name": "python3"
  },
  "language_info": {
   "codemirror_mode": {
    "name": "ipython",
    "version": 3
   },
   "file_extension": ".py",
   "mimetype": "text/x-python",
   "name": "python",
   "nbconvert_exporter": "python",
   "pygments_lexer": "ipython3",
   "version": "3.5.3"
  }
 },
 "nbformat": 4,
 "nbformat_minor": 0
}
