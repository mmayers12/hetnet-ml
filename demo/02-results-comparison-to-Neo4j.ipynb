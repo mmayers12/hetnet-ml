{
 "cells": [
  {
   "cell_type": "markdown",
   "metadata": {
    "deletable": true,
    "editable": true
   },
   "source": [
    "# Comparison of Features extracted via Matrices to those extracted via Neo4j"
   ]
  },
  {
   "cell_type": "code",
   "execution_count": 1,
   "metadata": {
    "collapsed": true,
    "deletable": true,
    "editable": true
   },
   "outputs": [],
   "source": [
    "%matplotlib inline\n",
    "import pandas as pd\n",
    "import seaborn as sns\n",
    "import matplotlib.pyplot as plt"
   ]
  },
  {
   "cell_type": "markdown",
   "metadata": {
    "deletable": true,
    "editable": true
   },
   "source": [
    "## Degree Comparisons"
   ]
  },
  {
   "cell_type": "code",
   "execution_count": 4,
   "metadata": {
    "collapsed": false,
    "deletable": true,
    "editable": true
   },
   "outputs": [
    {
     "name": "stderr",
     "output_type": "stream",
     "text": [
      "/home/mmayers/software/anaconda3/envs/integrate/lib/python3.5/site-packages/IPython/core/interactiveshell.py:2723: DtypeWarning: Columns (4) have mixed types. Specify dtype option on import or set low_memory=False.\n",
      "  interactivity=interactivity, compiler=compiler, result=result)\n"
     ]
    },
    {
     "data": {
      "text/html": [
       "<div>\n",
       "<style>\n",
       "    .dataframe thead tr:only-child th {\n",
       "        text-align: right;\n",
       "    }\n",
       "\n",
       "    .dataframe thead th {\n",
       "        text-align: left;\n",
       "    }\n",
       "\n",
       "    .dataframe tbody tr th {\n",
       "        vertical-align: top;\n",
       "    }\n",
       "</style>\n",
       "<table border=\"1\" class=\"dataframe\">\n",
       "  <thead>\n",
       "    <tr style=\"text-align: right;\">\n",
       "      <th></th>\n",
       "      <th>compound_id</th>\n",
       "      <th>disease_id</th>\n",
       "      <th>degree_CbG</th>\n",
       "      <th>degree_CcSE</th>\n",
       "      <th>degree_CdG</th>\n",
       "      <th>degree_CiPC</th>\n",
       "      <th>degree_CpD</th>\n",
       "      <th>degree_CrC</th>\n",
       "      <th>degree_CtD</th>\n",
       "      <th>degree_CuG</th>\n",
       "      <th>degree_DaG</th>\n",
       "      <th>degree_DdG</th>\n",
       "      <th>degree_DlA</th>\n",
       "      <th>degree_DpC</th>\n",
       "      <th>degree_DpS</th>\n",
       "      <th>degree_DrD</th>\n",
       "      <th>degree_DtC</th>\n",
       "      <th>degree_DuG</th>\n",
       "    </tr>\n",
       "  </thead>\n",
       "  <tbody>\n",
       "    <tr>\n",
       "      <th>0</th>\n",
       "      <td>DB01048</td>\n",
       "      <td>DOID:10652</td>\n",
       "      <td>3</td>\n",
       "      <td>136</td>\n",
       "      <td>0</td>\n",
       "      <td>2</td>\n",
       "      <td>0</td>\n",
       "      <td>2</td>\n",
       "      <td>1</td>\n",
       "      <td>0</td>\n",
       "      <td>196</td>\n",
       "      <td>250</td>\n",
       "      <td>20</td>\n",
       "      <td>5</td>\n",
       "      <td>44</td>\n",
       "      <td>3</td>\n",
       "      <td>4</td>\n",
       "      <td>250</td>\n",
       "    </tr>\n",
       "    <tr>\n",
       "      <th>1</th>\n",
       "      <td>DB05812</td>\n",
       "      <td>DOID:10652</td>\n",
       "      <td>8</td>\n",
       "      <td>71</td>\n",
       "      <td>0</td>\n",
       "      <td>0</td>\n",
       "      <td>0</td>\n",
       "      <td>1</td>\n",
       "      <td>1</td>\n",
       "      <td>0</td>\n",
       "      <td>196</td>\n",
       "      <td>250</td>\n",
       "      <td>20</td>\n",
       "      <td>5</td>\n",
       "      <td>44</td>\n",
       "      <td>3</td>\n",
       "      <td>4</td>\n",
       "      <td>250</td>\n",
       "    </tr>\n",
       "  </tbody>\n",
       "</table>\n",
       "</div>"
      ],
      "text/plain": [
       "  compound_id  disease_id  degree_CbG  degree_CcSE  degree_CdG  degree_CiPC  \\\n",
       "0     DB01048  DOID:10652           3          136           0            2   \n",
       "1     DB05812  DOID:10652           8           71           0            0   \n",
       "\n",
       "   degree_CpD  degree_CrC  degree_CtD  degree_CuG  degree_DaG  degree_DdG  \\\n",
       "0           0           2           1           0         196         250   \n",
       "1           0           1           1           0         196         250   \n",
       "\n",
       "   degree_DlA  degree_DpC  degree_DpS  degree_DrD  degree_DtC  degree_DuG  \n",
       "0          20           5          44           3           4         250  \n",
       "1          20           5          44           3           4         250  "
      ]
     },
     "execution_count": 4,
     "metadata": {},
     "output_type": "execute_result"
    }
   ],
   "source": [
    "orig_deg = pd.read_table('../../../store/projects/learn/prediction/features/features.tsv.bz2')\n",
    "orig_deg = orig_deg[['compound_id', 'disease_id'] + [c for c in orig_deg.columns if c.startswith('degree_')]]\n",
    "orig_deg.head(2)"
   ]
  },
  {
   "cell_type": "code",
   "execution_count": 5,
   "metadata": {
    "collapsed": true,
    "deletable": true,
    "editable": true
   },
   "outputs": [],
   "source": [
    "mat_degs = pd.read_table('degree-features.tsv.bz2')"
   ]
  },
  {
   "cell_type": "code",
   "execution_count": 6,
   "metadata": {
    "collapsed": false,
    "deletable": true,
    "editable": true
   },
   "outputs": [],
   "source": [
    "degs = pd.merge(orig_deg, mat_degs, on=['compound_id', 'disease_id'])"
   ]
  },
  {
   "cell_type": "code",
   "execution_count": 7,
   "metadata": {
    "collapsed": true,
    "deletable": true,
    "editable": true
   },
   "outputs": [],
   "source": [
    "def compare_degrees(feature):\n",
    "    old_feature = 'degree_' + feature\n",
    "    return (degs[old_feature] - degs[feature]).sum()"
   ]
  },
  {
   "cell_type": "code",
   "execution_count": 8,
   "metadata": {
    "collapsed": false,
    "deletable": true,
    "editable": true
   },
   "outputs": [
    {
     "name": "stdout",
     "output_type": "stream",
     "text": [
      "Feature \t Num Different\n",
      "CbG \t\t 0\n",
      "CcSE \t\t 0\n",
      "CdG \t\t 0\n",
      "CiPC \t\t 952\n",
      "CpD \t\t 0\n",
      "CrC \t\t 0\n",
      "CtD \t\t 0\n",
      "CuG \t\t 0\n",
      "DaG \t\t 0\n",
      "DdG \t\t 0\n",
      "DlA \t\t 0\n",
      "DpC \t\t 0\n",
      "DpS \t\t 0\n",
      "DrD \t\t 0\n",
      "DtC \t\t 0\n",
      "DuG \t\t 0\n"
     ]
    }
   ],
   "source": [
    "print('Feature','\\t', 'Num Different')\n",
    "\n",
    "for feature in mat_degs.columns:\n",
    "    if feature != 'compound_id' and feature != 'disease_id':\n",
    "        print(feature, '\\t\\t', compare_degrees(feature))"
   ]
  },
  {
   "cell_type": "markdown",
   "metadata": {
    "deletable": true,
    "editable": true
   },
   "source": [
    "There shouldn't be any difference between these, so let's look at exactly how many and which compounds are showing a difference in degree features for Pharmacologic Class"
   ]
  },
  {
   "cell_type": "code",
   "execution_count": 9,
   "metadata": {
    "collapsed": false,
    "deletable": true,
    "editable": true
   },
   "outputs": [
    {
     "data": {
      "text/plain": [
       "5"
      ]
     },
     "execution_count": 9,
     "metadata": {},
     "output_type": "execute_result"
    }
   ],
   "source": [
    "diff = degs.query('CiPC != degree_CiPC')[['compound_id', 'disease_id', 'CiPC', 'degree_CiPC']]\n",
    "len(set(diff['compound_id']))"
   ]
  },
  {
   "cell_type": "code",
   "execution_count": 10,
   "metadata": {
    "collapsed": false,
    "deletable": true,
    "editable": true
   },
   "outputs": [
    {
     "data": {
      "text/html": [
       "<div>\n",
       "<style>\n",
       "    .dataframe thead tr:only-child th {\n",
       "        text-align: right;\n",
       "    }\n",
       "\n",
       "    .dataframe thead th {\n",
       "        text-align: left;\n",
       "    }\n",
       "\n",
       "    .dataframe tbody tr th {\n",
       "        vertical-align: top;\n",
       "    }\n",
       "</style>\n",
       "<table border=\"1\" class=\"dataframe\">\n",
       "  <thead>\n",
       "    <tr style=\"text-align: right;\">\n",
       "      <th></th>\n",
       "      <th>compound_id</th>\n",
       "      <th>disease_id</th>\n",
       "      <th>CiPC</th>\n",
       "      <th>degree_CiPC</th>\n",
       "    </tr>\n",
       "  </thead>\n",
       "  <tbody>\n",
       "    <tr>\n",
       "      <th>917</th>\n",
       "      <td>DB00244</td>\n",
       "      <td>DOID:10652</td>\n",
       "      <td>1</td>\n",
       "      <td>4</td>\n",
       "    </tr>\n",
       "    <tr>\n",
       "      <th>1009</th>\n",
       "      <td>DB01183</td>\n",
       "      <td>DOID:10652</td>\n",
       "      <td>1</td>\n",
       "      <td>2</td>\n",
       "    </tr>\n",
       "    <tr>\n",
       "      <th>1053</th>\n",
       "      <td>DB00368</td>\n",
       "      <td>DOID:10652</td>\n",
       "      <td>2</td>\n",
       "      <td>3</td>\n",
       "    </tr>\n",
       "    <tr>\n",
       "      <th>1066</th>\n",
       "      <td>DB00338</td>\n",
       "      <td>DOID:10652</td>\n",
       "      <td>1</td>\n",
       "      <td>2</td>\n",
       "    </tr>\n",
       "    <tr>\n",
       "      <th>1195</th>\n",
       "      <td>DB00860</td>\n",
       "      <td>DOID:10652</td>\n",
       "      <td>1</td>\n",
       "      <td>2</td>\n",
       "    </tr>\n",
       "  </tbody>\n",
       "</table>\n",
       "</div>"
      ],
      "text/plain": [
       "     compound_id  disease_id  CiPC  degree_CiPC\n",
       "917      DB00244  DOID:10652     1            4\n",
       "1009     DB01183  DOID:10652     1            2\n",
       "1053     DB00368  DOID:10652     2            3\n",
       "1066     DB00338  DOID:10652     1            2\n",
       "1195     DB00860  DOID:10652     1            2"
      ]
     },
     "execution_count": 10,
     "metadata": {},
     "output_type": "execute_result"
    }
   ],
   "source": [
    "diff.drop_duplicates(subset='compound_id')"
   ]
  },
  {
   "cell_type": "markdown",
   "metadata": {
    "deletable": true,
    "editable": true
   },
   "source": [
    "Spot checking the first compound (DB00244) in the included .csv, I found it to have only 1 `includes_PCiC` edge. Therefore, the .csv I have may be a subtly different version of the network than that used for the computations in the original [learn]('https://github.com/dhimmel/learn') pipline."
   ]
  },
  {
   "cell_type": "markdown",
   "metadata": {
    "deletable": true,
    "editable": true
   },
   "source": [
    "# DWPC Comparisons\n",
    "\n",
    "There are some metapaths that we know we cannot produce the exact same results.  However, lets see how many we can get exact, what the charactersitic of the paths are where we can't get them, and how different the results are."
   ]
  },
  {
   "cell_type": "code",
   "execution_count": 11,
   "metadata": {
    "collapsed": false,
    "deletable": true,
    "editable": true
   },
   "outputs": [
    {
     "data": {
      "text/html": [
       "<div>\n",
       "<style>\n",
       "    .dataframe thead tr:only-child th {\n",
       "        text-align: right;\n",
       "    }\n",
       "\n",
       "    .dataframe thead th {\n",
       "        text-align: left;\n",
       "    }\n",
       "\n",
       "    .dataframe tbody tr th {\n",
       "        vertical-align: top;\n",
       "    }\n",
       "</style>\n",
       "<table border=\"1\" class=\"dataframe\">\n",
       "  <thead>\n",
       "    <tr style=\"text-align: right;\">\n",
       "      <th></th>\n",
       "      <th>hetnet</th>\n",
       "      <th>compound_id</th>\n",
       "      <th>disease_id</th>\n",
       "      <th>status</th>\n",
       "      <th>primary</th>\n",
       "      <th>disease_name</th>\n",
       "      <th>compound_name</th>\n",
       "      <th>prior_prob</th>\n",
       "      <th>CbG</th>\n",
       "      <th>CcSE</th>\n",
       "      <th>...</th>\n",
       "      <th>CuGuDpCpD</th>\n",
       "      <th>CuGuDpCtD</th>\n",
       "      <th>CuGuDpSpD</th>\n",
       "      <th>CuGuDrD</th>\n",
       "      <th>CuGuDrDrD</th>\n",
       "      <th>CuGuDtCpD</th>\n",
       "      <th>CuGuDtCtD</th>\n",
       "      <th>CuGuDuGaD</th>\n",
       "      <th>CuGuDuGdD</th>\n",
       "      <th>CuGuDuGuD</th>\n",
       "    </tr>\n",
       "  </thead>\n",
       "  <tbody>\n",
       "    <tr>\n",
       "      <th>0</th>\n",
       "      <td>rephetio-v2.0_perm-5</td>\n",
       "      <td>DB00014</td>\n",
       "      <td>DOID:0060073</td>\n",
       "      <td>0</td>\n",
       "      <td>1</td>\n",
       "      <td>lymphatic system cancer</td>\n",
       "      <td>Goserelin</td>\n",
       "      <td>0.022675</td>\n",
       "      <td>2</td>\n",
       "      <td>249</td>\n",
       "      <td>...</td>\n",
       "      <td>0.0</td>\n",
       "      <td>0.0</td>\n",
       "      <td>0.0</td>\n",
       "      <td>0.0</td>\n",
       "      <td>0.0</td>\n",
       "      <td>0.0</td>\n",
       "      <td>0.000000</td>\n",
       "      <td>0.000000</td>\n",
       "      <td>0.0</td>\n",
       "      <td>0.0</td>\n",
       "    </tr>\n",
       "    <tr>\n",
       "      <th>1</th>\n",
       "      <td>rephetio-v2.0</td>\n",
       "      <td>DB00091</td>\n",
       "      <td>DOID:0060073</td>\n",
       "      <td>0</td>\n",
       "      <td>1</td>\n",
       "      <td>lymphatic system cancer</td>\n",
       "      <td>Cyclosporine</td>\n",
       "      <td>0.047417</td>\n",
       "      <td>30</td>\n",
       "      <td>344</td>\n",
       "      <td>...</td>\n",
       "      <td>0.0</td>\n",
       "      <td>0.0</td>\n",
       "      <td>0.0</td>\n",
       "      <td>0.0</td>\n",
       "      <td>0.0</td>\n",
       "      <td>0.0</td>\n",
       "      <td>0.028591</td>\n",
       "      <td>0.004754</td>\n",
       "      <td>0.0</td>\n",
       "      <td>0.0</td>\n",
       "    </tr>\n",
       "  </tbody>\n",
       "</table>\n",
       "<p>2 rows × 1230 columns</p>\n",
       "</div>"
      ],
      "text/plain": [
       "                 hetnet compound_id    disease_id  status  primary  \\\n",
       "0  rephetio-v2.0_perm-5     DB00014  DOID:0060073       0        1   \n",
       "1         rephetio-v2.0     DB00091  DOID:0060073       0        1   \n",
       "\n",
       "              disease_name compound_name  prior_prob  CbG  CcSE    ...      \\\n",
       "0  lymphatic system cancer     Goserelin    0.022675    2   249    ...       \n",
       "1  lymphatic system cancer  Cyclosporine    0.047417   30   344    ...       \n",
       "\n",
       "   CuGuDpCpD  CuGuDpCtD  CuGuDpSpD  CuGuDrD  CuGuDrDrD  CuGuDtCpD  CuGuDtCtD  \\\n",
       "0        0.0        0.0        0.0      0.0        0.0        0.0   0.000000   \n",
       "1        0.0        0.0        0.0      0.0        0.0        0.0   0.028591   \n",
       "\n",
       "   CuGuDuGaD  CuGuDuGdD  CuGuDuGuD  \n",
       "0   0.000000        0.0        0.0  \n",
       "1   0.004754        0.0        0.0  \n",
       "\n",
       "[2 rows x 1230 columns]"
      ]
     },
     "execution_count": 11,
     "metadata": {},
     "output_type": "execute_result"
    }
   ],
   "source": [
    "orig_dwpc = pd.read_table('../../../store/projects/learn/all-features/data/matrix/features.tsv.bz2')\n",
    "orig_dwpc.head(2)"
   ]
  },
  {
   "cell_type": "code",
   "execution_count": 12,
   "metadata": {
    "collapsed": false,
    "deletable": true,
    "editable": true,
    "scrolled": true
   },
   "outputs": [
    {
     "data": {
      "text/html": [
       "<div>\n",
       "<style>\n",
       "    .dataframe thead tr:only-child th {\n",
       "        text-align: right;\n",
       "    }\n",
       "\n",
       "    .dataframe thead th {\n",
       "        text-align: left;\n",
       "    }\n",
       "\n",
       "    .dataframe tbody tr th {\n",
       "        vertical-align: top;\n",
       "    }\n",
       "</style>\n",
       "<table border=\"1\" class=\"dataframe\">\n",
       "  <thead>\n",
       "    <tr style=\"text-align: right;\">\n",
       "      <th></th>\n",
       "      <th>hetnet</th>\n",
       "      <th>compound_id</th>\n",
       "      <th>disease_id</th>\n",
       "      <th>status</th>\n",
       "      <th>primary</th>\n",
       "      <th>disease_name</th>\n",
       "      <th>compound_name</th>\n",
       "      <th>prior_prob</th>\n",
       "      <th>CbG</th>\n",
       "      <th>CcSE</th>\n",
       "      <th>...</th>\n",
       "      <th>CuGuDpCpD</th>\n",
       "      <th>CuGuDpCtD</th>\n",
       "      <th>CuGuDpSpD</th>\n",
       "      <th>CuGuDrD</th>\n",
       "      <th>CuGuDrDrD</th>\n",
       "      <th>CuGuDtCpD</th>\n",
       "      <th>CuGuDtCtD</th>\n",
       "      <th>CuGuDuGaD</th>\n",
       "      <th>CuGuDuGdD</th>\n",
       "      <th>CuGuDuGuD</th>\n",
       "    </tr>\n",
       "  </thead>\n",
       "  <tbody>\n",
       "    <tr>\n",
       "      <th>1</th>\n",
       "      <td>rephetio-v2.0</td>\n",
       "      <td>DB00091</td>\n",
       "      <td>DOID:0060073</td>\n",
       "      <td>0</td>\n",
       "      <td>1</td>\n",
       "      <td>lymphatic system cancer</td>\n",
       "      <td>Cyclosporine</td>\n",
       "      <td>0.047417</td>\n",
       "      <td>30</td>\n",
       "      <td>344</td>\n",
       "      <td>...</td>\n",
       "      <td>0.0</td>\n",
       "      <td>0.0</td>\n",
       "      <td>0.0</td>\n",
       "      <td>0.0</td>\n",
       "      <td>0.0</td>\n",
       "      <td>0.0</td>\n",
       "      <td>0.028591</td>\n",
       "      <td>0.004754</td>\n",
       "      <td>0.0</td>\n",
       "      <td>0.0</td>\n",
       "    </tr>\n",
       "    <tr>\n",
       "      <th>13</th>\n",
       "      <td>rephetio-v2.0</td>\n",
       "      <td>DB00206</td>\n",
       "      <td>DOID:0060073</td>\n",
       "      <td>0</td>\n",
       "      <td>1</td>\n",
       "      <td>lymphatic system cancer</td>\n",
       "      <td>Reserpine</td>\n",
       "      <td>0.011069</td>\n",
       "      <td>8</td>\n",
       "      <td>43</td>\n",
       "      <td>...</td>\n",
       "      <td>0.0</td>\n",
       "      <td>0.0</td>\n",
       "      <td>0.0</td>\n",
       "      <td>0.0</td>\n",
       "      <td>0.0</td>\n",
       "      <td>0.0</td>\n",
       "      <td>0.003003</td>\n",
       "      <td>0.001488</td>\n",
       "      <td>0.0</td>\n",
       "      <td>0.0</td>\n",
       "    </tr>\n",
       "  </tbody>\n",
       "</table>\n",
       "<p>2 rows × 1230 columns</p>\n",
       "</div>"
      ],
      "text/plain": [
       "           hetnet compound_id    disease_id  status  primary  \\\n",
       "1   rephetio-v2.0     DB00091  DOID:0060073       0        1   \n",
       "13  rephetio-v2.0     DB00206  DOID:0060073       0        1   \n",
       "\n",
       "               disease_name compound_name  prior_prob  CbG  CcSE    ...      \\\n",
       "1   lymphatic system cancer  Cyclosporine    0.047417   30   344    ...       \n",
       "13  lymphatic system cancer     Reserpine    0.011069    8    43    ...       \n",
       "\n",
       "    CuGuDpCpD  CuGuDpCtD  CuGuDpSpD  CuGuDrD  CuGuDrDrD  CuGuDtCpD  CuGuDtCtD  \\\n",
       "1         0.0        0.0        0.0      0.0        0.0        0.0   0.028591   \n",
       "13        0.0        0.0        0.0      0.0        0.0        0.0   0.003003   \n",
       "\n",
       "    CuGuDuGaD  CuGuDuGdD  CuGuDuGuD  \n",
       "1    0.004754        0.0        0.0  \n",
       "13   0.001488        0.0        0.0  \n",
       "\n",
       "[2 rows x 1230 columns]"
      ]
     },
     "execution_count": 12,
     "metadata": {},
     "output_type": "execute_result"
    }
   ],
   "source": [
    "orig_dwpc = orig_dwpc.loc[orig_dwpc['hetnet'] == 'rephetio-v2.0']\n",
    "orig_dwpc.head(2)"
   ]
  },
  {
   "cell_type": "code",
   "execution_count": 13,
   "metadata": {
    "collapsed": false,
    "deletable": true,
    "editable": true
   },
   "outputs": [
    {
     "data": {
      "text/html": [
       "<div>\n",
       "<style>\n",
       "    .dataframe thead tr:only-child th {\n",
       "        text-align: right;\n",
       "    }\n",
       "\n",
       "    .dataframe thead th {\n",
       "        text-align: left;\n",
       "    }\n",
       "\n",
       "    .dataframe tbody tr th {\n",
       "        vertical-align: top;\n",
       "    }\n",
       "</style>\n",
       "<table border=\"1\" class=\"dataframe\">\n",
       "  <thead>\n",
       "    <tr style=\"text-align: right;\">\n",
       "      <th></th>\n",
       "      <th>compound_id</th>\n",
       "      <th>disease_id</th>\n",
       "      <th>CuGr&gt;GdCtD</th>\n",
       "      <th>CpDaGbCpD</th>\n",
       "      <th>CbGuCpD</th>\n",
       "      <th>CbGdAlD</th>\n",
       "      <th>CbGr&gt;GcGdD</th>\n",
       "      <th>CdGr&gt;GcGdD</th>\n",
       "      <th>CtDaG&lt;rGdD</th>\n",
       "      <th>CrCdGbCpD</th>\n",
       "      <th>...</th>\n",
       "      <th>CbGdCdGaD</th>\n",
       "      <th>CdGcGdCtD</th>\n",
       "      <th>CdGpMFpGaD</th>\n",
       "      <th>CpDtCdGdD</th>\n",
       "      <th>CuGuCtDrD</th>\n",
       "      <th>CpDaGuCpD</th>\n",
       "      <th>CtDuGcGaD</th>\n",
       "      <th>CdG&lt;rGbCtD</th>\n",
       "      <th>CbGuDpCtD</th>\n",
       "      <th>CuGcGuCpD</th>\n",
       "    </tr>\n",
       "  </thead>\n",
       "  <tbody>\n",
       "    <tr>\n",
       "      <th>0</th>\n",
       "      <td>DB00014</td>\n",
       "      <td>DOID:0050156</td>\n",
       "      <td>0.0</td>\n",
       "      <td>0.0</td>\n",
       "      <td>0.0</td>\n",
       "      <td>0.000000</td>\n",
       "      <td>0.0</td>\n",
       "      <td>0.0</td>\n",
       "      <td>0.01941</td>\n",
       "      <td>0.0</td>\n",
       "      <td>...</td>\n",
       "      <td>0.0</td>\n",
       "      <td>0.0</td>\n",
       "      <td>0.0</td>\n",
       "      <td>0.0</td>\n",
       "      <td>0.001531</td>\n",
       "      <td>0.0</td>\n",
       "      <td>0.001097</td>\n",
       "      <td>0.0</td>\n",
       "      <td>0.0</td>\n",
       "      <td>0.0</td>\n",
       "    </tr>\n",
       "    <tr>\n",
       "      <th>1</th>\n",
       "      <td>DB00014</td>\n",
       "      <td>DOID:0050425</td>\n",
       "      <td>0.0</td>\n",
       "      <td>0.0</td>\n",
       "      <td>0.0</td>\n",
       "      <td>0.001169</td>\n",
       "      <td>0.0</td>\n",
       "      <td>0.0</td>\n",
       "      <td>0.00000</td>\n",
       "      <td>0.0</td>\n",
       "      <td>...</td>\n",
       "      <td>0.0</td>\n",
       "      <td>0.0</td>\n",
       "      <td>0.0</td>\n",
       "      <td>0.0</td>\n",
       "      <td>0.000000</td>\n",
       "      <td>0.0</td>\n",
       "      <td>0.006073</td>\n",
       "      <td>0.0</td>\n",
       "      <td>0.0</td>\n",
       "      <td>0.0</td>\n",
       "    </tr>\n",
       "  </tbody>\n",
       "</table>\n",
       "<p>2 rows × 1208 columns</p>\n",
       "</div>"
      ],
      "text/plain": [
       "  compound_id    disease_id  CuGr>GdCtD  CpDaGbCpD  CbGuCpD   CbGdAlD  \\\n",
       "0     DB00014  DOID:0050156         0.0        0.0      0.0  0.000000   \n",
       "1     DB00014  DOID:0050425         0.0        0.0      0.0  0.001169   \n",
       "\n",
       "   CbGr>GcGdD  CdGr>GcGdD  CtDaG<rGdD  CrCdGbCpD    ...      CbGdCdGaD  \\\n",
       "0         0.0         0.0     0.01941        0.0    ...            0.0   \n",
       "1         0.0         0.0     0.00000        0.0    ...            0.0   \n",
       "\n",
       "   CdGcGdCtD  CdGpMFpGaD  CpDtCdGdD  CuGuCtDrD  CpDaGuCpD  CtDuGcGaD  \\\n",
       "0        0.0         0.0        0.0   0.001531        0.0   0.001097   \n",
       "1        0.0         0.0        0.0   0.000000        0.0   0.006073   \n",
       "\n",
       "   CdG<rGbCtD  CbGuDpCtD  CuGcGuCpD  \n",
       "0         0.0        0.0        0.0  \n",
       "1         0.0        0.0        0.0  \n",
       "\n",
       "[2 rows x 1208 columns]"
      ]
     },
     "execution_count": 13,
     "metadata": {},
     "output_type": "execute_result"
    }
   ],
   "source": [
    "mat_dwpc = pd.read_table('dwpc-features.tsv.bz2')\n",
    "mat_dwpc.head(2)"
   ]
  },
  {
   "cell_type": "code",
   "execution_count": 14,
   "metadata": {
    "collapsed": false,
    "deletable": true,
    "editable": true
   },
   "outputs": [],
   "source": [
    "m = pd.merge(orig_dwpc, mat_dwpc, how='left', on=['compound_id', 'disease_id'], suffixes=('', '_mat'))"
   ]
  },
  {
   "cell_type": "code",
   "execution_count": 15,
   "metadata": {
    "collapsed": false,
    "deletable": true,
    "editable": true
   },
   "outputs": [
    {
     "data": {
      "text/html": [
       "<div>\n",
       "<style>\n",
       "    .dataframe thead tr:only-child th {\n",
       "        text-align: right;\n",
       "    }\n",
       "\n",
       "    .dataframe thead th {\n",
       "        text-align: left;\n",
       "    }\n",
       "\n",
       "    .dataframe tbody tr th {\n",
       "        vertical-align: top;\n",
       "    }\n",
       "</style>\n",
       "<table border=\"1\" class=\"dataframe\">\n",
       "  <thead>\n",
       "    <tr style=\"text-align: right;\">\n",
       "      <th></th>\n",
       "      <th>hetnet</th>\n",
       "      <th>compound_id</th>\n",
       "      <th>disease_id</th>\n",
       "      <th>status</th>\n",
       "      <th>primary</th>\n",
       "      <th>disease_name</th>\n",
       "      <th>compound_name</th>\n",
       "      <th>prior_prob</th>\n",
       "      <th>CbG</th>\n",
       "      <th>CcSE</th>\n",
       "      <th>...</th>\n",
       "      <th>CbGdCdGaD_mat</th>\n",
       "      <th>CdGcGdCtD_mat</th>\n",
       "      <th>CdGpMFpGaD_mat</th>\n",
       "      <th>CpDtCdGdD_mat</th>\n",
       "      <th>CuGuCtDrD_mat</th>\n",
       "      <th>CpDaGuCpD_mat</th>\n",
       "      <th>CtDuGcGaD_mat</th>\n",
       "      <th>CdG&lt;rGbCtD_mat</th>\n",
       "      <th>CbGuDpCtD_mat</th>\n",
       "      <th>CuGcGuCpD_mat</th>\n",
       "    </tr>\n",
       "  </thead>\n",
       "  <tbody>\n",
       "    <tr>\n",
       "      <th>0</th>\n",
       "      <td>rephetio-v2.0</td>\n",
       "      <td>DB00091</td>\n",
       "      <td>DOID:0060073</td>\n",
       "      <td>0</td>\n",
       "      <td>1</td>\n",
       "      <td>lymphatic system cancer</td>\n",
       "      <td>Cyclosporine</td>\n",
       "      <td>0.047417</td>\n",
       "      <td>30</td>\n",
       "      <td>344</td>\n",
       "      <td>...</td>\n",
       "      <td>0.00025</td>\n",
       "      <td>0.003360</td>\n",
       "      <td>0.006881</td>\n",
       "      <td>0.0</td>\n",
       "      <td>0.0</td>\n",
       "      <td>0.0</td>\n",
       "      <td>0.0</td>\n",
       "      <td>0.01623</td>\n",
       "      <td>0.0</td>\n",
       "      <td>0.0</td>\n",
       "    </tr>\n",
       "    <tr>\n",
       "      <th>1</th>\n",
       "      <td>rephetio-v2.0</td>\n",
       "      <td>DB00206</td>\n",
       "      <td>DOID:0060073</td>\n",
       "      <td>0</td>\n",
       "      <td>1</td>\n",
       "      <td>lymphatic system cancer</td>\n",
       "      <td>Reserpine</td>\n",
       "      <td>0.011069</td>\n",
       "      <td>8</td>\n",
       "      <td>43</td>\n",
       "      <td>...</td>\n",
       "      <td>0.00000</td>\n",
       "      <td>0.001451</td>\n",
       "      <td>0.003488</td>\n",
       "      <td>0.0</td>\n",
       "      <td>0.0</td>\n",
       "      <td>0.0</td>\n",
       "      <td>0.0</td>\n",
       "      <td>0.01041</td>\n",
       "      <td>0.0</td>\n",
       "      <td>0.0</td>\n",
       "    </tr>\n",
       "  </tbody>\n",
       "</table>\n",
       "<p>2 rows × 2436 columns</p>\n",
       "</div>"
      ],
      "text/plain": [
       "          hetnet compound_id    disease_id  status  primary  \\\n",
       "0  rephetio-v2.0     DB00091  DOID:0060073       0        1   \n",
       "1  rephetio-v2.0     DB00206  DOID:0060073       0        1   \n",
       "\n",
       "              disease_name compound_name  prior_prob  CbG  CcSE  \\\n",
       "0  lymphatic system cancer  Cyclosporine    0.047417   30   344   \n",
       "1  lymphatic system cancer     Reserpine    0.011069    8    43   \n",
       "\n",
       "       ...        CbGdCdGaD_mat  CdGcGdCtD_mat  CdGpMFpGaD_mat  CpDtCdGdD_mat  \\\n",
       "0      ...              0.00025       0.003360        0.006881            0.0   \n",
       "1      ...              0.00000       0.001451        0.003488            0.0   \n",
       "\n",
       "   CuGuCtDrD_mat  CpDaGuCpD_mat  CtDuGcGaD_mat  CdG<rGbCtD_mat  CbGuDpCtD_mat  \\\n",
       "0            0.0            0.0            0.0         0.01623            0.0   \n",
       "1            0.0            0.0            0.0         0.01041            0.0   \n",
       "\n",
       "   CuGcGuCpD_mat  \n",
       "0            0.0  \n",
       "1            0.0  \n",
       "\n",
       "[2 rows x 2436 columns]"
      ]
     },
     "execution_count": 15,
     "metadata": {},
     "output_type": "execute_result"
    }
   ],
   "source": [
    "m.head(2)"
   ]
  },
  {
   "cell_type": "code",
   "execution_count": 16,
   "metadata": {
    "collapsed": true,
    "deletable": true,
    "editable": true
   },
   "outputs": [],
   "source": [
    "def is_same(old_dwpc, new_dwpc):\n",
    "    diff = new_dwpc - old_dwpc\n",
    "    return (abs(diff) > .0001).sum() == 0"
   ]
  },
  {
   "cell_type": "markdown",
   "metadata": {
    "deletable": true,
    "editable": true
   },
   "source": [
    "#### CbGaD\n",
    "\n",
    "Should produce the same results since no metanodes are repeated"
   ]
  },
  {
   "cell_type": "code",
   "execution_count": 17,
   "metadata": {
    "collapsed": false,
    "deletable": true,
    "editable": true
   },
   "outputs": [
    {
     "data": {
      "text/plain": [
       "True"
      ]
     },
     "execution_count": 17,
     "metadata": {},
     "output_type": "execute_result"
    }
   ],
   "source": [
    "is_same(m['CbGaD'], m['CbGaD_mat'])"
   ]
  },
  {
   "cell_type": "markdown",
   "metadata": {
    "deletable": true,
    "editable": true
   },
   "source": [
    "#### CuGuDtCtD\n",
    "\n",
    "Should not produce the same results because 'Compound' and 'Gene' metanodes are both repeated in a manner where the visitations between these two metanodes are split."
   ]
  },
  {
   "cell_type": "code",
   "execution_count": 18,
   "metadata": {
    "collapsed": false,
    "deletable": true,
    "editable": true
   },
   "outputs": [
    {
     "data": {
      "text/plain": [
       "False"
      ]
     },
     "execution_count": 18,
     "metadata": {},
     "output_type": "execute_result"
    }
   ],
   "source": [
    "is_same(m['CuGuDtCtD'], m['CuGuDtCtD_mat'])"
   ]
  },
  {
   "cell_type": "markdown",
   "metadata": {
    "deletable": true,
    "editable": true
   },
   "source": [
    "## How many Metapaths are different and which are they?"
   ]
  },
  {
   "cell_type": "code",
   "execution_count": 19,
   "metadata": {
    "collapsed": false,
    "deletable": true,
    "editable": true
   },
   "outputs": [
    {
     "name": "stdout",
     "output_type": "stream",
     "text": [
      "1088 / 1206 = 90.22%\n"
     ]
    }
   ],
   "source": [
    "metapaths = list(orig_dwpc.columns)[24:]\n",
    "\n",
    "res = 0\n",
    "for mp in metapaths:\n",
    "    res += is_same(m[mp], m[mp+'_mat'])\n",
    "print('{} / {} = {:1.2%}'.format(res, len(metapaths), (res/len(metapaths))))"
   ]
  },
  {
   "cell_type": "code",
   "execution_count": 20,
   "metadata": {
    "collapsed": true,
    "deletable": true,
    "editable": true
   },
   "outputs": [],
   "source": [
    "def num_diff(old_dwpc, new_dwpc):\n",
    "    diff = new_dwpc - old_dwpc\n",
    "    return sum(abs(diff) > 0.0001)\n",
    "\n",
    "def max_diff(old_dwpc, new_dwpc):\n",
    "    diff = new_dwpc - old_dwpc\n",
    "    return max(abs(diff))\n",
    "\n",
    "def avg_diff(old_dwpc, new_dwpc):\n",
    "    diff = new_dwpc - old_dwpc\n",
    "    return diff[abs(diff) > .0001].mean()"
   ]
  },
  {
   "cell_type": "code",
   "execution_count": 21,
   "metadata": {
    "collapsed": false,
    "deletable": true,
    "editable": true,
    "scrolled": true
   },
   "outputs": [
    {
     "data": {
      "text/html": [
       "<div>\n",
       "<style>\n",
       "    .dataframe thead tr:only-child th {\n",
       "        text-align: right;\n",
       "    }\n",
       "\n",
       "    .dataframe thead th {\n",
       "        text-align: left;\n",
       "    }\n",
       "\n",
       "    .dataframe tbody tr th {\n",
       "        vertical-align: top;\n",
       "    }\n",
       "</style>\n",
       "<table border=\"1\" class=\"dataframe\">\n",
       "  <thead>\n",
       "    <tr style=\"text-align: right;\">\n",
       "      <th></th>\n",
       "      <th>avg_diff</th>\n",
       "      <th>max_diff</th>\n",
       "      <th>num_diff</th>\n",
       "    </tr>\n",
       "  </thead>\n",
       "  <tbody>\n",
       "    <tr>\n",
       "      <th>CbGaDaGaD</th>\n",
       "      <td>0.000118</td>\n",
       "      <td>0.004563</td>\n",
       "      <td>489</td>\n",
       "    </tr>\n",
       "    <tr>\n",
       "      <th>CbGaDaGdD</th>\n",
       "      <td>0.000146</td>\n",
       "      <td>0.000345</td>\n",
       "      <td>15</td>\n",
       "    </tr>\n",
       "    <tr>\n",
       "      <th>CbGaDaGuD</th>\n",
       "      <td>0.000175</td>\n",
       "      <td>0.000280</td>\n",
       "      <td>40</td>\n",
       "    </tr>\n",
       "    <tr>\n",
       "      <th>CbGaDdGaD</th>\n",
       "      <td>-0.000192</td>\n",
       "      <td>0.000192</td>\n",
       "      <td>1</td>\n",
       "    </tr>\n",
       "    <tr>\n",
       "      <th>CbGaDdGdD</th>\n",
       "      <td>-0.000448</td>\n",
       "      <td>0.000448</td>\n",
       "      <td>1</td>\n",
       "    </tr>\n",
       "  </tbody>\n",
       "</table>\n",
       "</div>"
      ],
      "text/plain": [
       "           avg_diff  max_diff  num_diff\n",
       "CbGaDaGaD  0.000118  0.004563       489\n",
       "CbGaDaGdD  0.000146  0.000345        15\n",
       "CbGaDaGuD  0.000175  0.000280        40\n",
       "CbGaDdGaD -0.000192  0.000192         1\n",
       "CbGaDdGdD -0.000448  0.000448         1"
      ]
     },
     "execution_count": 21,
     "metadata": {},
     "output_type": "execute_result"
    }
   ],
   "source": [
    "dmps = []\n",
    "nd = []\n",
    "md = []\n",
    "ad = []\n",
    "\n",
    "for mp in metapaths:\n",
    "    o = m[mp]\n",
    "    n = m[mp+'_mat']\n",
    "    \n",
    "    if not is_same(o, n):\n",
    "        dmps.append(mp)\n",
    "        nd.append(num_diff(o, n))\n",
    "        md.append(max_diff(o, n))\n",
    "        ad.append(avg_diff(o, n))\n",
    "        \n",
    "result = pd.DataFrame({'num_diff': nd, 'max_diff': md, 'avg_diff': ad}, index=dmps)\n",
    "result.head()"
   ]
  },
  {
   "cell_type": "code",
   "execution_count": 22,
   "metadata": {
    "collapsed": false,
    "deletable": true,
    "editable": true
   },
   "outputs": [
    {
     "name": "stdout",
     "output_type": "stream",
     "text": [
      "CbGaDaGaD, CbGaDaGdD, CbGaDaGuD, CbGaDdGaD, CbGaDdGdD, CbGaDtCtD, CbGaDuGaD, \n",
      "CbGbCbGaD, CbGbCbGdD, CbGbCbGuD, CbGbCuGdD, CbGbCuGuD, CbGdCdGaD, CbGdCdGdD, \n",
      "CbGdCdGuD, CbGdDaGaD, CbGdDaGuD, CbGdDdGaD, CbGdDdGdD, CbGdDtCtD, CbGuCuGaD, \n",
      "CbGuCuGdD, CbGuCuGuD, CbGuDaGaD, CbGuDtCtD, CbGuDuGaD, CbGuDuGuD, CdGaDaGaD, \n",
      "CdGaDaGdD, CdGaDaGuD, CdGaDdGaD, CdGaDtCtD, CdGbCbGaD, CdGbCbGuD, CdGdCdGaD, \n",
      "CdGdCdGdD, CdGdCdGuD, CdGdDaGaD, CdGdDdGaD, CdGdDdGdD, CdGdDtCtD, CdGuDpCpD, \n",
      "CdGuDtCtD, CdGuDuGaD, CdGuDuGuD, CpDaGbCpD, CpDaGdCpD, CpDpCbGaD, CpDpCbGdD, \n",
      "CpDpCdGuD, CpDpCpD, CpDpCpDrD, CpDpCrCpD, CpDpCtDrD, CpDrDpCpD, CpDrDrDrD, \n",
      "CpDrDtCpD, CpDrDtCtD, CpDuGbCpD, CpDuGdCpD, CrCpDpCpD, CrCpDtCtD, CrCrCrCpD, \n",
      "CrCrCrCtD, CrCtDtCtD, CtDaGbCtD, CtDaGdCtD, CtDaGuCtD, CtDdGbCtD, CtDdGdCtD, \n",
      "CtDdGuCtD, CtDpCrCtD, CtDrDpCpD, CtDrDpCtD, CtDrDrDrD, CtDrDtCtD, CtDtCbGaD, \n",
      "CtDtCbGdD, CtDtCbGuD, CtDtCdGaD, CtDtCdGdD, CtDtCdGuD, CtDtCpDrD, CtDtCrCpD, \n",
      "CtDtCrCtD, CtDtCtD, CtDtCtDrD, CtDtCuGaD, CtDtCuGdD, CtDtCuGuD, CtDuGbCtD, \n",
      "CtDuGdCtD, CtDuGuCtD, CuGaDaGaD, CuGaDaGdD, CuGaDaGuD, CuGaDdGaD, CuGaDdGdD, \n",
      "CuGaDpCpD, CuGaDtCtD, CuGaDuGaD, CuGbCbGaD, CuGbCbGdD, CuGbCbGuD, CuGdDaGaD, \n",
      "CuGdDaGdD, CuGdDdGaD, CuGdDdGdD, CuGdDtCtD, CuGuCbGaD, CuGuCbGuD, CuGuCuGaD, \n",
      "CuGuCuGdD, CuGuCuGuD, CuGuDaGaD, CuGuDtCtD, CuGuDuGaD, CuGuDuGuD, "
     ]
    }
   ],
   "source": [
    "for i, mp in enumerate(dmps):\n",
    "    print(mp, end=', ')\n",
    "    if (i+1) % 7 == 0:\n",
    "        print('')"
   ]
  },
  {
   "cell_type": "markdown",
   "metadata": {
    "deletable": true,
    "editable": true
   },
   "source": [
    "Looking at all the metapaths that did not produce the same result as Neo4j, they all have either the ABAB problem, or an AAAA issue... Now have 90.5"
   ]
  },
  {
   "cell_type": "code",
   "execution_count": null,
   "metadata": {
    "collapsed": false,
    "deletable": true,
    "editable": true
   },
   "outputs": [],
   "source": [
    "sns.pairplot(result)"
   ]
  },
  {
   "cell_type": "markdown",
   "metadata": {
    "deletable": true,
    "editable": true
   },
   "source": [
    "The Avergage Difference, Max Difference, and total Number Different seem small for most metapaths, however there are a few with some larger values.\n",
    "\n",
    "Also, there seems to be some correlation between the Max Difference and the Average Difference, which isn't too surprising, but not much in the way of correlation between the Number of differences and the other variables"
   ]
  },
  {
   "cell_type": "markdown",
   "metadata": {
    "deletable": true,
    "editable": true
   },
   "source": [
    "## Looking at some of the larger differences"
   ]
  },
  {
   "cell_type": "code",
   "execution_count": null,
   "metadata": {
    "collapsed": true,
    "deletable": true,
    "editable": true
   },
   "outputs": [],
   "source": [
    "def plot_difference(old_dwpc, new_dwpc):\n",
    "    diff = new_dwpc - old_dwpc\n",
    "    \n",
    "    dwpc_nonzero = (old_dwpc != 0).sum()\n",
    "    mat_nonzero = (new_dwpc != 0).sum()\n",
    "    became_nonzero = ((old_dwpc == 0) & (new_dwpc != 0)).sum()\n",
    "    \n",
    "    num_different = (abs(diff) > 0.0001).sum()\n",
    "    sns.distplot(diff[abs(diff) > .0001], kde=False, rug=True)\n",
    "    \n",
    "    feature = old_dwpc.name\n",
    "    \n",
    "    text = \"\"\"\n",
    "    Non-Zero DWPC values (no-replacement): {}\n",
    "    Zero DWPC values that became Non-Zero: {}\n",
    "    Total number of values that changed: {}\"\"\".format(dwpc_nonzero, became_nonzero, num_different)\n",
    "    \n",
    "    xlim = plt.gca().get_xlim()\n",
    "    ylim = plt.gca().get_ylim()\n",
    "    \n",
    "    x_mid = (xlim[1] + xlim[0]) / 2\n",
    "    y_mid = (ylim[1] + ylim[0]) / 2\n",
    "    \n",
    "    plt.text(2*x_mid/3, 3*y_mid/2, text)\n",
    "    plt.xlabel('Difference in DWPC calculation (Neo4j - Matrix)')\n",
    "    plt.ylabel('Frequency')\n",
    "    plt.title('Distribution of differences of calcualtion of feature {}'.format(feature))\n",
    "    \n",
    "def compare_metapath(mp):\n",
    "    if is_same(m[mp], m[mp+'_mat']):\n",
    "        print('The Neo4j and Matrix calculations are the same for metapath {}'.format(mp))\n",
    "    else:\n",
    "        plot_difference(m[mp], m[mp+'_mat'])"
   ]
  },
  {
   "cell_type": "markdown",
   "metadata": {
    "deletable": true,
    "editable": true
   },
   "source": [
    "### Max Differences\n",
    "\n",
    "Look at the metapaths with the largest maximum difference between neo4j and maxtrix calculations"
   ]
  },
  {
   "cell_type": "code",
   "execution_count": null,
   "metadata": {
    "collapsed": false,
    "deletable": true,
    "editable": true,
    "scrolled": false
   },
   "outputs": [],
   "source": [
    "compare_metapath(result['max_diff'].sort_values(ascending=False).index[0])"
   ]
  },
  {
   "cell_type": "code",
   "execution_count": null,
   "metadata": {
    "collapsed": false,
    "deletable": true,
    "editable": true
   },
   "outputs": [],
   "source": [
    "compare_metapath(result['max_diff'].sort_values(ascending=False).index[1])"
   ]
  },
  {
   "cell_type": "markdown",
   "metadata": {
    "deletable": true,
    "editable": true
   },
   "source": [
    "### Avg Diff\n",
    "\n",
    "Since avg difference is correlated with max difference, looking at the largest wouldn't show much difference.  So lets look at some of the smallest"
   ]
  },
  {
   "cell_type": "code",
   "execution_count": null,
   "metadata": {
    "collapsed": false,
    "deletable": true,
    "editable": true
   },
   "outputs": [],
   "source": [
    "compare_metapath(result['avg_diff'].sort_values(ascending=True).index[0])"
   ]
  },
  {
   "cell_type": "code",
   "execution_count": null,
   "metadata": {
    "collapsed": false,
    "deletable": true,
    "editable": true
   },
   "outputs": [],
   "source": [
    "compare_metapath(result['avg_diff'].sort_values(ascending=True).index[1])"
   ]
  },
  {
   "cell_type": "markdown",
   "metadata": {
    "deletable": true,
    "editable": true
   },
   "source": [
    "## Num Different\n",
    "\n",
    "Some have a lot of differences from the Neo4j feature extraction, but the average difference is small.  Lets examine a couple"
   ]
  },
  {
   "cell_type": "code",
   "execution_count": null,
   "metadata": {
    "collapsed": false,
    "deletable": true,
    "editable": true
   },
   "outputs": [],
   "source": [
    "compare_metapath(result['num_diff'].sort_values(ascending=False).index[0])"
   ]
  },
  {
   "cell_type": "code",
   "execution_count": null,
   "metadata": {
    "collapsed": false,
    "deletable": true,
    "editable": true
   },
   "outputs": [],
   "source": [
    "compare_metapath(result['num_diff'].sort_values(ascending=False).index[1])"
   ]
  }
 ],
 "metadata": {
  "kernelspec": {
   "display_name": "Python 3",
   "language": "python",
   "name": "python3"
  },
  "language_info": {
   "codemirror_mode": {
    "name": "ipython",
    "version": 3
   },
   "file_extension": ".py",
   "mimetype": "text/x-python",
   "name": "python",
   "nbconvert_exporter": "python",
   "pygments_lexer": "ipython3",
   "version": "3.5.3"
  }
 },
 "nbformat": 4,
 "nbformat_minor": 0
}
