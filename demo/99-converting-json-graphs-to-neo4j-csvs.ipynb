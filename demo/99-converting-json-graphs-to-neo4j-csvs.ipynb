{
 "cells": [
  {
   "cell_type": "markdown",
   "metadata": {
    "deletable": true,
    "editable": true
   },
   "source": [
    "# Convert .json.bz2 graph files to neo4j import .csv format\n",
    "\n",
    "Simple code to quickly get a saved json graph ready for neo4j import, the format of which is used by this package."
   ]
  },
  {
   "cell_type": "code",
   "execution_count": 1,
   "metadata": {
    "collapsed": true,
    "deletable": true,
    "editable": true
   },
   "outputs": [],
   "source": [
    "import bz2\n",
    "import json\n",
    "import pandas as pd\n",
    "from tqdm import tqdm"
   ]
  },
  {
   "cell_type": "code",
   "execution_count": 2,
   "metadata": {
    "collapsed": false,
    "deletable": true,
    "editable": true
   },
   "outputs": [],
   "source": [
    "def get_edge_abbrev(edge, kind_to_abbrev):\n",
    "    \"\"\"Converts a graph edge and \"\"\"\n",
    "\n",
    "    start_node = edge['source_id']\n",
    "    end_node = edge['target_id']\n",
    "    \n",
    "    edge_abbrev = ''\n",
    "    edge_abbrev += kind_to_abbrev[start_node[0]]\n",
    "\n",
    "    if edge['direction'] == 'backward':\n",
    "        edge_abbrev += '<'\n",
    "\n",
    "    edge_abbrev += kind_to_abbrev[edge['kind']]\n",
    "\n",
    "    if edge['direction'] == 'forward':\n",
    "        edge_abbrev += '>'\n",
    "\n",
    "    edge_abbrev += kind_to_abbrev[end_node[0]]\n",
    "\n",
    "    return edge_abbrev"
   ]
  },
  {
   "cell_type": "code",
   "execution_count": 3,
   "metadata": {
    "collapsed": true,
    "deletable": true,
    "editable": true
   },
   "outputs": [],
   "source": [
    "def convert_to_neo_edge(json_graph):\n",
    "    edges = {':START_ID': [], ':END_ID': [], ':TYPE': []}\n",
    "    \n",
    "    for edge in json_graph['edges']:\n",
    "        edges[':START_ID'].append(str(edge['source_id'][1]))\n",
    "        edges[':END_ID'].append(str(edge['target_id'][1]))\n",
    "       \n",
    "        edge_type = edge['kind'] + '_' + get_edge_abbrev(edge, json_graph['kind_to_abbrev'])\n",
    "        \n",
    "        edges[':TYPE'].append(edge_type)\n",
    "        \n",
    "    out = pd.DataFrame(edges)\n",
    "    out = out.sort_values([':TYPE', ':START_ID', ':END_ID'])\n",
    "    out = out.reset_index(drop=True)\n",
    "    \n",
    "    return out[[':START_ID', ':END_ID', ':TYPE']]"
   ]
  },
  {
   "cell_type": "code",
   "execution_count": 4,
   "metadata": {
    "collapsed": true,
    "deletable": true,
    "editable": true
   },
   "outputs": [],
   "source": [
    "def convert_to_neo_node(json_graph):\n",
    "    # more columns can be added, but will not be used by this package for now\n",
    "    nodes = {':ID': [], 'name': [], ':LABEL': []} \n",
    "    \n",
    "    for node in json_graph['nodes']:\n",
    "        nodes[':ID'].append(str(node['identifier']))\n",
    "        nodes['name'].append(str(node['name']))\n",
    "        nodes[':LABEL'].append(str(node['kind']))\n",
    "        \n",
    "    return pd.DataFrame(nodes)[[':ID', 'name', ':LABEL']].sort_values(':ID').reset_index(drop=True)"
   ]
  },
  {
   "cell_type": "code",
   "execution_count": 5,
   "metadata": {
    "collapsed": false,
    "deletable": true,
    "editable": true
   },
   "outputs": [
    {
     "name": "stderr",
     "output_type": "stream",
     "text": [
      "100%|██████████| 5/5 [03:04<00:00, 37.20s/it]\n"
     ]
    }
   ],
   "source": [
    "for i in tqdm(range(1, 6)):\n",
    "    with bz2.open('hetnet_perm-{}.json.bz2'.format(i), 'rt') as fin:\n",
    "        graph = json.load(fin)\n",
    "    neo_graph = convert_to_neo_edge(graph)\n",
    "    neo_graph.to_csv('hetnet_perm-{}.csv'.format(i), index=False)"
   ]
  }
 ],
 "metadata": {
  "kernelspec": {
   "display_name": "Python 3",
   "language": "python",
   "name": "python3"
  },
  "language_info": {
   "codemirror_mode": {
    "name": "ipython",
    "version": 3
   },
   "file_extension": ".py",
   "mimetype": "text/x-python",
   "name": "python",
   "nbconvert_exporter": "python",
   "pygments_lexer": "ipython3",
   "version": "3.5.3"
  }
 },
 "nbformat": 4,
 "nbformat_minor": 0
}
