{
 "cells": [
  {
   "cell_type": "code",
   "execution_count": 1,
   "metadata": {
    "collapsed": true
   },
   "outputs": [],
   "source": [
    "import pandas as pd\n",
    "import numpy as np\n",
    "%matplotlib inline\n",
    "import matplotlib.pyplot as plt"
   ]
  },
  {
   "cell_type": "code",
   "execution_count": 2,
   "metadata": {},
   "outputs": [
    {
     "name": "stderr",
     "output_type": "stream",
     "text": [
      "/home/mmayers/projects/wikidata/venv/lib/python3.5/site-packages/IPython/core/interactiveshell.py:2683: DtypeWarning: Columns (4) have mixed types. Specify dtype option on import or set low_memory=False.\n",
      "  interactivity=interactivity, compiler=compiler, result=result)\n"
     ]
    }
   ],
   "source": [
    "blacklist = pd.read_table('features/blacklist.tsv')['feature'].values\n",
    "feature_df = pd.read_table('features/transformed-no-replacement-interoplated-features.tsv.bz2')"
   ]
  },
  {
   "cell_type": "code",
   "execution_count": 3,
   "metadata": {
    "collapsed": true
   },
   "outputs": [],
   "source": [
    "feature_df.drop(blacklist, axis=1, inplace=True)"
   ]
  },
  {
   "cell_type": "code",
   "execution_count": 4,
   "metadata": {},
   "outputs": [
    {
     "data": {
      "text/html": [
       "<div>\n",
       "<table border=\"1\" class=\"dataframe\">\n",
       "  <thead>\n",
       "    <tr style=\"text-align: right;\">\n",
       "      <th></th>\n",
       "      <th>compound_id</th>\n",
       "      <th>disease_id</th>\n",
       "      <th>compound_name</th>\n",
       "      <th>disease_name</th>\n",
       "      <th>category</th>\n",
       "      <th>status</th>\n",
       "      <th>prior_prob</th>\n",
       "      <th>prior_logit</th>\n",
       "      <th>degree_CbG</th>\n",
       "      <th>degree_CcSE</th>\n",
       "      <th>...</th>\n",
       "      <th>dwpc_CuG&lt;rGiGaD</th>\n",
       "      <th>dwpc_CuGaDuGaD</th>\n",
       "      <th>dwpc_CuGcG&lt;rGaD</th>\n",
       "      <th>dwpc_CuGcGiGaD</th>\n",
       "      <th>dwpc_CuGdDpSpD</th>\n",
       "      <th>dwpc_CuGr&gt;GbCtD</th>\n",
       "      <th>dwpc_CuGuCtD</th>\n",
       "      <th>dwpc_CuGuCtDrD</th>\n",
       "      <th>dwpc_CuGuCuGaD</th>\n",
       "      <th>dwpc_CuGuDuGaD</th>\n",
       "    </tr>\n",
       "  </thead>\n",
       "  <tbody>\n",
       "    <tr>\n",
       "      <th>0</th>\n",
       "      <td>DB01048</td>\n",
       "      <td>DOID:10652</td>\n",
       "      <td>Abacavir</td>\n",
       "      <td>Alzheimer's disease</td>\n",
       "      <td>NaN</td>\n",
       "      <td>0</td>\n",
       "      <td>0.004753</td>\n",
       "      <td>-5.344</td>\n",
       "      <td>-0.2955</td>\n",
       "      <td>0.8146</td>\n",
       "      <td>...</td>\n",
       "      <td>-0.6116</td>\n",
       "      <td>-0.5028</td>\n",
       "      <td>-0.4211</td>\n",
       "      <td>-0.4581</td>\n",
       "      <td>-0.5399</td>\n",
       "      <td>-0.357</td>\n",
       "      <td>-0.375</td>\n",
       "      <td>-0.5642</td>\n",
       "      <td>-0.5543</td>\n",
       "      <td>-0.4951</td>\n",
       "    </tr>\n",
       "    <tr>\n",
       "      <th>1</th>\n",
       "      <td>DB05812</td>\n",
       "      <td>DOID:10652</td>\n",
       "      <td>Abiraterone</td>\n",
       "      <td>Alzheimer's disease</td>\n",
       "      <td>NaN</td>\n",
       "      <td>0</td>\n",
       "      <td>0.004753</td>\n",
       "      <td>-5.344</td>\n",
       "      <td>0.5495</td>\n",
       "      <td>0.5554</td>\n",
       "      <td>...</td>\n",
       "      <td>-0.6116</td>\n",
       "      <td>-0.5028</td>\n",
       "      <td>-0.4211</td>\n",
       "      <td>-0.4581</td>\n",
       "      <td>-0.5399</td>\n",
       "      <td>-0.357</td>\n",
       "      <td>-0.375</td>\n",
       "      <td>-0.5642</td>\n",
       "      <td>-0.5543</td>\n",
       "      <td>-0.4951</td>\n",
       "    </tr>\n",
       "  </tbody>\n",
       "</table>\n",
       "<p>2 rows × 145 columns</p>\n",
       "</div>"
      ],
      "text/plain": [
       "  compound_id  disease_id compound_name         disease_name category  status  \\\n",
       "0     DB01048  DOID:10652      Abacavir  Alzheimer's disease      NaN       0   \n",
       "1     DB05812  DOID:10652   Abiraterone  Alzheimer's disease      NaN       0   \n",
       "\n",
       "   prior_prob  prior_logit  degree_CbG  degree_CcSE       ...        \\\n",
       "0    0.004753       -5.344     -0.2955       0.8146       ...         \n",
       "1    0.004753       -5.344      0.5495       0.5554       ...         \n",
       "\n",
       "   dwpc_CuG<rGiGaD  dwpc_CuGaDuGaD  dwpc_CuGcG<rGaD  dwpc_CuGcGiGaD  \\\n",
       "0          -0.6116         -0.5028          -0.4211         -0.4581   \n",
       "1          -0.6116         -0.5028          -0.4211         -0.4581   \n",
       "\n",
       "   dwpc_CuGdDpSpD  dwpc_CuGr>GbCtD  dwpc_CuGuCtD  dwpc_CuGuCtDrD  \\\n",
       "0         -0.5399           -0.357        -0.375         -0.5642   \n",
       "1         -0.5399           -0.357        -0.375         -0.5642   \n",
       "\n",
       "   dwpc_CuGuCuGaD  dwpc_CuGuDuGaD  \n",
       "0         -0.5543         -0.4951  \n",
       "1         -0.5543         -0.4951  \n",
       "\n",
       "[2 rows x 145 columns]"
      ]
     },
     "execution_count": 4,
     "metadata": {},
     "output_type": "execute_result"
    }
   ],
   "source": [
    "feature_df.head(2)"
   ]
  },
  {
   "cell_type": "code",
   "execution_count": 5,
   "metadata": {},
   "outputs": [
    {
     "name": "stdout",
     "output_type": "stream",
     "text": [
      "(29799, 138)\n"
     ]
    }
   ],
   "source": [
    "train_df = feature_df[feature_df['prior_prob'] > 0]\n",
    "\n",
    "X_train = train_df.iloc[:,7:].values\n",
    "feature_names = train_df.iloc[:, 7:].columns.values\n",
    "print(X_train.shape)\n",
    "\n",
    "y_train = train_df['status'].values"
   ]
  },
  {
   "cell_type": "code",
   "execution_count": 6,
   "metadata": {},
   "outputs": [
    {
     "data": {
      "text/plain": [
       "array([[-5.344  , -0.2955 ,  0.8146 , ..., -0.5642 , -0.5543 , -0.4951 ],\n",
       "       [-5.344  ,  0.5495 ,  0.5554 , ..., -0.5642 , -0.5543 , -0.4951 ],\n",
       "       [-5.344  ,  0.9053 ,  1.022  , ..., -0.5642 , -0.5543 , -0.4951 ],\n",
       "       ..., \n",
       "       [-6.756  ,  0.5495 ,  0.4312 , ...,  2.028  , -0.4092 , -0.08482],\n",
       "       [-6.027  ,  0.2984 ,  1.028  , ..., -0.5642 , -0.5543 , -0.4951 ],\n",
       "       [-6.756  ,  1.823  ,  1.087  , ..., -0.5642 , -0.4682 , -0.4951 ]])"
      ]
     },
     "execution_count": 6,
     "metadata": {},
     "output_type": "execute_result"
    }
   ],
   "source": [
    "X_train"
   ]
  },
  {
   "cell_type": "code",
   "execution_count": 7,
   "metadata": {
    "collapsed": true
   },
   "outputs": [],
   "source": [
    "pen = np.array([0 if x == 'prior_logit' else 1 for x in feature_names])"
   ]
  },
  {
   "cell_type": "markdown",
   "metadata": {},
   "source": [
    "    hetior::glmnet_train(X = X_train, y = y_train, alpha = 0.2, s = lambda, cores = 10, seed = 0,\n",
    "      penalty.factor=penalty, lambda.min.ratio=1e-8, nlambda=150, standardize=TRUE)\n",
    "        \n",
    "      fit$cv_model <- glmnet::cv.glmnet(x = X, y = y, weights = w, family='binomial',\n",
    "        alpha=alpha, parallel=TRUE, ...)\n",
    "        "
   ]
  },
  {
   "cell_type": "code",
   "execution_count": 8,
   "metadata": {
    "collapsed": true
   },
   "outputs": [],
   "source": [
    "from glmnet import LogitNet"
   ]
  },
  {
   "cell_type": "code",
   "execution_count": 9,
   "metadata": {
    "collapsed": true
   },
   "outputs": [],
   "source": [
    "ln = LogitNet(alpha=0.2, n_jobs=-1, min_lambda_ratio=1e-8, n_lambda=150, standardize=True, \n",
    "              random_state=0, scoring='roc_auc')"
   ]
  },
  {
   "cell_type": "code",
   "execution_count": 10,
   "metadata": {
    "scrolled": true
   },
   "outputs": [
    {
     "data": {
      "text/plain": [
       "LogitNet(alpha=0.2, cut_point=1.0, fit_intercept=True, lambda_path=None,\n",
       "     max_iter=100000, min_lambda_ratio=1e-08, n_jobs=-1, n_lambda=150,\n",
       "     n_splits=3, random_state=0, scoring='roc_auc', standardize=True,\n",
       "     tol=1e-07, verbose=False)"
      ]
     },
     "execution_count": 10,
     "metadata": {},
     "output_type": "execute_result"
    }
   ],
   "source": [
    "ln.fit(X_train, y_train, relative_penalties=pen)"
   ]
  },
  {
   "cell_type": "code",
   "execution_count": 11,
   "metadata": {},
   "outputs": [
    {
     "data": {
      "text/plain": [
       "array([ 0.00448832])"
      ]
     },
     "execution_count": 11,
     "metadata": {},
     "output_type": "execute_result"
    }
   ],
   "source": [
    "ln.lambda_best_"
   ]
  },
  {
   "cell_type": "code",
   "execution_count": 12,
   "metadata": {},
   "outputs": [
    {
     "data": {
      "image/png": "[encoded data removed]",
      "text/plain": [
       "<matplotlib.figure.Figure at 0x7f24cb9b4358>"
      ]
     },
     "metadata": {},
     "output_type": "display_data"
    }
   ],
   "source": [
    "for i in range(ln.coef_path_.shape[1]):\n",
    "    plt.plot(ln.lambda_path_, ln.coef_path_[0, i, :])\n",
    "\n",
    "ax = plt.gca()\n",
    "ax.set_xlim(right=ln.lambda_path_.max())\n",
    "ax.set_xlabel(\"lambda\")\n",
    "ax.set_ylabel(\"Coef Value\")\n",
    "#ax.invert_xaxis()\n",
    "#ax.set_ylim(-.2,.2)\n",
    "plt.show()"
   ]
  },
  {
   "cell_type": "code",
   "execution_count": 13,
   "metadata": {},
   "outputs": [
    {
     "data": {
      "text/plain": [
       "0.7109911708609018"
      ]
     },
     "execution_count": 13,
     "metadata": {},
     "output_type": "execute_result"
    }
   ],
   "source": [
    "# Prior_logit coeff\n",
    "ln.coef_[0][0]"
   ]
  },
  {
   "cell_type": "code",
   "execution_count": 14,
   "metadata": {},
   "outputs": [
    {
     "data": {
      "text/plain": [
       "754.99027499999988"
      ]
     },
     "execution_count": 14,
     "metadata": {},
     "output_type": "execute_result"
    }
   ],
   "source": [
    "feature_df['prior_prob'].sum()"
   ]
  },
  {
   "cell_type": "code",
   "execution_count": 15,
   "metadata": {},
   "outputs": [
    {
     "data": {
      "text/plain": [
       "'0.3610%'"
      ]
     },
     "execution_count": 15,
     "metadata": {},
     "output_type": "execute_result"
    }
   ],
   "source": [
    "'{:0.4%}'.format(feature_df['status'].mean())"
   ]
  },
  {
   "cell_type": "code",
   "execution_count": 16,
   "metadata": {},
   "outputs": [
    {
     "data": {
      "text/plain": [
       "(16, 25)"
      ]
     },
     "execution_count": 16,
     "metadata": {},
     "output_type": "execute_result"
    }
   ],
   "source": [
    "sum(ln.coef_[0] > 0), sum(ln.coef_[0] < 0)"
   ]
  },
  {
   "cell_type": "code",
   "execution_count": 17,
   "metadata": {
    "collapsed": true
   },
   "outputs": [],
   "source": [
    "from scipy.special import logit"
   ]
  },
  {
   "cell_type": "code",
   "execution_count": 18,
   "metadata": {
    "collapsed": true
   },
   "outputs": [],
   "source": [
    "X_all = feature_df.iloc[:,7:].values\n",
    "X_all[:,0] = logit(feature_df['status'].mean())"
   ]
  },
  {
   "cell_type": "code",
   "execution_count": 19,
   "metadata": {
    "collapsed": true
   },
   "outputs": [],
   "source": [
    "y_predicted = ln.predict_proba(X_all)[:,1]"
   ]
  },
  {
   "cell_type": "code",
   "execution_count": 20,
   "metadata": {},
   "outputs": [
    {
     "data": {
      "text/plain": [
       "(209168,)"
      ]
     },
     "execution_count": 20,
     "metadata": {},
     "output_type": "execute_result"
    }
   ],
   "source": [
    "y_predicted.shape"
   ]
  },
  {
   "cell_type": "code",
   "execution_count": 21,
   "metadata": {},
   "outputs": [
    {
     "data": {
      "text/plain": [
       "0.0027951679079053055"
      ]
     },
     "execution_count": 21,
     "metadata": {},
     "output_type": "execute_result"
    }
   ],
   "source": [
    "y_predicted.mean()"
   ]
  },
  {
   "cell_type": "code",
   "execution_count": 22,
   "metadata": {
    "collapsed": true
   },
   "outputs": [],
   "source": [
    "train_pred_df = train_df.loc[:,['compound_id', 'disease_id']]\n",
    "train_pred_df['training_prediction'] = ln.predict_proba(X_train)[:,1]"
   ]
  },
  {
   "cell_type": "code",
   "execution_count": 23,
   "metadata": {},
   "outputs": [
    {
     "name": "stdout",
     "output_type": "stream",
     "text": [
      "(209168, 7)\n"
     ]
    }
   ],
   "source": [
    "predict_df = feature_df.iloc[:,:7]\n",
    "print(predict_df.shape)\n",
    "predict_df['prediction'] = y_predicted\n",
    "predict_df = predict_df.merge(train_pred_df, how='left', on=['compound_id', 'disease_id'])"
   ]
  },
  {
   "cell_type": "code",
   "execution_count": 24,
   "metadata": {
    "collapsed": true
   },
   "outputs": [],
   "source": [
    "def add_percentile_column(in_df, group_col, new_col, cdst_col='prediction'):\n",
    "\n",
    "\n",
    "    grpd = in_df.groupby(group_col)\n",
    "    predict_dfs = []\n",
    "\n",
    "    for grp, df1 in grpd:\n",
    "        df = df1.copy()\n",
    "\n",
    "        total = df.shape[0]\n",
    "\n",
    "        df.sort_values(cdst_col, inplace=True)\n",
    "        order = np.array(df.reset_index(drop=True).index)\n",
    "\n",
    "        percentile = (order+1) / total\n",
    "        df[new_col] = percentile\n",
    "\n",
    "        predict_dfs.append(df)\n",
    "\n",
    "    return pd.concat(predict_dfs)"
   ]
  },
  {
   "cell_type": "code",
   "execution_count": 25,
   "metadata": {
    "collapsed": true
   },
   "outputs": [],
   "source": [
    "predict_df = add_percentile_column(predict_df, group_col='compound_id', new_col='compound_percentile')\n",
    "predict_df = add_percentile_column(predict_df, group_col='disease_id', new_col='disease_percentile')"
   ]
  },
  {
   "cell_type": "code",
   "execution_count": 26,
   "metadata": {
    "collapsed": true
   },
   "outputs": [],
   "source": [
    "predict_df = predict_df.merge(pd.read_table('../validate/validation-statuses.tsv')\n",
    "                              .drop(['compound_name', 'disease_name'], axis=1),\n",
    "                          how='left', on=['compound_id', 'disease_id'])"
   ]
  },
  {
   "cell_type": "code",
   "execution_count": 27,
   "metadata": {},
   "outputs": [
    {
     "data": {
      "text/html": [
       "<div>\n",
       "<table border=\"1\" class=\"dataframe\">\n",
       "  <thead>\n",
       "    <tr style=\"text-align: right;\">\n",
       "      <th></th>\n",
       "      <th>compound_id</th>\n",
       "      <th>disease_id</th>\n",
       "      <th>compound_name</th>\n",
       "      <th>disease_name</th>\n",
       "      <th>category</th>\n",
       "      <th>status</th>\n",
       "      <th>prior_prob</th>\n",
       "      <th>prediction</th>\n",
       "      <th>training_prediction</th>\n",
       "      <th>compound_percentile</th>\n",
       "      <th>disease_percentile</th>\n",
       "      <th>n_trials</th>\n",
       "      <th>status_trials</th>\n",
       "      <th>status_drugcentral</th>\n",
       "    </tr>\n",
       "  </thead>\n",
       "  <tbody>\n",
       "    <tr>\n",
       "      <th>0</th>\n",
       "      <td>DB00282</td>\n",
       "      <td>DOID:11476</td>\n",
       "      <td>Pamidronate</td>\n",
       "      <td>osteoporosis</td>\n",
       "      <td>DM</td>\n",
       "      <td>1</td>\n",
       "      <td>0.03893</td>\n",
       "      <td>0.908673</td>\n",
       "      <td>0.982264</td>\n",
       "      <td>1.0</td>\n",
       "      <td>1.00000</td>\n",
       "      <td>NaN</td>\n",
       "      <td>NaN</td>\n",
       "      <td>NaN</td>\n",
       "    </tr>\n",
       "    <tr>\n",
       "      <th>1</th>\n",
       "      <td>DB00630</td>\n",
       "      <td>DOID:11476</td>\n",
       "      <td>Alendronate</td>\n",
       "      <td>osteoporosis</td>\n",
       "      <td>DM</td>\n",
       "      <td>1</td>\n",
       "      <td>0.03893</td>\n",
       "      <td>0.905689</td>\n",
       "      <td>0.981636</td>\n",
       "      <td>1.0</td>\n",
       "      <td>0.99935</td>\n",
       "      <td>NaN</td>\n",
       "      <td>NaN</td>\n",
       "      <td>NaN</td>\n",
       "    </tr>\n",
       "  </tbody>\n",
       "</table>\n",
       "</div>"
      ],
      "text/plain": [
       "  compound_id  disease_id compound_name  disease_name category  status  \\\n",
       "0     DB00282  DOID:11476   Pamidronate  osteoporosis       DM       1   \n",
       "1     DB00630  DOID:11476   Alendronate  osteoporosis       DM       1   \n",
       "\n",
       "   prior_prob  prediction  training_prediction  compound_percentile  \\\n",
       "0     0.03893    0.908673             0.982264                  1.0   \n",
       "1     0.03893    0.905689             0.981636                  1.0   \n",
       "\n",
       "   disease_percentile  n_trials  status_trials  status_drugcentral  \n",
       "0             1.00000       NaN            NaN                 NaN  \n",
       "1             0.99935       NaN            NaN                 NaN  "
      ]
     },
     "execution_count": 27,
     "metadata": {},
     "output_type": "execute_result"
    }
   ],
   "source": [
    "predict_df = predict_df.sort_values('prediction', ascending=False).reset_index(drop=True)\n",
    "predict_df.head(2)"
   ]
  },
  {
   "cell_type": "code",
   "execution_count": 28,
   "metadata": {
    "collapsed": true
   },
   "outputs": [],
   "source": [
    "from sklearn.metrics import average_precision_score, roc_auc_score"
   ]
  },
  {
   "cell_type": "code",
   "execution_count": 29,
   "metadata": {
    "collapsed": true
   },
   "outputs": [],
   "source": [
    "out_dat = []\n",
    "\n",
    "for y_pred in ['prediction', 'compound_percentile', 'disease_percentile', 'training_prediction', 'prior_prob']:\n",
    "    for y_true in ['status', 'status_drugcentral', 'status_trials']:\n",
    "        vtm_df = predict_df[[y_true, y_pred]].dropna(axis=0)\n",
    "        \n",
    "        y_true_vals = vtm_df[y_true].values\n",
    "        y_pred_vals = vtm_df[y_pred].values\n",
    "        \n",
    "        \n",
    "        n_pos = len(np.where(y_true_vals==1)[0])\n",
    "        n_neg = len(np.where(y_true_vals==0)[0])\n",
    "        \n",
    "        auroc = roc_auc_score(y_true_vals, y_pred_vals)\n",
    "        auprc = average_precision_score(y_true_vals, y_pred_vals)\n",
    "        tjur = vtm_df[vtm_df[y_true]==1][y_pred].mean() - vtm_df[vtm_df[y_true]==0][y_pred].mean()\n",
    "        \n",
    "        out_dat.append({'y_true_var': y_true, 'y_pred_var': y_pred, 'n_pos': n_pos, 'n_neg':n_neg,\n",
    "                       'auroc': auroc, 'auprc': auprc, 'tjur':tjur})\n",
    "perf_df = pd.DataFrame(out_dat)[['y_true_var', 'y_pred_var', 'n_pos', 'n_neg', 'auroc', 'auprc', 'tjur']].sort_values('y_pred_var')"
   ]
  },
  {
   "cell_type": "code",
   "execution_count": 30,
   "metadata": {},
   "outputs": [
    {
     "data": {
      "text/html": [
       "<div>\n",
       "<table border=\"1\" class=\"dataframe\">\n",
       "  <thead>\n",
       "    <tr style=\"text-align: right;\">\n",
       "      <th></th>\n",
       "      <th>y_true_var</th>\n",
       "      <th>y_pred_var</th>\n",
       "      <th>n_pos</th>\n",
       "      <th>n_neg</th>\n",
       "      <th>auroc</th>\n",
       "      <th>auprc</th>\n",
       "      <th>tjur</th>\n",
       "    </tr>\n",
       "  </thead>\n",
       "  <tbody>\n",
       "    <tr>\n",
       "      <th>3</th>\n",
       "      <td>status</td>\n",
       "      <td>compound_percentile</td>\n",
       "      <td>755</td>\n",
       "      <td>208413</td>\n",
       "      <td>0.939505</td>\n",
       "      <td>0.205267</td>\n",
       "      <td>0.439505</td>\n",
       "    </tr>\n",
       "    <tr>\n",
       "      <th>4</th>\n",
       "      <td>status_drugcentral</td>\n",
       "      <td>compound_percentile</td>\n",
       "      <td>208</td>\n",
       "      <td>207572</td>\n",
       "      <td>0.851342</td>\n",
       "      <td>0.159136</td>\n",
       "      <td>0.351622</td>\n",
       "    </tr>\n",
       "    <tr>\n",
       "      <th>5</th>\n",
       "      <td>status_trials</td>\n",
       "      <td>compound_percentile</td>\n",
       "      <td>5594</td>\n",
       "      <td>202186</td>\n",
       "      <td>0.656652</td>\n",
       "      <td>0.067319</td>\n",
       "      <td>0.156365</td>\n",
       "    </tr>\n",
       "    <tr>\n",
       "      <th>6</th>\n",
       "      <td>status</td>\n",
       "      <td>disease_percentile</td>\n",
       "      <td>755</td>\n",
       "      <td>208413</td>\n",
       "      <td>0.948493</td>\n",
       "      <td>0.139733</td>\n",
       "      <td>0.448493</td>\n",
       "    </tr>\n",
       "    <tr>\n",
       "      <th>7</th>\n",
       "      <td>status_drugcentral</td>\n",
       "      <td>disease_percentile</td>\n",
       "      <td>208</td>\n",
       "      <td>207572</td>\n",
       "      <td>0.804408</td>\n",
       "      <td>0.015671</td>\n",
       "      <td>0.304305</td>\n",
       "    </tr>\n",
       "    <tr>\n",
       "      <th>8</th>\n",
       "      <td>status_trials</td>\n",
       "      <td>disease_percentile</td>\n",
       "      <td>5594</td>\n",
       "      <td>202186</td>\n",
       "      <td>0.648378</td>\n",
       "      <td>0.071355</td>\n",
       "      <td>0.148152</td>\n",
       "    </tr>\n",
       "    <tr>\n",
       "      <th>0</th>\n",
       "      <td>status</td>\n",
       "      <td>prediction</td>\n",
       "      <td>755</td>\n",
       "      <td>208413</td>\n",
       "      <td>0.972052</td>\n",
       "      <td>0.382334</td>\n",
       "      <td>0.128672</td>\n",
       "    </tr>\n",
       "    <tr>\n",
       "      <th>1</th>\n",
       "      <td>status_drugcentral</td>\n",
       "      <td>prediction</td>\n",
       "      <td>208</td>\n",
       "      <td>207572</td>\n",
       "      <td>0.847763</td>\n",
       "      <td>0.055528</td>\n",
       "      <td>0.056737</td>\n",
       "    </tr>\n",
       "    <tr>\n",
       "      <th>2</th>\n",
       "      <td>status_trials</td>\n",
       "      <td>prediction</td>\n",
       "      <td>5594</td>\n",
       "      <td>202186</td>\n",
       "      <td>0.685597</td>\n",
       "      <td>0.089311</td>\n",
       "      <td>0.005639</td>\n",
       "    </tr>\n",
       "    <tr>\n",
       "      <th>12</th>\n",
       "      <td>status</td>\n",
       "      <td>prior_prob</td>\n",
       "      <td>755</td>\n",
       "      <td>208413</td>\n",
       "      <td>0.979166</td>\n",
       "      <td>0.162854</td>\n",
       "      <td>0.106842</td>\n",
       "    </tr>\n",
       "    <tr>\n",
       "      <th>13</th>\n",
       "      <td>status_drugcentral</td>\n",
       "      <td>prior_prob</td>\n",
       "      <td>208</td>\n",
       "      <td>207572</td>\n",
       "      <td>0.541044</td>\n",
       "      <td>0.003123</td>\n",
       "      <td>0.017215</td>\n",
       "    </tr>\n",
       "    <tr>\n",
       "      <th>14</th>\n",
       "      <td>status_trials</td>\n",
       "      <td>prior_prob</td>\n",
       "      <td>5594</td>\n",
       "      <td>202186</td>\n",
       "      <td>0.625293</td>\n",
       "      <td>0.086577</td>\n",
       "      <td>0.014727</td>\n",
       "    </tr>\n",
       "    <tr>\n",
       "      <th>9</th>\n",
       "      <td>status</td>\n",
       "      <td>training_prediction</td>\n",
       "      <td>755</td>\n",
       "      <td>29044</td>\n",
       "      <td>0.952218</td>\n",
       "      <td>0.596653</td>\n",
       "      <td>0.387271</td>\n",
       "    </tr>\n",
       "    <tr>\n",
       "      <th>10</th>\n",
       "      <td>status_drugcentral</td>\n",
       "      <td>training_prediction</td>\n",
       "      <td>42</td>\n",
       "      <td>28819</td>\n",
       "      <td>0.868146</td>\n",
       "      <td>0.069671</td>\n",
       "      <td>0.230685</td>\n",
       "    </tr>\n",
       "    <tr>\n",
       "      <th>11</th>\n",
       "      <td>status_trials</td>\n",
       "      <td>training_prediction</td>\n",
       "      <td>2044</td>\n",
       "      <td>26817</td>\n",
       "      <td>0.719789</td>\n",
       "      <td>0.200081</td>\n",
       "      <td>0.041786</td>\n",
       "    </tr>\n",
       "  </tbody>\n",
       "</table>\n",
       "</div>"
      ],
      "text/plain": [
       "            y_true_var           y_pred_var  n_pos   n_neg     auroc  \\\n",
       "3               status  compound_percentile    755  208413  0.939505   \n",
       "4   status_drugcentral  compound_percentile    208  207572  0.851342   \n",
       "5        status_trials  compound_percentile   5594  202186  0.656652   \n",
       "6               status   disease_percentile    755  208413  0.948493   \n",
       "7   status_drugcentral   disease_percentile    208  207572  0.804408   \n",
       "8        status_trials   disease_percentile   5594  202186  0.648378   \n",
       "0               status           prediction    755  208413  0.972052   \n",
       "1   status_drugcentral           prediction    208  207572  0.847763   \n",
       "2        status_trials           prediction   5594  202186  0.685597   \n",
       "12              status           prior_prob    755  208413  0.979166   \n",
       "13  status_drugcentral           prior_prob    208  207572  0.541044   \n",
       "14       status_trials           prior_prob   5594  202186  0.625293   \n",
       "9               status  training_prediction    755   29044  0.952218   \n",
       "10  status_drugcentral  training_prediction     42   28819  0.868146   \n",
       "11       status_trials  training_prediction   2044   26817  0.719789   \n",
       "\n",
       "       auprc      tjur  \n",
       "3   0.205267  0.439505  \n",
       "4   0.159136  0.351622  \n",
       "5   0.067319  0.156365  \n",
       "6   0.139733  0.448493  \n",
       "7   0.015671  0.304305  \n",
       "8   0.071355  0.148152  \n",
       "0   0.382334  0.128672  \n",
       "1   0.055528  0.056737  \n",
       "2   0.089311  0.005639  \n",
       "12  0.162854  0.106842  \n",
       "13  0.003123  0.017215  \n",
       "14  0.086577  0.014727  \n",
       "9   0.596653  0.387271  \n",
       "10  0.069671  0.230685  \n",
       "11  0.200081  0.041786  "
      ]
     },
     "execution_count": 30,
     "metadata": {},
     "output_type": "execute_result"
    }
   ],
   "source": [
    "perf_df"
   ]
  },
  {
   "cell_type": "code",
   "execution_count": 31,
   "metadata": {
    "collapsed": true
   },
   "outputs": [],
   "source": [
    "def glmnet_coefs(glmnet_obj, X, y):\n",
    "    l = glmnet_obj.lambda_best_[0]\n",
    "    \n",
    "    coef = glmnet_obj.coef_[0]\n",
    "    coef = np.insert(coef, 0, glmnet_obj.intercept_)\n",
    "    \n",
    "    names = np.insert(feature_names, 0, 'intercept')\n",
    "    \n",
    "    z_intercept = coef[0] + sum(coef[1:] * X.mean(axis=0))\n",
    "    z_coef = coef[1:] * X.std(axis=0)\n",
    "    z_coef = np.insert(z_coef, 0, z_intercept)\n",
    "    \n",
    "    return pd.DataFrame([names, coef, z_coef]).T.rename(columns={0:'feature', 1:'coef', 2:'zcoef'})\n",
    "    "
   ]
  },
  {
   "cell_type": "code",
   "execution_count": 32,
   "metadata": {
    "collapsed": true
   },
   "outputs": [],
   "source": [
    "perf_df.to_csv('predictions/performance_py-no-replacement-interpolated.tsv', sep='\\t', index=False)\n",
    "glmnet_coefs(ln, X_train, y_train).to_csv('model/coefficient_py-no-replacement-interpolated.tsv', sep='\\t', index=False)\n",
    "predict_df.to_csv('predictions/probabilities_py-no-replacement-interpolated.tsv', sep='\\t', index=False)"
   ]
  },
  {
   "cell_type": "code",
   "execution_count": 33,
   "metadata": {},
   "outputs": [
    {
     "data": {
      "text/html": [
       "<div>\n",
       "<table border=\"1\" class=\"dataframe\">\n",
       "  <thead>\n",
       "    <tr style=\"text-align: right;\">\n",
       "      <th></th>\n",
       "      <th>feature</th>\n",
       "      <th>coef</th>\n",
       "      <th>zcoef</th>\n",
       "    </tr>\n",
       "  </thead>\n",
       "  <tbody>\n",
       "    <tr>\n",
       "      <th>1</th>\n",
       "      <td>prior_logit</td>\n",
       "      <td>0.710991</td>\n",
       "      <td>0.967632</td>\n",
       "    </tr>\n",
       "    <tr>\n",
       "      <th>32</th>\n",
       "      <td>dwpc_CbGbCtD</td>\n",
       "      <td>0.23971</td>\n",
       "      <td>0.320109</td>\n",
       "    </tr>\n",
       "    <tr>\n",
       "      <th>23</th>\n",
       "      <td>dwpc_CbGaD</td>\n",
       "      <td>0.210875</td>\n",
       "      <td>0.265122</td>\n",
       "    </tr>\n",
       "    <tr>\n",
       "      <th>95</th>\n",
       "      <td>dwpc_CiPCiCtD</td>\n",
       "      <td>0.164213</td>\n",
       "      <td>0.344258</td>\n",
       "    </tr>\n",
       "    <tr>\n",
       "      <th>118</th>\n",
       "      <td>dwpc_CrCtD</td>\n",
       "      <td>0.143727</td>\n",
       "      <td>0.242171</td>\n",
       "    </tr>\n",
       "    <tr>\n",
       "      <th>125</th>\n",
       "      <td>dwpc_CtDrD</td>\n",
       "      <td>0.133262</td>\n",
       "      <td>0.279829</td>\n",
       "    </tr>\n",
       "    <tr>\n",
       "      <th>117</th>\n",
       "      <td>dwpc_CrCrCtD</td>\n",
       "      <td>0.120468</td>\n",
       "      <td>0.185621</td>\n",
       "    </tr>\n",
       "    <tr>\n",
       "      <th>73</th>\n",
       "      <td>dwpc_CcSEcCtD</td>\n",
       "      <td>0.0932819</td>\n",
       "      <td>0.0908918</td>\n",
       "    </tr>\n",
       "    <tr>\n",
       "      <th>53</th>\n",
       "      <td>dwpc_CbGpPWpGaD</td>\n",
       "      <td>0.0826943</td>\n",
       "      <td>0.0928935</td>\n",
       "    </tr>\n",
       "    <tr>\n",
       "      <th>97</th>\n",
       "      <td>dwpc_CpDpCtD</td>\n",
       "      <td>0.0744083</td>\n",
       "      <td>0.107276</td>\n",
       "    </tr>\n",
       "    <tr>\n",
       "      <th>43</th>\n",
       "      <td>dwpc_CbGeAlD</td>\n",
       "      <td>0.059167</td>\n",
       "      <td>0.0629009</td>\n",
       "    </tr>\n",
       "    <tr>\n",
       "      <th>101</th>\n",
       "      <td>dwpc_CrCbGaD</td>\n",
       "      <td>0.0145988</td>\n",
       "      <td>0.0163787</td>\n",
       "    </tr>\n",
       "    <tr>\n",
       "      <th>27</th>\n",
       "      <td>dwpc_CbGaDrD</td>\n",
       "      <td>0.010044</td>\n",
       "      <td>0.010722</td>\n",
       "    </tr>\n",
       "    <tr>\n",
       "      <th>37</th>\n",
       "      <td>dwpc_CbGdCrCtD</td>\n",
       "      <td>0.00825383</td>\n",
       "      <td>0.0135676</td>\n",
       "    </tr>\n",
       "    <tr>\n",
       "      <th>80</th>\n",
       "      <td>dwpc_CdGbCtD</td>\n",
       "      <td>0.00234529</td>\n",
       "      <td>0.0042864</td>\n",
       "    </tr>\n",
       "    <tr>\n",
       "      <th>113</th>\n",
       "      <td>dwpc_CrCiPCiCtD</td>\n",
       "      <td>0.000242247</td>\n",
       "      <td>0.000393232</td>\n",
       "    </tr>\n",
       "    <tr>\n",
       "      <th>79</th>\n",
       "      <td>dwpc_CdGbCrCtD</td>\n",
       "      <td>0</td>\n",
       "      <td>0</td>\n",
       "    </tr>\n",
       "    <tr>\n",
       "      <th>72</th>\n",
       "      <td>dwpc_CcSEcCbGaD</td>\n",
       "      <td>0</td>\n",
       "      <td>0</td>\n",
       "    </tr>\n",
       "    <tr>\n",
       "      <th>67</th>\n",
       "      <td>dwpc_CbGuCuGaD</td>\n",
       "      <td>0</td>\n",
       "      <td>0</td>\n",
       "    </tr>\n",
       "    <tr>\n",
       "      <th>68</th>\n",
       "      <td>dwpc_CbGuDaGaD</td>\n",
       "      <td>0</td>\n",
       "      <td>0</td>\n",
       "    </tr>\n",
       "    <tr>\n",
       "      <th>89</th>\n",
       "      <td>dwpc_CdGuDaGaD</td>\n",
       "      <td>0</td>\n",
       "      <td>0</td>\n",
       "    </tr>\n",
       "    <tr>\n",
       "      <th>88</th>\n",
       "      <td>dwpc_CdGiGiGaD</td>\n",
       "      <td>0</td>\n",
       "      <td>0</td>\n",
       "    </tr>\n",
       "    <tr>\n",
       "      <th>87</th>\n",
       "      <td>dwpc_CdGiGaD</td>\n",
       "      <td>0</td>\n",
       "      <td>0</td>\n",
       "    </tr>\n",
       "    <tr>\n",
       "      <th>70</th>\n",
       "      <td>dwpc_CbGuDrDrD</td>\n",
       "      <td>0</td>\n",
       "      <td>0</td>\n",
       "    </tr>\n",
       "    <tr>\n",
       "      <th>86</th>\n",
       "      <td>dwpc_CdGiG&lt;rGaD</td>\n",
       "      <td>0</td>\n",
       "      <td>0</td>\n",
       "    </tr>\n",
       "    <tr>\n",
       "      <th>71</th>\n",
       "      <td>dwpc_CbGuDuGaD</td>\n",
       "      <td>0</td>\n",
       "      <td>0</td>\n",
       "    </tr>\n",
       "    <tr>\n",
       "      <th>85</th>\n",
       "      <td>dwpc_CdGdCuGaD</td>\n",
       "      <td>0</td>\n",
       "      <td>0</td>\n",
       "    </tr>\n",
       "    <tr>\n",
       "      <th>78</th>\n",
       "      <td>dwpc_CdGbCdGaD</td>\n",
       "      <td>0</td>\n",
       "      <td>0</td>\n",
       "    </tr>\n",
       "    <tr>\n",
       "      <th>84</th>\n",
       "      <td>dwpc_CdGdCtDrD</td>\n",
       "      <td>0</td>\n",
       "      <td>0</td>\n",
       "    </tr>\n",
       "    <tr>\n",
       "      <th>74</th>\n",
       "      <td>dwpc_CcSEcCtDrD</td>\n",
       "      <td>0</td>\n",
       "      <td>0</td>\n",
       "    </tr>\n",
       "    <tr>\n",
       "      <th>...</th>\n",
       "      <td>...</td>\n",
       "      <td>...</td>\n",
       "      <td>...</td>\n",
       "    </tr>\n",
       "    <tr>\n",
       "      <th>45</th>\n",
       "      <td>dwpc_CbGeAuGaD</td>\n",
       "      <td>0</td>\n",
       "      <td>0</td>\n",
       "    </tr>\n",
       "    <tr>\n",
       "      <th>44</th>\n",
       "      <td>dwpc_CbGeAlDrD</td>\n",
       "      <td>0</td>\n",
       "      <td>0</td>\n",
       "    </tr>\n",
       "    <tr>\n",
       "      <th>42</th>\n",
       "      <td>dwpc_CbGeAeGaD</td>\n",
       "      <td>0</td>\n",
       "      <td>0</td>\n",
       "    </tr>\n",
       "    <tr>\n",
       "      <th>18</th>\n",
       "      <td>dwpc_CbG&lt;rGaDrD</td>\n",
       "      <td>0</td>\n",
       "      <td>0</td>\n",
       "    </tr>\n",
       "    <tr>\n",
       "      <th>33</th>\n",
       "      <td>dwpc_CbGbCtDrD</td>\n",
       "      <td>-0.000117722</td>\n",
       "      <td>-0.000143694</td>\n",
       "    </tr>\n",
       "    <tr>\n",
       "      <th>102</th>\n",
       "      <td>dwpc_CrCbGaDrD</td>\n",
       "      <td>-0.00409179</td>\n",
       "      <td>-0.00419701</td>\n",
       "    </tr>\n",
       "    <tr>\n",
       "      <th>109</th>\n",
       "      <td>dwpc_CrCdGbCtD</td>\n",
       "      <td>-0.00464269</td>\n",
       "      <td>-0.00675904</td>\n",
       "    </tr>\n",
       "    <tr>\n",
       "      <th>108</th>\n",
       "      <td>dwpc_CrCdGaDrD</td>\n",
       "      <td>-0.00498502</td>\n",
       "      <td>-0.0060919</td>\n",
       "    </tr>\n",
       "    <tr>\n",
       "      <th>134</th>\n",
       "      <td>dwpc_CuGr&gt;GbCtD</td>\n",
       "      <td>-0.00563966</td>\n",
       "      <td>-0.00887134</td>\n",
       "    </tr>\n",
       "    <tr>\n",
       "      <th>41</th>\n",
       "      <td>dwpc_CbGdDuGaD</td>\n",
       "      <td>-0.00715779</td>\n",
       "      <td>-0.00807529</td>\n",
       "    </tr>\n",
       "    <tr>\n",
       "      <th>119</th>\n",
       "      <td>dwpc_CrCtDtCtD</td>\n",
       "      <td>-0.00791765</td>\n",
       "      <td>-0.0130731</td>\n",
       "    </tr>\n",
       "    <tr>\n",
       "      <th>20</th>\n",
       "      <td>dwpc_CbG&lt;rGeAlD</td>\n",
       "      <td>-0.00801563</td>\n",
       "      <td>-0.00929352</td>\n",
       "    </tr>\n",
       "    <tr>\n",
       "      <th>123</th>\n",
       "      <td>dwpc_CrCuGcGaD</td>\n",
       "      <td>-0.0111388</td>\n",
       "      <td>-0.0144526</td>\n",
       "    </tr>\n",
       "    <tr>\n",
       "      <th>76</th>\n",
       "      <td>dwpc_CdGaDdGaD</td>\n",
       "      <td>-0.0125561</td>\n",
       "      <td>-0.0177838</td>\n",
       "    </tr>\n",
       "    <tr>\n",
       "      <th>91</th>\n",
       "      <td>dwpc_CiPCiCbGaD</td>\n",
       "      <td>-0.0128796</td>\n",
       "      <td>-0.0178805</td>\n",
       "    </tr>\n",
       "    <tr>\n",
       "      <th>115</th>\n",
       "      <td>dwpc_CrCrCdGaD</td>\n",
       "      <td>-0.0131616</td>\n",
       "      <td>-0.0161689</td>\n",
       "    </tr>\n",
       "    <tr>\n",
       "      <th>98</th>\n",
       "      <td>dwpc_CpDpCtDrD</td>\n",
       "      <td>-0.0232266</td>\n",
       "      <td>-0.0294107</td>\n",
       "    </tr>\n",
       "    <tr>\n",
       "      <th>96</th>\n",
       "      <td>dwpc_CiPCiCuGaD</td>\n",
       "      <td>-0.0304049</td>\n",
       "      <td>-0.0465171</td>\n",
       "    </tr>\n",
       "    <tr>\n",
       "      <th>6</th>\n",
       "      <td>degree_CpD</td>\n",
       "      <td>-0.0308617</td>\n",
       "      <td>-0.0353026</td>\n",
       "    </tr>\n",
       "    <tr>\n",
       "      <th>120</th>\n",
       "      <td>dwpc_CrCuG&lt;rGaD</td>\n",
       "      <td>-0.031843</td>\n",
       "      <td>-0.0402251</td>\n",
       "    </tr>\n",
       "    <tr>\n",
       "      <th>111</th>\n",
       "      <td>dwpc_CrCdGeAlD</td>\n",
       "      <td>-0.0388277</td>\n",
       "      <td>-0.0483415</td>\n",
       "    </tr>\n",
       "    <tr>\n",
       "      <th>112</th>\n",
       "      <td>dwpc_CrCdGiGaD</td>\n",
       "      <td>-0.0402514</td>\n",
       "      <td>-0.0526625</td>\n",
       "    </tr>\n",
       "    <tr>\n",
       "      <th>24</th>\n",
       "      <td>dwpc_CbGaDaGaD</td>\n",
       "      <td>-0.0441921</td>\n",
       "      <td>-0.0457157</td>\n",
       "    </tr>\n",
       "    <tr>\n",
       "      <th>34</th>\n",
       "      <td>dwpc_CbGbCuGaD</td>\n",
       "      <td>-0.0470239</td>\n",
       "      <td>-0.0558531</td>\n",
       "    </tr>\n",
       "    <tr>\n",
       "      <th>122</th>\n",
       "      <td>dwpc_CrCuGaDrD</td>\n",
       "      <td>-0.0616472</td>\n",
       "      <td>-0.0749654</td>\n",
       "    </tr>\n",
       "    <tr>\n",
       "      <th>92</th>\n",
       "      <td>dwpc_CiPCiCdGaD</td>\n",
       "      <td>-0.0659997</td>\n",
       "      <td>-0.100859</td>\n",
       "    </tr>\n",
       "    <tr>\n",
       "      <th>40</th>\n",
       "      <td>dwpc_CbGdDdGaD</td>\n",
       "      <td>-0.0792547</td>\n",
       "      <td>-0.0900908</td>\n",
       "    </tr>\n",
       "    <tr>\n",
       "      <th>5</th>\n",
       "      <td>degree_CiPC</td>\n",
       "      <td>-0.0851741</td>\n",
       "      <td>-0.0862387</td>\n",
       "    </tr>\n",
       "    <tr>\n",
       "      <th>7</th>\n",
       "      <td>degree_CrC</td>\n",
       "      <td>-0.251948</td>\n",
       "      <td>-0.242738</td>\n",
       "    </tr>\n",
       "    <tr>\n",
       "      <th>0</th>\n",
       "      <td>intercept</td>\n",
       "      <td>-2.50136</td>\n",
       "      <td>-5.34713</td>\n",
       "    </tr>\n",
       "  </tbody>\n",
       "</table>\n",
       "<p>139 rows × 3 columns</p>\n",
       "</div>"
      ],
      "text/plain": [
       "             feature         coef        zcoef\n",
       "1        prior_logit     0.710991     0.967632\n",
       "32      dwpc_CbGbCtD      0.23971     0.320109\n",
       "23        dwpc_CbGaD     0.210875     0.265122\n",
       "95     dwpc_CiPCiCtD     0.164213     0.344258\n",
       "118       dwpc_CrCtD     0.143727     0.242171\n",
       "125       dwpc_CtDrD     0.133262     0.279829\n",
       "117     dwpc_CrCrCtD     0.120468     0.185621\n",
       "73     dwpc_CcSEcCtD    0.0932819    0.0908918\n",
       "53   dwpc_CbGpPWpGaD    0.0826943    0.0928935\n",
       "97      dwpc_CpDpCtD    0.0744083     0.107276\n",
       "43      dwpc_CbGeAlD     0.059167    0.0629009\n",
       "101     dwpc_CrCbGaD    0.0145988    0.0163787\n",
       "27      dwpc_CbGaDrD     0.010044     0.010722\n",
       "37    dwpc_CbGdCrCtD   0.00825383    0.0135676\n",
       "80      dwpc_CdGbCtD   0.00234529    0.0042864\n",
       "113  dwpc_CrCiPCiCtD  0.000242247  0.000393232\n",
       "79    dwpc_CdGbCrCtD            0            0\n",
       "72   dwpc_CcSEcCbGaD            0            0\n",
       "67    dwpc_CbGuCuGaD            0            0\n",
       "68    dwpc_CbGuDaGaD            0            0\n",
       "89    dwpc_CdGuDaGaD            0            0\n",
       "88    dwpc_CdGiGiGaD            0            0\n",
       "87      dwpc_CdGiGaD            0            0\n",
       "70    dwpc_CbGuDrDrD            0            0\n",
       "86   dwpc_CdGiG<rGaD            0            0\n",
       "71    dwpc_CbGuDuGaD            0            0\n",
       "85    dwpc_CdGdCuGaD            0            0\n",
       "78    dwpc_CdGbCdGaD            0            0\n",
       "84    dwpc_CdGdCtDrD            0            0\n",
       "74   dwpc_CcSEcCtDrD            0            0\n",
       "..               ...          ...          ...\n",
       "45    dwpc_CbGeAuGaD            0            0\n",
       "44    dwpc_CbGeAlDrD            0            0\n",
       "42    dwpc_CbGeAeGaD            0            0\n",
       "18   dwpc_CbG<rGaDrD            0            0\n",
       "33    dwpc_CbGbCtDrD -0.000117722 -0.000143694\n",
       "102   dwpc_CrCbGaDrD  -0.00409179  -0.00419701\n",
       "109   dwpc_CrCdGbCtD  -0.00464269  -0.00675904\n",
       "108   dwpc_CrCdGaDrD  -0.00498502   -0.0060919\n",
       "134  dwpc_CuGr>GbCtD  -0.00563966  -0.00887134\n",
       "41    dwpc_CbGdDuGaD  -0.00715779  -0.00807529\n",
       "119   dwpc_CrCtDtCtD  -0.00791765   -0.0130731\n",
       "20   dwpc_CbG<rGeAlD  -0.00801563  -0.00929352\n",
       "123   dwpc_CrCuGcGaD   -0.0111388   -0.0144526\n",
       "76    dwpc_CdGaDdGaD   -0.0125561   -0.0177838\n",
       "91   dwpc_CiPCiCbGaD   -0.0128796   -0.0178805\n",
       "115   dwpc_CrCrCdGaD   -0.0131616   -0.0161689\n",
       "98    dwpc_CpDpCtDrD   -0.0232266   -0.0294107\n",
       "96   dwpc_CiPCiCuGaD   -0.0304049   -0.0465171\n",
       "6         degree_CpD   -0.0308617   -0.0353026\n",
       "120  dwpc_CrCuG<rGaD    -0.031843   -0.0402251\n",
       "111   dwpc_CrCdGeAlD   -0.0388277   -0.0483415\n",
       "112   dwpc_CrCdGiGaD   -0.0402514   -0.0526625\n",
       "24    dwpc_CbGaDaGaD   -0.0441921   -0.0457157\n",
       "34    dwpc_CbGbCuGaD   -0.0470239   -0.0558531\n",
       "122   dwpc_CrCuGaDrD   -0.0616472   -0.0749654\n",
       "92   dwpc_CiPCiCdGaD   -0.0659997    -0.100859\n",
       "40    dwpc_CbGdDdGaD   -0.0792547   -0.0900908\n",
       "5        degree_CiPC   -0.0851741   -0.0862387\n",
       "7         degree_CrC    -0.251948    -0.242738\n",
       "0          intercept     -2.50136     -5.34713\n",
       "\n",
       "[139 rows x 3 columns]"
      ]
     },
     "execution_count": 33,
     "metadata": {},
     "output_type": "execute_result"
    }
   ],
   "source": [
    "coef = glmnet_coefs(ln, X_train, y_train)\n",
    "coef.sort_values('coef', ascending=False)"
   ]
  },
  {
   "cell_type": "code",
   "execution_count": null,
   "metadata": {
    "collapsed": true
   },
   "outputs": [],
   "source": []
  }
 ],
 "metadata": {
  "kernelspec": {
   "display_name": "Python 3",
   "language": "python",
   "name": "python3"
  },
  "language_info": {
   "codemirror_mode": {
    "name": "ipython",
    "version": 3
   },
   "file_extension": ".py",
   "mimetype": "text/x-python",
   "name": "python",
   "nbconvert_exporter": "python",
   "pygments_lexer": "ipython3",
   "version": "3.5.2"
  }
 },
 "nbformat": 4,
 "nbformat_minor": 1
}
