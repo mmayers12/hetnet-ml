{
 "cells": [
  {
   "cell_type": "code",
   "execution_count": 1,
   "metadata": {
    "collapsed": true
   },
   "outputs": [],
   "source": [
    "import pandas as pd\n",
    "import numpy as np\n",
    "%matplotlib inline\n",
    "import matplotlib.pyplot as plt"
   ]
  },
  {
   "cell_type": "code",
   "execution_count": 2,
   "metadata": {},
   "outputs": [
    {
     "name": "stderr",
     "output_type": "stream",
     "text": [
      "/home/mmayers/projects/wikidata/venv/lib/python3.5/site-packages/IPython/core/interactiveshell.py:2683: DtypeWarning: Columns (4) have mixed types. Specify dtype option on import or set low_memory=False.\n",
      "  interactivity=interactivity, compiler=compiler, result=result)\n"
     ]
    }
   ],
   "source": [
    "blacklist = pd.read_table('features/blacklist.tsv')['feature'].values\n",
    "feature_df = pd.read_table('features/transformed-replacement-features.tsv.bz2')"
   ]
  },
  {
   "cell_type": "code",
   "execution_count": 3,
   "metadata": {
    "collapsed": true
   },
   "outputs": [],
   "source": [
    "feature_df.drop(blacklist, axis=1, inplace=True)"
   ]
  },
  {
   "cell_type": "code",
   "execution_count": 4,
   "metadata": {},
   "outputs": [
    {
     "data": {
      "text/html": [
       "<div>\n",
       "<table border=\"1\" class=\"dataframe\">\n",
       "  <thead>\n",
       "    <tr style=\"text-align: right;\">\n",
       "      <th></th>\n",
       "      <th>compound_id</th>\n",
       "      <th>disease_id</th>\n",
       "      <th>compound_name</th>\n",
       "      <th>disease_name</th>\n",
       "      <th>category</th>\n",
       "      <th>status</th>\n",
       "      <th>prior_prob</th>\n",
       "      <th>prior_logit</th>\n",
       "      <th>degree_CbG</th>\n",
       "      <th>degree_CcSE</th>\n",
       "      <th>...</th>\n",
       "      <th>dwpc_CuG&lt;rGiGaD</th>\n",
       "      <th>dwpc_CuGaDuGaD</th>\n",
       "      <th>dwpc_CuGcG&lt;rGaD</th>\n",
       "      <th>dwpc_CuGcGiGaD</th>\n",
       "      <th>dwpc_CuGdDpSpD</th>\n",
       "      <th>dwpc_CuGr&gt;GbCtD</th>\n",
       "      <th>dwpc_CuGuCtD</th>\n",
       "      <th>dwpc_CuGuCtDrD</th>\n",
       "      <th>dwpc_CuGuCuGaD</th>\n",
       "      <th>dwpc_CuGuDuGaD</th>\n",
       "    </tr>\n",
       "  </thead>\n",
       "  <tbody>\n",
       "    <tr>\n",
       "      <th>0</th>\n",
       "      <td>DB01048</td>\n",
       "      <td>DOID:10652</td>\n",
       "      <td>Abacavir</td>\n",
       "      <td>Alzheimer's disease</td>\n",
       "      <td>NaN</td>\n",
       "      <td>0</td>\n",
       "      <td>0.004753</td>\n",
       "      <td>-5.344</td>\n",
       "      <td>-0.2955</td>\n",
       "      <td>0.8146</td>\n",
       "      <td>...</td>\n",
       "      <td>-0.6116</td>\n",
       "      <td>-0.5016</td>\n",
       "      <td>-0.4211</td>\n",
       "      <td>-0.4581</td>\n",
       "      <td>-0.5323</td>\n",
       "      <td>-0.3328</td>\n",
       "      <td>-0.3712</td>\n",
       "      <td>-0.5534</td>\n",
       "      <td>-0.5377</td>\n",
       "      <td>-0.4953</td>\n",
       "    </tr>\n",
       "    <tr>\n",
       "      <th>1</th>\n",
       "      <td>DB05812</td>\n",
       "      <td>DOID:10652</td>\n",
       "      <td>Abiraterone</td>\n",
       "      <td>Alzheimer's disease</td>\n",
       "      <td>NaN</td>\n",
       "      <td>0</td>\n",
       "      <td>0.004753</td>\n",
       "      <td>-5.344</td>\n",
       "      <td>0.5495</td>\n",
       "      <td>0.5554</td>\n",
       "      <td>...</td>\n",
       "      <td>-0.6116</td>\n",
       "      <td>-0.5016</td>\n",
       "      <td>-0.4211</td>\n",
       "      <td>-0.4581</td>\n",
       "      <td>-0.5323</td>\n",
       "      <td>-0.3328</td>\n",
       "      <td>-0.3712</td>\n",
       "      <td>-0.5534</td>\n",
       "      <td>-0.5377</td>\n",
       "      <td>-0.4953</td>\n",
       "    </tr>\n",
       "  </tbody>\n",
       "</table>\n",
       "<p>2 rows × 145 columns</p>\n",
       "</div>"
      ],
      "text/plain": [
       "  compound_id  disease_id compound_name         disease_name category  status  \\\n",
       "0     DB01048  DOID:10652      Abacavir  Alzheimer's disease      NaN       0   \n",
       "1     DB05812  DOID:10652   Abiraterone  Alzheimer's disease      NaN       0   \n",
       "\n",
       "   prior_prob  prior_logit  degree_CbG  degree_CcSE       ...        \\\n",
       "0    0.004753       -5.344     -0.2955       0.8146       ...         \n",
       "1    0.004753       -5.344      0.5495       0.5554       ...         \n",
       "\n",
       "   dwpc_CuG<rGiGaD  dwpc_CuGaDuGaD  dwpc_CuGcG<rGaD  dwpc_CuGcGiGaD  \\\n",
       "0          -0.6116         -0.5016          -0.4211         -0.4581   \n",
       "1          -0.6116         -0.5016          -0.4211         -0.4581   \n",
       "\n",
       "   dwpc_CuGdDpSpD  dwpc_CuGr>GbCtD  dwpc_CuGuCtD  dwpc_CuGuCtDrD  \\\n",
       "0         -0.5323          -0.3328       -0.3712         -0.5534   \n",
       "1         -0.5323          -0.3328       -0.3712         -0.5534   \n",
       "\n",
       "   dwpc_CuGuCuGaD  dwpc_CuGuDuGaD  \n",
       "0         -0.5377         -0.4953  \n",
       "1         -0.5377         -0.4953  \n",
       "\n",
       "[2 rows x 145 columns]"
      ]
     },
     "execution_count": 4,
     "metadata": {},
     "output_type": "execute_result"
    }
   ],
   "source": [
    "feature_df.head(2)"
   ]
  },
  {
   "cell_type": "code",
   "execution_count": 5,
   "metadata": {},
   "outputs": [
    {
     "name": "stdout",
     "output_type": "stream",
     "text": [
      "(29799, 138)\n"
     ]
    }
   ],
   "source": [
    "train_df = feature_df[feature_df['prior_prob'] > 0]\n",
    "\n",
    "X_train = train_df.iloc[:,7:].values\n",
    "feature_names = train_df.iloc[:, 7:].columns.values\n",
    "print(X_train.shape)\n",
    "\n",
    "y_train = train_df['status'].values"
   ]
  },
  {
   "cell_type": "code",
   "execution_count": 6,
   "metadata": {},
   "outputs": [
    {
     "data": {
      "text/plain": [
       "array([[-5.344  , -0.2955 ,  0.8146 , ..., -0.5534 , -0.5377 , -0.4953 ],\n",
       "       [-5.344  ,  0.5495 ,  0.5554 , ..., -0.5534 , -0.5377 , -0.4953 ],\n",
       "       [-5.344  ,  0.9053 ,  1.022  , ..., -0.5534 , -0.5377 , -0.4953 ],\n",
       "       ..., \n",
       "       [-6.756  ,  0.5495 ,  0.4312 , ...,  1.952  , -0.411  , -0.09403],\n",
       "       [-6.027  ,  0.2984 ,  1.028  , ..., -0.5534 , -0.5377 , -0.4953 ],\n",
       "       [-6.756  ,  1.823  ,  1.087  , ..., -0.5534 , -0.4626 , -0.4953 ]])"
      ]
     },
     "execution_count": 6,
     "metadata": {},
     "output_type": "execute_result"
    }
   ],
   "source": [
    "X_train"
   ]
  },
  {
   "cell_type": "code",
   "execution_count": 7,
   "metadata": {
    "collapsed": true
   },
   "outputs": [],
   "source": [
    "pen = np.array([0 if x == 'prior_logit' else 1 for x in feature_names])"
   ]
  },
  {
   "cell_type": "markdown",
   "metadata": {},
   "source": [
    "    hetior::glmnet_train(X = X_train, y = y_train, alpha = 0.2, s = lambda, cores = 10, seed = 0,\n",
    "      penalty.factor=penalty, lambda.min.ratio=1e-8, nlambda=150, standardize=TRUE)\n",
    "        \n",
    "      fit$cv_model <- glmnet::cv.glmnet(x = X, y = y, weights = w, family='binomial',\n",
    "        alpha=alpha, parallel=TRUE, ...)\n",
    "        "
   ]
  },
  {
   "cell_type": "code",
   "execution_count": 9,
   "metadata": {
    "collapsed": true
   },
   "outputs": [],
   "source": [
    "from glmnet import LogitNet"
   ]
  },
  {
   "cell_type": "code",
   "execution_count": 10,
   "metadata": {
    "collapsed": true
   },
   "outputs": [],
   "source": [
    "ln = LogitNet(alpha=0.2, n_jobs=-1, min_lambda_ratio=1e-8, n_lambda=150, standardize=True, \n",
    "              random_state=0, scoring='roc_auc')"
   ]
  },
  {
   "cell_type": "code",
   "execution_count": 11,
   "metadata": {
    "scrolled": true
   },
   "outputs": [
    {
     "data": {
      "text/plain": [
       "LogitNet(alpha=0.2, cut_point=1.0, fit_intercept=True, lambda_path=None,\n",
       "     max_iter=100000, min_lambda_ratio=1e-08, n_jobs=-1, n_lambda=150,\n",
       "     n_splits=3, random_state=0, scoring='roc_auc', standardize=True,\n",
       "     tol=1e-07, verbose=False)"
      ]
     },
     "execution_count": 11,
     "metadata": {},
     "output_type": "execute_result"
    }
   ],
   "source": [
    "ln.fit(X_train, y_train, relative_penalties=pen)"
   ]
  },
  {
   "cell_type": "code",
   "execution_count": 12,
   "metadata": {},
   "outputs": [
    {
     "data": {
      "text/plain": [
       "array([ 0.00046676])"
      ]
     },
     "execution_count": 12,
     "metadata": {},
     "output_type": "execute_result"
    }
   ],
   "source": [
    "ln.lambda_best_"
   ]
  },
  {
   "cell_type": "code",
   "execution_count": 13,
   "metadata": {},
   "outputs": [
    {
     "data": {
      "image/png": "[encoded data removed]",
      "text/plain": [
       "<matplotlib.figure.Figure at 0x7f85100da3c8>"
      ]
     },
     "metadata": {},
     "output_type": "display_data"
    }
   ],
   "source": [
    "for i in range(ln.coef_path_.shape[1]):\n",
    "    plt.plot(ln.lambda_path_, ln.coef_path_[0, i, :])\n",
    "\n",
    "ax = plt.gca()\n",
    "ax.set_xlim(right=ln.lambda_path_.max())\n",
    "ax.set_xlabel(\"lambda\")\n",
    "ax.set_ylabel(\"Coef Value\")\n",
    "#ax.invert_xaxis()\n",
    "#ax.set_ylim(-.2,.2)\n",
    "plt.show()"
   ]
  },
  {
   "cell_type": "code",
   "execution_count": 14,
   "metadata": {},
   "outputs": [
    {
     "data": {
      "text/plain": [
       "0.3882099353606967"
      ]
     },
     "execution_count": 14,
     "metadata": {},
     "output_type": "execute_result"
    }
   ],
   "source": [
    "# Prior_logit coeff\n",
    "ln.coef_[0][0]"
   ]
  },
  {
   "cell_type": "code",
   "execution_count": 15,
   "metadata": {},
   "outputs": [
    {
     "data": {
      "text/plain": [
       "754.99027499999988"
      ]
     },
     "execution_count": 15,
     "metadata": {},
     "output_type": "execute_result"
    }
   ],
   "source": [
    "feature_df['prior_prob'].sum()"
   ]
  },
  {
   "cell_type": "code",
   "execution_count": 16,
   "metadata": {},
   "outputs": [
    {
     "data": {
      "text/plain": [
       "'0.3610%'"
      ]
     },
     "execution_count": 16,
     "metadata": {},
     "output_type": "execute_result"
    }
   ],
   "source": [
    "'{:0.4%}'.format(feature_df['status'].mean())"
   ]
  },
  {
   "cell_type": "code",
   "execution_count": 17,
   "metadata": {},
   "outputs": [
    {
     "data": {
      "text/plain": [
       "(20, 40)"
      ]
     },
     "execution_count": 17,
     "metadata": {},
     "output_type": "execute_result"
    }
   ],
   "source": [
    "sum(ln.coef_[0] > 0), sum(ln.coef_[0] < 0)"
   ]
  },
  {
   "cell_type": "code",
   "execution_count": 18,
   "metadata": {
    "collapsed": true
   },
   "outputs": [],
   "source": [
    "from scipy.special import logit"
   ]
  },
  {
   "cell_type": "code",
   "execution_count": 19,
   "metadata": {
    "collapsed": true
   },
   "outputs": [],
   "source": [
    "X_all = feature_df.iloc[:,7:].values\n",
    "X_all[:,0] = logit(feature_df['status'].mean())"
   ]
  },
  {
   "cell_type": "code",
   "execution_count": 20,
   "metadata": {
    "collapsed": true
   },
   "outputs": [],
   "source": [
    "y_predicted = ln.predict_proba(X_all)[:,1]"
   ]
  },
  {
   "cell_type": "code",
   "execution_count": 21,
   "metadata": {},
   "outputs": [
    {
     "data": {
      "text/plain": [
       "(209168,)"
      ]
     },
     "execution_count": 21,
     "metadata": {},
     "output_type": "execute_result"
    }
   ],
   "source": [
    "y_predicted.shape"
   ]
  },
  {
   "cell_type": "code",
   "execution_count": 22,
   "metadata": {},
   "outputs": [
    {
     "data": {
      "text/plain": [
       "0.0031229301822754438"
      ]
     },
     "execution_count": 22,
     "metadata": {},
     "output_type": "execute_result"
    }
   ],
   "source": [
    "y_predicted.mean()"
   ]
  },
  {
   "cell_type": "code",
   "execution_count": 23,
   "metadata": {
    "collapsed": true
   },
   "outputs": [],
   "source": [
    "train_pred_df = train_df.loc[:,['compound_id', 'disease_id']]\n",
    "train_pred_df['training_prediction'] = ln.predict_proba(X_train)[:,1]"
   ]
  },
  {
   "cell_type": "code",
   "execution_count": 24,
   "metadata": {},
   "outputs": [
    {
     "name": "stdout",
     "output_type": "stream",
     "text": [
      "(209168, 7)\n"
     ]
    }
   ],
   "source": [
    "predict_df = feature_df.iloc[:,:7]\n",
    "print(predict_df.shape)\n",
    "predict_df['prediction'] = y_predicted\n",
    "predict_df = predict_df.merge(train_pred_df, how='left', on=['compound_id', 'disease_id'])"
   ]
  },
  {
   "cell_type": "code",
   "execution_count": 25,
   "metadata": {
    "collapsed": true
   },
   "outputs": [],
   "source": [
    "def add_percentile_column(in_df, group_col, new_col, cdst_col='prediction'):\n",
    "\n",
    "\n",
    "    grpd = in_df.groupby(group_col)\n",
    "    predict_dfs = []\n",
    "\n",
    "    for grp, df1 in grpd:\n",
    "        df = df1.copy()\n",
    "\n",
    "        total = df.shape[0]\n",
    "\n",
    "        df.sort_values(cdst_col, inplace=True)\n",
    "        order = np.array(df.reset_index(drop=True).index)\n",
    "\n",
    "        percentile = (order+1) / total\n",
    "        df[new_col] = percentile\n",
    "\n",
    "        predict_dfs.append(df)\n",
    "\n",
    "    return pd.concat(predict_dfs)"
   ]
  },
  {
   "cell_type": "code",
   "execution_count": 26,
   "metadata": {
    "collapsed": true
   },
   "outputs": [],
   "source": [
    "predict_df = add_percentile_column(predict_df, group_col='compound_id', new_col='compound_percentile')\n",
    "predict_df = add_percentile_column(predict_df, group_col='disease_id', new_col='disease_percentile')"
   ]
  },
  {
   "cell_type": "code",
   "execution_count": 27,
   "metadata": {
    "collapsed": true
   },
   "outputs": [],
   "source": [
    "predict_df = predict_df.merge(pd.read_table('../validate/validation-statuses.tsv')\n",
    "                              .drop(['compound_name', 'disease_name'], axis=1),\n",
    "                          how='left', on=['compound_id', 'disease_id'])"
   ]
  },
  {
   "cell_type": "code",
   "execution_count": 28,
   "metadata": {},
   "outputs": [
    {
     "data": {
      "text/html": [
       "<div>\n",
       "<table border=\"1\" class=\"dataframe\">\n",
       "  <thead>\n",
       "    <tr style=\"text-align: right;\">\n",
       "      <th></th>\n",
       "      <th>compound_id</th>\n",
       "      <th>disease_id</th>\n",
       "      <th>compound_name</th>\n",
       "      <th>disease_name</th>\n",
       "      <th>category</th>\n",
       "      <th>status</th>\n",
       "      <th>prior_prob</th>\n",
       "      <th>prediction</th>\n",
       "      <th>training_prediction</th>\n",
       "      <th>compound_percentile</th>\n",
       "      <th>disease_percentile</th>\n",
       "      <th>n_trials</th>\n",
       "      <th>status_trials</th>\n",
       "      <th>status_drugcentral</th>\n",
       "    </tr>\n",
       "  </thead>\n",
       "  <tbody>\n",
       "    <tr>\n",
       "      <th>0</th>\n",
       "      <td>DB01273</td>\n",
       "      <td>DOID:0050742</td>\n",
       "      <td>Varenicline</td>\n",
       "      <td>nicotine dependence</td>\n",
       "      <td>DM</td>\n",
       "      <td>1</td>\n",
       "      <td>0.001162</td>\n",
       "      <td>0.999984</td>\n",
       "      <td>0.999975</td>\n",
       "      <td>1.0</td>\n",
       "      <td>1.0</td>\n",
       "      <td>NaN</td>\n",
       "      <td>NaN</td>\n",
       "      <td>NaN</td>\n",
       "    </tr>\n",
       "    <tr>\n",
       "      <th>1</th>\n",
       "      <td>DB00284</td>\n",
       "      <td>DOID:9352</td>\n",
       "      <td>Acarbose</td>\n",
       "      <td>type 2 diabetes mellitus</td>\n",
       "      <td>DM</td>\n",
       "      <td>1</td>\n",
       "      <td>0.029250</td>\n",
       "      <td>0.999983</td>\n",
       "      <td>0.999993</td>\n",
       "      <td>1.0</td>\n",
       "      <td>1.0</td>\n",
       "      <td>NaN</td>\n",
       "      <td>NaN</td>\n",
       "      <td>NaN</td>\n",
       "    </tr>\n",
       "  </tbody>\n",
       "</table>\n",
       "</div>"
      ],
      "text/plain": [
       "  compound_id    disease_id compound_name              disease_name category  \\\n",
       "0     DB01273  DOID:0050742   Varenicline       nicotine dependence       DM   \n",
       "1     DB00284     DOID:9352      Acarbose  type 2 diabetes mellitus       DM   \n",
       "\n",
       "   status  prior_prob  prediction  training_prediction  compound_percentile  \\\n",
       "0       1    0.001162    0.999984             0.999975                  1.0   \n",
       "1       1    0.029250    0.999983             0.999993                  1.0   \n",
       "\n",
       "   disease_percentile  n_trials  status_trials  status_drugcentral  \n",
       "0                 1.0       NaN            NaN                 NaN  \n",
       "1                 1.0       NaN            NaN                 NaN  "
      ]
     },
     "execution_count": 28,
     "metadata": {},
     "output_type": "execute_result"
    }
   ],
   "source": [
    "predict_df = predict_df.sort_values('prediction', ascending=False).reset_index(drop=True)\n",
    "predict_df.head(2)"
   ]
  },
  {
   "cell_type": "code",
   "execution_count": 29,
   "metadata": {
    "collapsed": true
   },
   "outputs": [],
   "source": [
    "from sklearn.metrics import average_precision_score, roc_auc_score"
   ]
  },
  {
   "cell_type": "code",
   "execution_count": 30,
   "metadata": {
    "collapsed": true
   },
   "outputs": [],
   "source": [
    "out_dat = []\n",
    "\n",
    "for y_pred in ['prediction', 'compound_percentile', 'disease_percentile', 'training_prediction', 'prior_prob']:\n",
    "    for y_true in ['status', 'status_drugcentral', 'status_trials']:\n",
    "        vtm_df = predict_df[[y_true, y_pred]].dropna(axis=0)\n",
    "        \n",
    "        y_true_vals = vtm_df[y_true].values\n",
    "        y_pred_vals = vtm_df[y_pred].values\n",
    "        \n",
    "        \n",
    "        n_pos = len(np.where(y_true_vals==1)[0])\n",
    "        n_neg = len(np.where(y_true_vals==0)[0])\n",
    "        \n",
    "        auroc = roc_auc_score(y_true_vals, y_pred_vals)\n",
    "        auprc = average_precision_score(y_true_vals, y_pred_vals)\n",
    "        tjur = vtm_df[vtm_df[y_true]==1][y_pred].mean() - vtm_df[vtm_df[y_true]==0][y_pred].mean()\n",
    "        \n",
    "        out_dat.append({'y_true_var': y_true, 'y_pred_var': y_pred, 'n_pos': n_pos, 'n_neg':n_neg,\n",
    "                       'auroc': auroc, 'auprc': auprc, 'tjur':tjur})\n",
    "perf_df = pd.DataFrame(out_dat)[['y_true_var', 'y_pred_var', 'n_pos', 'n_neg', 'auroc', 'auprc', 'tjur']].sort_values('y_pred_var')"
   ]
  },
  {
   "cell_type": "code",
   "execution_count": 31,
   "metadata": {},
   "outputs": [
    {
     "data": {
      "text/html": [
       "<div>\n",
       "<table border=\"1\" class=\"dataframe\">\n",
       "  <thead>\n",
       "    <tr style=\"text-align: right;\">\n",
       "      <th></th>\n",
       "      <th>y_true_var</th>\n",
       "      <th>y_pred_var</th>\n",
       "      <th>n_pos</th>\n",
       "      <th>n_neg</th>\n",
       "      <th>auroc</th>\n",
       "      <th>auprc</th>\n",
       "      <th>tjur</th>\n",
       "    </tr>\n",
       "  </thead>\n",
       "  <tbody>\n",
       "    <tr>\n",
       "      <th>3</th>\n",
       "      <td>status</td>\n",
       "      <td>compound_percentile</td>\n",
       "      <td>755</td>\n",
       "      <td>208413</td>\n",
       "      <td>0.984232</td>\n",
       "      <td>0.385547</td>\n",
       "      <td>0.484232</td>\n",
       "    </tr>\n",
       "    <tr>\n",
       "      <th>4</th>\n",
       "      <td>status_drugcentral</td>\n",
       "      <td>compound_percentile</td>\n",
       "      <td>208</td>\n",
       "      <td>207572</td>\n",
       "      <td>0.811985</td>\n",
       "      <td>0.150045</td>\n",
       "      <td>0.311663</td>\n",
       "    </tr>\n",
       "    <tr>\n",
       "      <th>5</th>\n",
       "      <td>status_trials</td>\n",
       "      <td>compound_percentile</td>\n",
       "      <td>5594</td>\n",
       "      <td>202186</td>\n",
       "      <td>0.623373</td>\n",
       "      <td>0.057201</td>\n",
       "      <td>0.122937</td>\n",
       "    </tr>\n",
       "    <tr>\n",
       "      <th>6</th>\n",
       "      <td>status</td>\n",
       "      <td>disease_percentile</td>\n",
       "      <td>755</td>\n",
       "      <td>208413</td>\n",
       "      <td>0.994487</td>\n",
       "      <td>0.407664</td>\n",
       "      <td>0.494487</td>\n",
       "    </tr>\n",
       "    <tr>\n",
       "      <th>7</th>\n",
       "      <td>status_drugcentral</td>\n",
       "      <td>disease_percentile</td>\n",
       "      <td>208</td>\n",
       "      <td>207572</td>\n",
       "      <td>0.734798</td>\n",
       "      <td>0.003798</td>\n",
       "      <td>0.233908</td>\n",
       "    </tr>\n",
       "    <tr>\n",
       "      <th>8</th>\n",
       "      <td>status_trials</td>\n",
       "      <td>disease_percentile</td>\n",
       "      <td>5594</td>\n",
       "      <td>202186</td>\n",
       "      <td>0.527550</td>\n",
       "      <td>0.043316</td>\n",
       "      <td>0.027471</td>\n",
       "    </tr>\n",
       "    <tr>\n",
       "      <th>0</th>\n",
       "      <td>status</td>\n",
       "      <td>prediction</td>\n",
       "      <td>755</td>\n",
       "      <td>208413</td>\n",
       "      <td>0.999997</td>\n",
       "      <td>0.998967</td>\n",
       "      <td>0.841030</td>\n",
       "    </tr>\n",
       "    <tr>\n",
       "      <th>1</th>\n",
       "      <td>status_drugcentral</td>\n",
       "      <td>prediction</td>\n",
       "      <td>208</td>\n",
       "      <td>207572</td>\n",
       "      <td>0.825337</td>\n",
       "      <td>0.025639</td>\n",
       "      <td>0.011404</td>\n",
       "    </tr>\n",
       "    <tr>\n",
       "      <th>2</th>\n",
       "      <td>status_trials</td>\n",
       "      <td>prediction</td>\n",
       "      <td>5594</td>\n",
       "      <td>202186</td>\n",
       "      <td>0.594602</td>\n",
       "      <td>0.093422</td>\n",
       "      <td>0.001242</td>\n",
       "    </tr>\n",
       "    <tr>\n",
       "      <th>12</th>\n",
       "      <td>status</td>\n",
       "      <td>prior_prob</td>\n",
       "      <td>755</td>\n",
       "      <td>208413</td>\n",
       "      <td>0.979166</td>\n",
       "      <td>0.162854</td>\n",
       "      <td>0.106842</td>\n",
       "    </tr>\n",
       "    <tr>\n",
       "      <th>13</th>\n",
       "      <td>status_drugcentral</td>\n",
       "      <td>prior_prob</td>\n",
       "      <td>208</td>\n",
       "      <td>207572</td>\n",
       "      <td>0.541044</td>\n",
       "      <td>0.003123</td>\n",
       "      <td>0.017215</td>\n",
       "    </tr>\n",
       "    <tr>\n",
       "      <th>14</th>\n",
       "      <td>status_trials</td>\n",
       "      <td>prior_prob</td>\n",
       "      <td>5594</td>\n",
       "      <td>202186</td>\n",
       "      <td>0.625293</td>\n",
       "      <td>0.086577</td>\n",
       "      <td>0.014727</td>\n",
       "    </tr>\n",
       "    <tr>\n",
       "      <th>9</th>\n",
       "      <td>status</td>\n",
       "      <td>training_prediction</td>\n",
       "      <td>755</td>\n",
       "      <td>29044</td>\n",
       "      <td>0.999967</td>\n",
       "      <td>0.998442</td>\n",
       "      <td>0.940386</td>\n",
       "    </tr>\n",
       "    <tr>\n",
       "      <th>10</th>\n",
       "      <td>status_drugcentral</td>\n",
       "      <td>training_prediction</td>\n",
       "      <td>42</td>\n",
       "      <td>28819</td>\n",
       "      <td>0.884768</td>\n",
       "      <td>0.088621</td>\n",
       "      <td>0.118463</td>\n",
       "    </tr>\n",
       "    <tr>\n",
       "      <th>11</th>\n",
       "      <td>status_trials</td>\n",
       "      <td>training_prediction</td>\n",
       "      <td>2044</td>\n",
       "      <td>26817</td>\n",
       "      <td>0.703427</td>\n",
       "      <td>0.202855</td>\n",
       "      <td>0.008547</td>\n",
       "    </tr>\n",
       "  </tbody>\n",
       "</table>\n",
       "</div>"
      ],
      "text/plain": [
       "            y_true_var           y_pred_var  n_pos   n_neg     auroc  \\\n",
       "3               status  compound_percentile    755  208413  0.984232   \n",
       "4   status_drugcentral  compound_percentile    208  207572  0.811985   \n",
       "5        status_trials  compound_percentile   5594  202186  0.623373   \n",
       "6               status   disease_percentile    755  208413  0.994487   \n",
       "7   status_drugcentral   disease_percentile    208  207572  0.734798   \n",
       "8        status_trials   disease_percentile   5594  202186  0.527550   \n",
       "0               status           prediction    755  208413  0.999997   \n",
       "1   status_drugcentral           prediction    208  207572  0.825337   \n",
       "2        status_trials           prediction   5594  202186  0.594602   \n",
       "12              status           prior_prob    755  208413  0.979166   \n",
       "13  status_drugcentral           prior_prob    208  207572  0.541044   \n",
       "14       status_trials           prior_prob   5594  202186  0.625293   \n",
       "9               status  training_prediction    755   29044  0.999967   \n",
       "10  status_drugcentral  training_prediction     42   28819  0.884768   \n",
       "11       status_trials  training_prediction   2044   26817  0.703427   \n",
       "\n",
       "       auprc      tjur  \n",
       "3   0.385547  0.484232  \n",
       "4   0.150045  0.311663  \n",
       "5   0.057201  0.122937  \n",
       "6   0.407664  0.494487  \n",
       "7   0.003798  0.233908  \n",
       "8   0.043316  0.027471  \n",
       "0   0.998967  0.841030  \n",
       "1   0.025639  0.011404  \n",
       "2   0.093422  0.001242  \n",
       "12  0.162854  0.106842  \n",
       "13  0.003123  0.017215  \n",
       "14  0.086577  0.014727  \n",
       "9   0.998442  0.940386  \n",
       "10  0.088621  0.118463  \n",
       "11  0.202855  0.008547  "
      ]
     },
     "execution_count": 31,
     "metadata": {},
     "output_type": "execute_result"
    }
   ],
   "source": [
    "perf_df"
   ]
  },
  {
   "cell_type": "code",
   "execution_count": 32,
   "metadata": {
    "collapsed": true
   },
   "outputs": [],
   "source": [
    "def glmnet_coefs(glmnet_obj, X, y):\n",
    "    l = glmnet_obj.lambda_best_[0]\n",
    "    \n",
    "    coef = glmnet_obj.coef_[0]\n",
    "    coef = np.insert(coef, 0, glmnet_obj.intercept_)\n",
    "    \n",
    "    names = np.insert(feature_names, 0, 'intercept')\n",
    "    \n",
    "    z_intercept = coef[0] + sum(coef[1:] * X.mean(axis=0))\n",
    "    z_coef = coef[1:] * X.std(axis=0)\n",
    "    z_coef = np.insert(z_coef, 0, z_intercept)\n",
    "    \n",
    "    return pd.DataFrame([names, coef, z_coef]).T.rename(columns={0:'feature', 1:'coef', 2:'zcoef'})\n",
    "    "
   ]
  },
  {
   "cell_type": "code",
   "execution_count": 33,
   "metadata": {
    "collapsed": true
   },
   "outputs": [],
   "source": [
    "perf_df.to_csv('predictions/performance_py-replacement.tsv', sep='\\t', index=False)\n",
    "glmnet_coefs(ln, X_train, y_train).to_csv('model/coefficient_py-replacement.tsv', sep='\\t', index=False)\n",
    "predict_df.to_csv('predictions/probabilities_py-replacement.tsv', sep='\\t', index=False)"
   ]
  },
  {
   "cell_type": "code",
   "execution_count": 34,
   "metadata": {},
   "outputs": [
    {
     "data": {
      "text/html": [
       "<div>\n",
       "<table border=\"1\" class=\"dataframe\">\n",
       "  <thead>\n",
       "    <tr style=\"text-align: right;\">\n",
       "      <th></th>\n",
       "      <th>feature</th>\n",
       "      <th>coef</th>\n",
       "      <th>zcoef</th>\n",
       "    </tr>\n",
       "  </thead>\n",
       "  <tbody>\n",
       "    <tr>\n",
       "      <th>126</th>\n",
       "      <td>dwpc_CtDtCtD</td>\n",
       "      <td>1.14918</td>\n",
       "      <td>2.75481</td>\n",
       "    </tr>\n",
       "    <tr>\n",
       "      <th>32</th>\n",
       "      <td>dwpc_CbGbCtD</td>\n",
       "      <td>0.841876</td>\n",
       "      <td>1.16821</td>\n",
       "    </tr>\n",
       "    <tr>\n",
       "      <th>73</th>\n",
       "      <td>dwpc_CcSEcCtD</td>\n",
       "      <td>0.7471</td>\n",
       "      <td>0.747082</td>\n",
       "    </tr>\n",
       "    <tr>\n",
       "      <th>117</th>\n",
       "      <td>dwpc_CrCrCtD</td>\n",
       "      <td>0.499049</td>\n",
       "      <td>0.827762</td>\n",
       "    </tr>\n",
       "    <tr>\n",
       "      <th>1</th>\n",
       "      <td>prior_logit</td>\n",
       "      <td>0.38821</td>\n",
       "      <td>0.528339</td>\n",
       "    </tr>\n",
       "    <tr>\n",
       "      <th>135</th>\n",
       "      <td>dwpc_CuGuCtD</td>\n",
       "      <td>0.341876</td>\n",
       "      <td>0.540321</td>\n",
       "    </tr>\n",
       "    <tr>\n",
       "      <th>83</th>\n",
       "      <td>dwpc_CdGdCtD</td>\n",
       "      <td>0.226921</td>\n",
       "      <td>0.349797</td>\n",
       "    </tr>\n",
       "    <tr>\n",
       "      <th>14</th>\n",
       "      <td>degree_DrD</td>\n",
       "      <td>0.165167</td>\n",
       "      <td>0.161701</td>\n",
       "    </tr>\n",
       "    <tr>\n",
       "      <th>95</th>\n",
       "      <td>dwpc_CiPCiCtD</td>\n",
       "      <td>0.151365</td>\n",
       "      <td>0.327165</td>\n",
       "    </tr>\n",
       "    <tr>\n",
       "      <th>11</th>\n",
       "      <td>degree_DlA</td>\n",
       "      <td>0.0798231</td>\n",
       "      <td>0.071014</td>\n",
       "    </tr>\n",
       "    <tr>\n",
       "      <th>97</th>\n",
       "      <td>dwpc_CpDpCtD</td>\n",
       "      <td>0.0716169</td>\n",
       "      <td>0.109364</td>\n",
       "    </tr>\n",
       "    <tr>\n",
       "      <th>78</th>\n",
       "      <td>dwpc_CdGbCdGaD</td>\n",
       "      <td>0.0484715</td>\n",
       "      <td>0.0742178</td>\n",
       "    </tr>\n",
       "    <tr>\n",
       "      <th>23</th>\n",
       "      <td>dwpc_CbGaD</td>\n",
       "      <td>0.0377774</td>\n",
       "      <td>0.0474955</td>\n",
       "    </tr>\n",
       "    <tr>\n",
       "      <th>9</th>\n",
       "      <td>degree_DaG</td>\n",
       "      <td>0.0337863</td>\n",
       "      <td>0.0218004</td>\n",
       "    </tr>\n",
       "    <tr>\n",
       "      <th>13</th>\n",
       "      <td>degree_DpS</td>\n",
       "      <td>0.0298042</td>\n",
       "      <td>0.0269787</td>\n",
       "    </tr>\n",
       "    <tr>\n",
       "      <th>46</th>\n",
       "      <td>dwpc_CbGiGaD</td>\n",
       "      <td>0.0290513</td>\n",
       "      <td>0.0350617</td>\n",
       "    </tr>\n",
       "    <tr>\n",
       "      <th>101</th>\n",
       "      <td>dwpc_CrCbGaD</td>\n",
       "      <td>0.0286777</td>\n",
       "      <td>0.0321742</td>\n",
       "    </tr>\n",
       "    <tr>\n",
       "      <th>70</th>\n",
       "      <td>dwpc_CbGuDrDrD</td>\n",
       "      <td>0.0280236</td>\n",
       "      <td>0.0322955</td>\n",
       "    </tr>\n",
       "    <tr>\n",
       "      <th>43</th>\n",
       "      <td>dwpc_CbGeAlD</td>\n",
       "      <td>0.0275448</td>\n",
       "      <td>0.0292831</td>\n",
       "    </tr>\n",
       "    <tr>\n",
       "      <th>44</th>\n",
       "      <td>dwpc_CbGeAlDrD</td>\n",
       "      <td>0.0111461</td>\n",
       "      <td>0.0115017</td>\n",
       "    </tr>\n",
       "    <tr>\n",
       "      <th>57</th>\n",
       "      <td>dwpc_CbGr&gt;GaDrD</td>\n",
       "      <td>0</td>\n",
       "      <td>0</td>\n",
       "    </tr>\n",
       "    <tr>\n",
       "      <th>96</th>\n",
       "      <td>dwpc_CiPCiCuGaD</td>\n",
       "      <td>0</td>\n",
       "      <td>0</td>\n",
       "    </tr>\n",
       "    <tr>\n",
       "      <th>68</th>\n",
       "      <td>dwpc_CbGuDaGaD</td>\n",
       "      <td>0</td>\n",
       "      <td>0</td>\n",
       "    </tr>\n",
       "    <tr>\n",
       "      <th>67</th>\n",
       "      <td>dwpc_CbGuCuGaD</td>\n",
       "      <td>0</td>\n",
       "      <td>0</td>\n",
       "    </tr>\n",
       "    <tr>\n",
       "      <th>66</th>\n",
       "      <td>dwpc_CbGuCtDrD</td>\n",
       "      <td>0</td>\n",
       "      <td>0</td>\n",
       "    </tr>\n",
       "    <tr>\n",
       "      <th>65</th>\n",
       "      <td>dwpc_CbGuCdGaD</td>\n",
       "      <td>0</td>\n",
       "      <td>0</td>\n",
       "    </tr>\n",
       "    <tr>\n",
       "      <th>61</th>\n",
       "      <td>dwpc_CbGuAeGaD</td>\n",
       "      <td>0</td>\n",
       "      <td>0</td>\n",
       "    </tr>\n",
       "    <tr>\n",
       "      <th>60</th>\n",
       "      <td>dwpc_CbGr&gt;Gr&gt;GaD</td>\n",
       "      <td>0</td>\n",
       "      <td>0</td>\n",
       "    </tr>\n",
       "    <tr>\n",
       "      <th>64</th>\n",
       "      <td>dwpc_CbGuAuGaD</td>\n",
       "      <td>0</td>\n",
       "      <td>0</td>\n",
       "    </tr>\n",
       "    <tr>\n",
       "      <th>111</th>\n",
       "      <td>dwpc_CrCdGeAlD</td>\n",
       "      <td>0</td>\n",
       "      <td>0</td>\n",
       "    </tr>\n",
       "    <tr>\n",
       "      <th>...</th>\n",
       "      <td>...</td>\n",
       "      <td>...</td>\n",
       "      <td>...</td>\n",
       "    </tr>\n",
       "    <tr>\n",
       "      <th>76</th>\n",
       "      <td>dwpc_CdGaDdGaD</td>\n",
       "      <td>-0.0249246</td>\n",
       "      <td>-0.0353401</td>\n",
       "    </tr>\n",
       "    <tr>\n",
       "      <th>48</th>\n",
       "      <td>dwpc_CbGiGbCtD</td>\n",
       "      <td>-0.0267714</td>\n",
       "      <td>-0.0372258</td>\n",
       "    </tr>\n",
       "    <tr>\n",
       "      <th>129</th>\n",
       "      <td>dwpc_CuG&lt;rGiGaD</td>\n",
       "      <td>-0.0268665</td>\n",
       "      <td>-0.0363011</td>\n",
       "    </tr>\n",
       "    <tr>\n",
       "      <th>45</th>\n",
       "      <td>dwpc_CbGeAuGaD</td>\n",
       "      <td>-0.033605</td>\n",
       "      <td>-0.0382853</td>\n",
       "    </tr>\n",
       "    <tr>\n",
       "      <th>125</th>\n",
       "      <td>dwpc_CtDrD</td>\n",
       "      <td>-0.0397356</td>\n",
       "      <td>-0.0834383</td>\n",
       "    </tr>\n",
       "    <tr>\n",
       "      <th>122</th>\n",
       "      <td>dwpc_CrCuGaDrD</td>\n",
       "      <td>-0.0399044</td>\n",
       "      <td>-0.0485253</td>\n",
       "    </tr>\n",
       "    <tr>\n",
       "      <th>137</th>\n",
       "      <td>dwpc_CuGuCuGaD</td>\n",
       "      <td>-0.0409203</td>\n",
       "      <td>-0.0570242</td>\n",
       "    </tr>\n",
       "    <tr>\n",
       "      <th>84</th>\n",
       "      <td>dwpc_CdGdCtDrD</td>\n",
       "      <td>-0.0433922</td>\n",
       "      <td>-0.0581584</td>\n",
       "    </tr>\n",
       "    <tr>\n",
       "      <th>27</th>\n",
       "      <td>dwpc_CbGaDrD</td>\n",
       "      <td>-0.0513862</td>\n",
       "      <td>-0.0548551</td>\n",
       "    </tr>\n",
       "    <tr>\n",
       "      <th>127</th>\n",
       "      <td>dwpc_CuG&lt;rG&lt;rGaD</td>\n",
       "      <td>-0.0542903</td>\n",
       "      <td>-0.0741559</td>\n",
       "    </tr>\n",
       "    <tr>\n",
       "      <th>6</th>\n",
       "      <td>degree_CpD</td>\n",
       "      <td>-0.0608658</td>\n",
       "      <td>-0.0696242</td>\n",
       "    </tr>\n",
       "    <tr>\n",
       "      <th>25</th>\n",
       "      <td>dwpc_CbGaDlAlD</td>\n",
       "      <td>-0.0660784</td>\n",
       "      <td>-0.0658887</td>\n",
       "    </tr>\n",
       "    <tr>\n",
       "      <th>128</th>\n",
       "      <td>dwpc_CuG&lt;rGaD</td>\n",
       "      <td>-0.0693779</td>\n",
       "      <td>-0.0938917</td>\n",
       "    </tr>\n",
       "    <tr>\n",
       "      <th>108</th>\n",
       "      <td>dwpc_CrCdGaDrD</td>\n",
       "      <td>-0.0762981</td>\n",
       "      <td>-0.0932394</td>\n",
       "    </tr>\n",
       "    <tr>\n",
       "      <th>134</th>\n",
       "      <td>dwpc_CuGr&gt;GbCtD</td>\n",
       "      <td>-0.0828791</td>\n",
       "      <td>-0.134511</td>\n",
       "    </tr>\n",
       "    <tr>\n",
       "      <th>119</th>\n",
       "      <td>dwpc_CrCtDtCtD</td>\n",
       "      <td>-0.0841927</td>\n",
       "      <td>-0.138492</td>\n",
       "    </tr>\n",
       "    <tr>\n",
       "      <th>77</th>\n",
       "      <td>dwpc_CdGaDuGaD</td>\n",
       "      <td>-0.0890454</td>\n",
       "      <td>-0.125856</td>\n",
       "    </tr>\n",
       "    <tr>\n",
       "      <th>94</th>\n",
       "      <td>dwpc_CiPCiCrCtD</td>\n",
       "      <td>-0.0904921</td>\n",
       "      <td>-0.170949</td>\n",
       "    </tr>\n",
       "    <tr>\n",
       "      <th>4</th>\n",
       "      <td>degree_CdG</td>\n",
       "      <td>-0.0979558</td>\n",
       "      <td>-0.115984</td>\n",
       "    </tr>\n",
       "    <tr>\n",
       "      <th>118</th>\n",
       "      <td>dwpc_CrCtD</td>\n",
       "      <td>-0.101074</td>\n",
       "      <td>-0.170303</td>\n",
       "    </tr>\n",
       "    <tr>\n",
       "      <th>102</th>\n",
       "      <td>dwpc_CrCbGaDrD</td>\n",
       "      <td>-0.108418</td>\n",
       "      <td>-0.111206</td>\n",
       "    </tr>\n",
       "    <tr>\n",
       "      <th>8</th>\n",
       "      <td>degree_CuG</td>\n",
       "      <td>-0.117022</td>\n",
       "      <td>-0.140225</td>\n",
       "    </tr>\n",
       "    <tr>\n",
       "      <th>2</th>\n",
       "      <td>degree_CbG</td>\n",
       "      <td>-0.139244</td>\n",
       "      <td>-0.113315</td>\n",
       "    </tr>\n",
       "    <tr>\n",
       "      <th>59</th>\n",
       "      <td>dwpc_CbGr&gt;GiGaD</td>\n",
       "      <td>-0.143521</td>\n",
       "      <td>-0.181162</td>\n",
       "    </tr>\n",
       "    <tr>\n",
       "      <th>103</th>\n",
       "      <td>dwpc_CrCbGbCtD</td>\n",
       "      <td>-0.170267</td>\n",
       "      <td>-0.212592</td>\n",
       "    </tr>\n",
       "    <tr>\n",
       "      <th>5</th>\n",
       "      <td>degree_CiPC</td>\n",
       "      <td>-0.194261</td>\n",
       "      <td>-0.196689</td>\n",
       "    </tr>\n",
       "    <tr>\n",
       "      <th>31</th>\n",
       "      <td>dwpc_CbGbCrCtD</td>\n",
       "      <td>-0.220911</td>\n",
       "      <td>-0.297603</td>\n",
       "    </tr>\n",
       "    <tr>\n",
       "      <th>7</th>\n",
       "      <td>degree_CrC</td>\n",
       "      <td>-0.320579</td>\n",
       "      <td>-0.308861</td>\n",
       "    </tr>\n",
       "    <tr>\n",
       "      <th>3</th>\n",
       "      <td>degree_CcSE</td>\n",
       "      <td>-0.797139</td>\n",
       "      <td>-0.449548</td>\n",
       "    </tr>\n",
       "    <tr>\n",
       "      <th>0</th>\n",
       "      <td>intercept</td>\n",
       "      <td>-13.5897</td>\n",
       "      <td>-13.4968</td>\n",
       "    </tr>\n",
       "  </tbody>\n",
       "</table>\n",
       "<p>139 rows × 3 columns</p>\n",
       "</div>"
      ],
      "text/plain": [
       "              feature       coef      zcoef\n",
       "126      dwpc_CtDtCtD    1.14918    2.75481\n",
       "32       dwpc_CbGbCtD   0.841876    1.16821\n",
       "73      dwpc_CcSEcCtD     0.7471   0.747082\n",
       "117      dwpc_CrCrCtD   0.499049   0.827762\n",
       "1         prior_logit    0.38821   0.528339\n",
       "135      dwpc_CuGuCtD   0.341876   0.540321\n",
       "83       dwpc_CdGdCtD   0.226921   0.349797\n",
       "14         degree_DrD   0.165167   0.161701\n",
       "95      dwpc_CiPCiCtD   0.151365   0.327165\n",
       "11         degree_DlA  0.0798231   0.071014\n",
       "97       dwpc_CpDpCtD  0.0716169   0.109364\n",
       "78     dwpc_CdGbCdGaD  0.0484715  0.0742178\n",
       "23         dwpc_CbGaD  0.0377774  0.0474955\n",
       "9          degree_DaG  0.0337863  0.0218004\n",
       "13         degree_DpS  0.0298042  0.0269787\n",
       "46       dwpc_CbGiGaD  0.0290513  0.0350617\n",
       "101      dwpc_CrCbGaD  0.0286777  0.0321742\n",
       "70     dwpc_CbGuDrDrD  0.0280236  0.0322955\n",
       "43       dwpc_CbGeAlD  0.0275448  0.0292831\n",
       "44     dwpc_CbGeAlDrD  0.0111461  0.0115017\n",
       "57    dwpc_CbGr>GaDrD          0          0\n",
       "96    dwpc_CiPCiCuGaD          0          0\n",
       "68     dwpc_CbGuDaGaD          0          0\n",
       "67     dwpc_CbGuCuGaD          0          0\n",
       "66     dwpc_CbGuCtDrD          0          0\n",
       "65     dwpc_CbGuCdGaD          0          0\n",
       "61     dwpc_CbGuAeGaD          0          0\n",
       "60   dwpc_CbGr>Gr>GaD          0          0\n",
       "64     dwpc_CbGuAuGaD          0          0\n",
       "111    dwpc_CrCdGeAlD          0          0\n",
       "..                ...        ...        ...\n",
       "76     dwpc_CdGaDdGaD -0.0249246 -0.0353401\n",
       "48     dwpc_CbGiGbCtD -0.0267714 -0.0372258\n",
       "129   dwpc_CuG<rGiGaD -0.0268665 -0.0363011\n",
       "45     dwpc_CbGeAuGaD  -0.033605 -0.0382853\n",
       "125        dwpc_CtDrD -0.0397356 -0.0834383\n",
       "122    dwpc_CrCuGaDrD -0.0399044 -0.0485253\n",
       "137    dwpc_CuGuCuGaD -0.0409203 -0.0570242\n",
       "84     dwpc_CdGdCtDrD -0.0433922 -0.0581584\n",
       "27       dwpc_CbGaDrD -0.0513862 -0.0548551\n",
       "127  dwpc_CuG<rG<rGaD -0.0542903 -0.0741559\n",
       "6          degree_CpD -0.0608658 -0.0696242\n",
       "25     dwpc_CbGaDlAlD -0.0660784 -0.0658887\n",
       "128     dwpc_CuG<rGaD -0.0693779 -0.0938917\n",
       "108    dwpc_CrCdGaDrD -0.0762981 -0.0932394\n",
       "134   dwpc_CuGr>GbCtD -0.0828791  -0.134511\n",
       "119    dwpc_CrCtDtCtD -0.0841927  -0.138492\n",
       "77     dwpc_CdGaDuGaD -0.0890454  -0.125856\n",
       "94    dwpc_CiPCiCrCtD -0.0904921  -0.170949\n",
       "4          degree_CdG -0.0979558  -0.115984\n",
       "118        dwpc_CrCtD  -0.101074  -0.170303\n",
       "102    dwpc_CrCbGaDrD  -0.108418  -0.111206\n",
       "8          degree_CuG  -0.117022  -0.140225\n",
       "2          degree_CbG  -0.139244  -0.113315\n",
       "59    dwpc_CbGr>GiGaD  -0.143521  -0.181162\n",
       "103    dwpc_CrCbGbCtD  -0.170267  -0.212592\n",
       "5         degree_CiPC  -0.194261  -0.196689\n",
       "31     dwpc_CbGbCrCtD  -0.220911  -0.297603\n",
       "7          degree_CrC  -0.320579  -0.308861\n",
       "3         degree_CcSE  -0.797139  -0.449548\n",
       "0           intercept   -13.5897   -13.4968\n",
       "\n",
       "[139 rows x 3 columns]"
      ]
     },
     "execution_count": 34,
     "metadata": {},
     "output_type": "execute_result"
    }
   ],
   "source": [
    "coef = glmnet_coefs(ln, X_train, y_train)\n",
    "coef.sort_values('coef', ascending=False)"
   ]
  },
  {
   "cell_type": "code",
   "execution_count": null,
   "metadata": {
    "collapsed": true
   },
   "outputs": [],
   "source": []
  }
 ],
 "metadata": {
  "kernelspec": {
   "display_name": "Python 3",
   "language": "python",
   "name": "python3"
  },
  "language_info": {
   "codemirror_mode": {
    "name": "ipython",
    "version": 3
   },
   "file_extension": ".py",
   "mimetype": "text/x-python",
   "name": "python",
   "nbconvert_exporter": "python",
   "pygments_lexer": "ipython3",
   "version": "3.5.2"
  }
 },
 "nbformat": 4,
 "nbformat_minor": 1
}
