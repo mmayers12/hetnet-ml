{
 "cells": [
  {
   "cell_type": "markdown",
   "metadata": {
    "deletable": true,
    "editable": true
   },
   "source": [
    "# Convert .json.bz2 graph files to neo4j import .csv format"
   ]
  },
  {
   "cell_type": "code",
   "execution_count": 1,
   "metadata": {
    "collapsed": true,
    "deletable": true,
    "editable": true
   },
   "outputs": [],
   "source": [
    "import bz2\n",
    "import json\n",
    "import pandas as pd"
   ]
  },
  {
   "cell_type": "code",
   "execution_count": 2,
   "metadata": {
    "collapsed": false,
    "deletable": true,
    "editable": true
   },
   "outputs": [],
   "source": [
    "def get_edge_abbrev(edge, kind_to_abbrev):\n",
    "\n",
    "    start_node = edge['source_id']\n",
    "    end_node = edge['target_id']\n",
    "    \n",
    "    edge_abbrev = ''\n",
    "    edge_abbrev += kind_to_abbrev[start_node[0]]\n",
    "\n",
    "    if edge['direction'] == 'backward':\n",
    "        edge_abbrev += '<'\n",
    "\n",
    "    edge_abbrev += kind_to_abbrev[edge['kind']]\n",
    "\n",
    "    if edge['direction'] == 'forward':\n",
    "        edge_abbrev += '>'\n",
    "\n",
    "    edge_abbrev += kind_to_abbrev[end_node[0]]\n",
    "\n",
    "    return edge_abbrev"
   ]
  },
  {
   "cell_type": "code",
   "execution_count": 3,
   "metadata": {
    "collapsed": true,
    "deletable": true,
    "editable": true
   },
   "outputs": [],
   "source": [
    "def convert_to_neo(json_graph):\n",
    "    graph = {':START_ID': [], ':END_ID': [], ':TYPE': []}\n",
    "    \n",
    "    for edge in json_graph['edges']:\n",
    "        graph[':START_ID'].append(edge['source_id'][1])\n",
    "        graph[':END_ID'].append(edge['target_id'][1])\n",
    "       \n",
    "        edge_type = edge['kind'] + '_' + get_edge_abbrev(edge, json_graph['kind_to_abbrev'])\n",
    "        \n",
    "        graph[':TYPE'].append(edge_type)\n",
    "        \n",
    "    return pd.DataFrame(graph)"
   ]
  },
  {
   "cell_type": "code",
   "execution_count": 4,
   "metadata": {
    "collapsed": false,
    "deletable": true,
    "editable": true
   },
   "outputs": [],
   "source": [
    "for i in range(1, 6):\n",
    "    with bz2.open('hetnet_perm-{}.json.bz2'.format(i), 'rt') as fin:\n",
    "        graph = json.load(fin)\n",
    "    neo_graph = convert_to_neo(graph)\n",
    "    neo_graph.to_csv('hetnet_perm-{}.csv'.format(i), index=False)"
   ]
  }
 ],
 "metadata": {
  "kernelspec": {
   "display_name": "Python 3",
   "language": "python",
   "name": "python3"
  },
  "language_info": {
   "codemirror_mode": {
    "name": "ipython",
    "version": 3
   },
   "file_extension": ".py",
   "mimetype": "text/x-python",
   "name": "python",
   "nbconvert_exporter": "python",
   "pygments_lexer": "ipython3",
   "version": "3.5.3"
  }
 },
 "nbformat": 4,
 "nbformat_minor": 0
}
