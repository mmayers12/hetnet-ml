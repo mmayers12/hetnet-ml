{
 "cells": [
  {
   "cell_type": "markdown",
   "metadata": {},
   "source": [
    "# Verifying that the matrix DWPC method generates results similar to the Neo4j method\n",
    "\n",
    "The matrix-based DWPC calculation method does not provide results exactly equal to the Neo4j-based method for all metapaths. We would like to verify that these differences in DWPC calculation do not result in significant differences in the resulting predictions."
   ]
  },
  {
   "cell_type": "code",
   "execution_count": 1,
   "metadata": {
    "collapsed": true
   },
   "outputs": [],
   "source": [
    "import pandas as pd\n",
    "import matplotlib\n",
    "import seaborn as sns"
   ]
  },
  {
   "cell_type": "code",
   "execution_count": 2,
   "metadata": {
    "collapsed": true
   },
   "outputs": [],
   "source": [
    "%matplotlib inline"
   ]
  },
  {
   "cell_type": "markdown",
   "metadata": {},
   "source": [
    "---"
   ]
  },
  {
   "cell_type": "markdown",
   "metadata": {},
   "source": [
    "## Data\n",
    "\n",
    "Data files are from fold 3 of the full size network (no rare disease data)."
   ]
  },
  {
   "cell_type": "code",
   "execution_count": 3,
   "metadata": {
    "collapsed": true
   },
   "outputs": [],
   "source": [
    "orig = pd.read_csv(\"orig_pred_res_for_roc.tsv\", sep='\\t')"
   ]
  },
  {
   "cell_type": "code",
   "execution_count": 4,
   "metadata": {
    "collapsed": true
   },
   "outputs": [],
   "source": [
    "matx = pd.read_csv(\"matrix_pred_res_for_roc.tsv\", sep='\\t')"
   ]
  },
  {
   "cell_type": "code",
   "execution_count": 5,
   "metadata": {},
   "outputs": [
    {
     "data": {
      "text/plain": [
       "(14490, 136)"
      ]
     },
     "execution_count": 5,
     "metadata": {},
     "output_type": "execute_result"
    }
   ],
   "source": [
    "orig.shape"
   ]
  },
  {
   "cell_type": "code",
   "execution_count": 6,
   "metadata": {},
   "outputs": [
    {
     "data": {
      "text/plain": [
       "(14490, 107)"
      ]
     },
     "execution_count": 6,
     "metadata": {},
     "output_type": "execute_result"
    }
   ],
   "source": [
    "matx.shape"
   ]
  },
  {
   "cell_type": "code",
   "execution_count": 7,
   "metadata": {},
   "outputs": [
    {
     "data": {
      "text/html": [
       "<div>\n",
       "<style>\n",
       "    .dataframe thead tr:only-child th {\n",
       "        text-align: right;\n",
       "    }\n",
       "\n",
       "    .dataframe thead th {\n",
       "        text-align: left;\n",
       "    }\n",
       "\n",
       "    .dataframe tbody tr th {\n",
       "        vertical-align: top;\n",
       "    }\n",
       "</style>\n",
       "<table border=\"1\" class=\"dataframe\">\n",
       "  <thead>\n",
       "    <tr style=\"text-align: right;\">\n",
       "      <th></th>\n",
       "      <th>compound_id</th>\n",
       "      <th>disease_id</th>\n",
       "      <th>origin</th>\n",
       "      <th>prior_logit</th>\n",
       "      <th>prior_prob</th>\n",
       "      <th>degree_CbG</th>\n",
       "      <th>degree_CcSE</th>\n",
       "      <th>degree_CdG</th>\n",
       "      <th>degree_CiPC</th>\n",
       "      <th>degree_CrC</th>\n",
       "      <th>...</th>\n",
       "      <th>dwpc_CuGdDlAlD</th>\n",
       "      <th>dwpc_CuGuCbGaD</th>\n",
       "      <th>dwpc_CuGuCtD</th>\n",
       "      <th>dwpc_CuGuCtDrD</th>\n",
       "      <th>dwpc_CuGuCuGaD</th>\n",
       "      <th>predicted_value</th>\n",
       "      <th>category</th>\n",
       "      <th>n_curators</th>\n",
       "      <th>n_resources</th>\n",
       "      <th>true_label</th>\n",
       "    </tr>\n",
       "  </thead>\n",
       "  <tbody>\n",
       "    <tr>\n",
       "      <th>0</th>\n",
       "      <td>DB00630</td>\n",
       "      <td>DOID:11476</td>\n",
       "      <td>holdout</td>\n",
       "      <td>-4.052</td>\n",
       "      <td>0.01709</td>\n",
       "      <td>-0.4404</td>\n",
       "      <td>0.06956</td>\n",
       "      <td>0.3272</td>\n",
       "      <td>0.2767</td>\n",
       "      <td>0.4246</td>\n",
       "      <td>...</td>\n",
       "      <td>-0.2499</td>\n",
       "      <td>0.9226</td>\n",
       "      <td>0.1581</td>\n",
       "      <td>-0.3456</td>\n",
       "      <td>0.2536</td>\n",
       "      <td>0.960181</td>\n",
       "      <td>DM</td>\n",
       "      <td>3.0</td>\n",
       "      <td>2.0</td>\n",
       "      <td>1</td>\n",
       "    </tr>\n",
       "    <tr>\n",
       "      <th>1</th>\n",
       "      <td>DB00282</td>\n",
       "      <td>DOID:11476</td>\n",
       "      <td>holdout</td>\n",
       "      <td>-3.327</td>\n",
       "      <td>0.03466</td>\n",
       "      <td>-2.0200</td>\n",
       "      <td>0.48600</td>\n",
       "      <td>-0.9726</td>\n",
       "      <td>0.2767</td>\n",
       "      <td>0.4246</td>\n",
       "      <td>...</td>\n",
       "      <td>-0.6252</td>\n",
       "      <td>-0.7182</td>\n",
       "      <td>-0.5078</td>\n",
       "      <td>-0.6414</td>\n",
       "      <td>-0.6768</td>\n",
       "      <td>0.949637</td>\n",
       "      <td>NaN</td>\n",
       "      <td>NaN</td>\n",
       "      <td>NaN</td>\n",
       "      <td>0</td>\n",
       "    </tr>\n",
       "  </tbody>\n",
       "</table>\n",
       "<p>2 rows × 136 columns</p>\n",
       "</div>"
      ],
      "text/plain": [
       "  compound_id  disease_id   origin  prior_logit  prior_prob  degree_CbG  \\\n",
       "0     DB00630  DOID:11476  holdout       -4.052     0.01709     -0.4404   \n",
       "1     DB00282  DOID:11476  holdout       -3.327     0.03466     -2.0200   \n",
       "\n",
       "   degree_CcSE  degree_CdG  degree_CiPC  degree_CrC     ...      \\\n",
       "0      0.06956      0.3272       0.2767      0.4246     ...       \n",
       "1      0.48600     -0.9726       0.2767      0.4246     ...       \n",
       "\n",
       "   dwpc_CuGdDlAlD  dwpc_CuGuCbGaD  dwpc_CuGuCtD  dwpc_CuGuCtDrD  \\\n",
       "0         -0.2499          0.9226        0.1581         -0.3456   \n",
       "1         -0.6252         -0.7182       -0.5078         -0.6414   \n",
       "\n",
       "   dwpc_CuGuCuGaD  predicted_value  category  n_curators  n_resources  \\\n",
       "0          0.2536         0.960181        DM         3.0          2.0   \n",
       "1         -0.6768         0.949637       NaN         NaN          NaN   \n",
       "\n",
       "   true_label  \n",
       "0           1  \n",
       "1           0  \n",
       "\n",
       "[2 rows x 136 columns]"
      ]
     },
     "execution_count": 7,
     "metadata": {},
     "output_type": "execute_result"
    }
   ],
   "source": [
    "orig.head(2)"
   ]
  },
  {
   "cell_type": "code",
   "execution_count": 8,
   "metadata": {},
   "outputs": [
    {
     "data": {
      "text/html": [
       "<div>\n",
       "<style>\n",
       "    .dataframe thead tr:only-child th {\n",
       "        text-align: right;\n",
       "    }\n",
       "\n",
       "    .dataframe thead th {\n",
       "        text-align: left;\n",
       "    }\n",
       "\n",
       "    .dataframe tbody tr th {\n",
       "        vertical-align: top;\n",
       "    }\n",
       "</style>\n",
       "<table border=\"1\" class=\"dataframe\">\n",
       "  <thead>\n",
       "    <tr style=\"text-align: right;\">\n",
       "      <th></th>\n",
       "      <th>chemical_id</th>\n",
       "      <th>disease_id</th>\n",
       "      <th>origin</th>\n",
       "      <th>prior_logit</th>\n",
       "      <th>prior_prob</th>\n",
       "      <th>degree_CbG</th>\n",
       "      <th>degree_CcSE</th>\n",
       "      <th>degree_CdG</th>\n",
       "      <th>degree_CiPC</th>\n",
       "      <th>degree_CrC</th>\n",
       "      <th>...</th>\n",
       "      <th>dwpc_CrCuGiGaD</th>\n",
       "      <th>dwpc_CuGaDuGaD</th>\n",
       "      <th>dwpc_CuGcGiGaD</th>\n",
       "      <th>dwpc_CuGdDlAlD</th>\n",
       "      <th>dwpc_CuGdDpSpD</th>\n",
       "      <th>dwpc_CuGuCtDrD</th>\n",
       "      <th>dwpc_CuGuCuGaD</th>\n",
       "      <th>predicted_value</th>\n",
       "      <th>category</th>\n",
       "      <th>true_label</th>\n",
       "    </tr>\n",
       "  </thead>\n",
       "  <tbody>\n",
       "    <tr>\n",
       "      <th>0</th>\n",
       "      <td>DB00630</td>\n",
       "      <td>DOID:11476</td>\n",
       "      <td>holdout</td>\n",
       "      <td>-4.052</td>\n",
       "      <td>0.01709</td>\n",
       "      <td>-0.4404</td>\n",
       "      <td>0.06956</td>\n",
       "      <td>0.3285</td>\n",
       "      <td>0.2767</td>\n",
       "      <td>0.4246</td>\n",
       "      <td>...</td>\n",
       "      <td>-0.09536</td>\n",
       "      <td>1.5550</td>\n",
       "      <td>0.02598</td>\n",
       "      <td>-0.2318</td>\n",
       "      <td>0.4720</td>\n",
       "      <td>-0.3458</td>\n",
       "      <td>0.2535</td>\n",
       "      <td>0.960243</td>\n",
       "      <td>DM</td>\n",
       "      <td>1</td>\n",
       "    </tr>\n",
       "    <tr>\n",
       "      <th>1</th>\n",
       "      <td>DB00282</td>\n",
       "      <td>DOID:11476</td>\n",
       "      <td>holdout</td>\n",
       "      <td>-3.327</td>\n",
       "      <td>0.03466</td>\n",
       "      <td>-2.0200</td>\n",
       "      <td>0.48600</td>\n",
       "      <td>-0.9736</td>\n",
       "      <td>0.2767</td>\n",
       "      <td>0.4246</td>\n",
       "      <td>...</td>\n",
       "      <td>0.52390</td>\n",
       "      <td>-0.6413</td>\n",
       "      <td>-0.58250</td>\n",
       "      <td>-0.6199</td>\n",
       "      <td>-0.6256</td>\n",
       "      <td>-0.6414</td>\n",
       "      <td>-0.6766</td>\n",
       "      <td>0.948716</td>\n",
       "      <td>NaN</td>\n",
       "      <td>0</td>\n",
       "    </tr>\n",
       "  </tbody>\n",
       "</table>\n",
       "<p>2 rows × 107 columns</p>\n",
       "</div>"
      ],
      "text/plain": [
       "  chemical_id  disease_id   origin  prior_logit  prior_prob  degree_CbG  \\\n",
       "0     DB00630  DOID:11476  holdout       -4.052     0.01709     -0.4404   \n",
       "1     DB00282  DOID:11476  holdout       -3.327     0.03466     -2.0200   \n",
       "\n",
       "   degree_CcSE  degree_CdG  degree_CiPC  degree_CrC     ...      \\\n",
       "0      0.06956      0.3285       0.2767      0.4246     ...       \n",
       "1      0.48600     -0.9736       0.2767      0.4246     ...       \n",
       "\n",
       "   dwpc_CrCuGiGaD  dwpc_CuGaDuGaD  dwpc_CuGcGiGaD  dwpc_CuGdDlAlD  \\\n",
       "0        -0.09536          1.5550         0.02598         -0.2318   \n",
       "1         0.52390         -0.6413        -0.58250         -0.6199   \n",
       "\n",
       "   dwpc_CuGdDpSpD  dwpc_CuGuCtDrD  dwpc_CuGuCuGaD  predicted_value  category  \\\n",
       "0          0.4720         -0.3458          0.2535         0.960243        DM   \n",
       "1         -0.6256         -0.6414         -0.6766         0.948716       NaN   \n",
       "\n",
       "   true_label  \n",
       "0           1  \n",
       "1           0  \n",
       "\n",
       "[2 rows x 107 columns]"
      ]
     },
     "execution_count": 8,
     "metadata": {},
     "output_type": "execute_result"
    }
   ],
   "source": [
    "matx.head(2)"
   ]
  },
  {
   "cell_type": "markdown",
   "metadata": {},
   "source": [
    "---"
   ]
  },
  {
   "cell_type": "markdown",
   "metadata": {},
   "source": [
    "## Check that the pairs are equal\n",
    "\n",
    "Check that the predictions involve the same chemical-disease pairs."
   ]
  },
  {
   "cell_type": "code",
   "execution_count": 9,
   "metadata": {
    "collapsed": true
   },
   "outputs": [],
   "source": [
    "assert (\n",
    "    set((r[\"compound_id\"], r[\"disease_id\"]) for i, r in orig.iterrows())\n",
    "    ==\n",
    "    set((r[\"chemical_id\"], r[\"disease_id\"]) for i, r in matx.iterrows())\n",
    ")"
   ]
  },
  {
   "cell_type": "markdown",
   "metadata": {},
   "source": [
    "---"
   ]
  },
  {
   "cell_type": "markdown",
   "metadata": {},
   "source": [
    "## Extract out the relevant information\n",
    "\n",
    "We will exclude the actual DWPC values when comparing the ranks of the predicted results."
   ]
  },
  {
   "cell_type": "code",
   "execution_count": 10,
   "metadata": {
    "collapsed": true
   },
   "outputs": [],
   "source": [
    "tempa = (orig\n",
    "    [[\"compound_id\", \"disease_id\", \"predicted_value\", \"true_label\"]]\n",
    "    .rename(columns={\n",
    "        \"compound_id\": \"chemical_id\",\n",
    "        \"predicted_value\": \"orig_value\",\n",
    "        \"true_label\": \"orig_label\"        \n",
    "    })\n",
    ")"
   ]
  },
  {
   "cell_type": "code",
   "execution_count": 11,
   "metadata": {
    "collapsed": true
   },
   "outputs": [],
   "source": [
    "tempb = (matx\n",
    "    [[\"chemical_id\", \"disease_id\", \"predicted_value\", \"true_label\"]]\n",
    "    .rename(columns={\n",
    "        \"predicted_value\": \"matx_value\",\n",
    "        \"true_label\": \"matx_label\"\n",
    "    })\n",
    ")"
   ]
  },
  {
   "cell_type": "code",
   "execution_count": 12,
   "metadata": {
    "collapsed": true
   },
   "outputs": [],
   "source": [
    "res = tempa.merge(tempb, how=\"inner\", on=[\"chemical_id\", \"disease_id\"])"
   ]
  },
  {
   "cell_type": "code",
   "execution_count": 13,
   "metadata": {},
   "outputs": [
    {
     "data": {
      "text/plain": [
       "(14490, 6)"
      ]
     },
     "execution_count": 13,
     "metadata": {},
     "output_type": "execute_result"
    }
   ],
   "source": [
    "res.shape"
   ]
  },
  {
   "cell_type": "code",
   "execution_count": 14,
   "metadata": {},
   "outputs": [
    {
     "data": {
      "text/html": [
       "<div>\n",
       "<style>\n",
       "    .dataframe thead tr:only-child th {\n",
       "        text-align: right;\n",
       "    }\n",
       "\n",
       "    .dataframe thead th {\n",
       "        text-align: left;\n",
       "    }\n",
       "\n",
       "    .dataframe tbody tr th {\n",
       "        vertical-align: top;\n",
       "    }\n",
       "</style>\n",
       "<table border=\"1\" class=\"dataframe\">\n",
       "  <thead>\n",
       "    <tr style=\"text-align: right;\">\n",
       "      <th></th>\n",
       "      <th>chemical_id</th>\n",
       "      <th>disease_id</th>\n",
       "      <th>orig_value</th>\n",
       "      <th>orig_label</th>\n",
       "      <th>matx_value</th>\n",
       "      <th>matx_label</th>\n",
       "    </tr>\n",
       "  </thead>\n",
       "  <tbody>\n",
       "    <tr>\n",
       "      <th>0</th>\n",
       "      <td>DB00630</td>\n",
       "      <td>DOID:11476</td>\n",
       "      <td>0.960181</td>\n",
       "      <td>1</td>\n",
       "      <td>0.960243</td>\n",
       "      <td>1</td>\n",
       "    </tr>\n",
       "    <tr>\n",
       "      <th>1</th>\n",
       "      <td>DB00282</td>\n",
       "      <td>DOID:11476</td>\n",
       "      <td>0.949637</td>\n",
       "      <td>0</td>\n",
       "      <td>0.948716</td>\n",
       "      <td>0</td>\n",
       "    </tr>\n",
       "    <tr>\n",
       "      <th>2</th>\n",
       "      <td>DB00884</td>\n",
       "      <td>DOID:5408</td>\n",
       "      <td>0.942462</td>\n",
       "      <td>1</td>\n",
       "      <td>0.945517</td>\n",
       "      <td>1</td>\n",
       "    </tr>\n",
       "    <tr>\n",
       "      <th>3</th>\n",
       "      <td>DB00710</td>\n",
       "      <td>DOID:11476</td>\n",
       "      <td>0.918706</td>\n",
       "      <td>1</td>\n",
       "      <td>0.907215</td>\n",
       "      <td>1</td>\n",
       "    </tr>\n",
       "    <tr>\n",
       "      <th>4</th>\n",
       "      <td>DB00282</td>\n",
       "      <td>DOID:5408</td>\n",
       "      <td>0.916035</td>\n",
       "      <td>0</td>\n",
       "      <td>0.914161</td>\n",
       "      <td>0</td>\n",
       "    </tr>\n",
       "  </tbody>\n",
       "</table>\n",
       "</div>"
      ],
      "text/plain": [
       "  chemical_id  disease_id  orig_value  orig_label  matx_value  matx_label\n",
       "0     DB00630  DOID:11476    0.960181           1    0.960243           1\n",
       "1     DB00282  DOID:11476    0.949637           0    0.948716           0\n",
       "2     DB00884   DOID:5408    0.942462           1    0.945517           1\n",
       "3     DB00710  DOID:11476    0.918706           1    0.907215           1\n",
       "4     DB00282   DOID:5408    0.916035           0    0.914161           0"
      ]
     },
     "execution_count": 14,
     "metadata": {},
     "output_type": "execute_result"
    }
   ],
   "source": [
    "res.head()"
   ]
  },
  {
   "cell_type": "markdown",
   "metadata": {},
   "source": [
    "### Check that the true labels are equal"
   ]
  },
  {
   "cell_type": "code",
   "execution_count": 15,
   "metadata": {},
   "outputs": [
    {
     "data": {
      "text/plain": [
       "True"
      ]
     },
     "execution_count": 15,
     "metadata": {},
     "output_type": "execute_result"
    }
   ],
   "source": [
    "(res[\"matx_label\"] == res[\"orig_label\"]).all()"
   ]
  },
  {
   "cell_type": "code",
   "execution_count": 16,
   "metadata": {
    "collapsed": true
   },
   "outputs": [],
   "source": [
    "res = (res\n",
    "    .drop(\"matx_label\", axis=1)\n",
    "    .rename(columns={\"orig_label\": \"true_label\"})\n",
    ")"
   ]
  },
  {
   "cell_type": "code",
   "execution_count": 17,
   "metadata": {},
   "outputs": [
    {
     "data": {
      "text/html": [
       "<div>\n",
       "<style>\n",
       "    .dataframe thead tr:only-child th {\n",
       "        text-align: right;\n",
       "    }\n",
       "\n",
       "    .dataframe thead th {\n",
       "        text-align: left;\n",
       "    }\n",
       "\n",
       "    .dataframe tbody tr th {\n",
       "        vertical-align: top;\n",
       "    }\n",
       "</style>\n",
       "<table border=\"1\" class=\"dataframe\">\n",
       "  <thead>\n",
       "    <tr style=\"text-align: right;\">\n",
       "      <th></th>\n",
       "      <th>chemical_id</th>\n",
       "      <th>disease_id</th>\n",
       "      <th>orig_value</th>\n",
       "      <th>true_label</th>\n",
       "      <th>matx_value</th>\n",
       "    </tr>\n",
       "  </thead>\n",
       "  <tbody>\n",
       "    <tr>\n",
       "      <th>0</th>\n",
       "      <td>DB00630</td>\n",
       "      <td>DOID:11476</td>\n",
       "      <td>0.960181</td>\n",
       "      <td>1</td>\n",
       "      <td>0.960243</td>\n",
       "    </tr>\n",
       "    <tr>\n",
       "      <th>1</th>\n",
       "      <td>DB00282</td>\n",
       "      <td>DOID:11476</td>\n",
       "      <td>0.949637</td>\n",
       "      <td>0</td>\n",
       "      <td>0.948716</td>\n",
       "    </tr>\n",
       "    <tr>\n",
       "      <th>2</th>\n",
       "      <td>DB00884</td>\n",
       "      <td>DOID:5408</td>\n",
       "      <td>0.942462</td>\n",
       "      <td>1</td>\n",
       "      <td>0.945517</td>\n",
       "    </tr>\n",
       "    <tr>\n",
       "      <th>3</th>\n",
       "      <td>DB00710</td>\n",
       "      <td>DOID:11476</td>\n",
       "      <td>0.918706</td>\n",
       "      <td>1</td>\n",
       "      <td>0.907215</td>\n",
       "    </tr>\n",
       "    <tr>\n",
       "      <th>4</th>\n",
       "      <td>DB00282</td>\n",
       "      <td>DOID:5408</td>\n",
       "      <td>0.916035</td>\n",
       "      <td>0</td>\n",
       "      <td>0.914161</td>\n",
       "    </tr>\n",
       "  </tbody>\n",
       "</table>\n",
       "</div>"
      ],
      "text/plain": [
       "  chemical_id  disease_id  orig_value  true_label  matx_value\n",
       "0     DB00630  DOID:11476    0.960181           1    0.960243\n",
       "1     DB00282  DOID:11476    0.949637           0    0.948716\n",
       "2     DB00884   DOID:5408    0.942462           1    0.945517\n",
       "3     DB00710  DOID:11476    0.918706           1    0.907215\n",
       "4     DB00282   DOID:5408    0.916035           0    0.914161"
      ]
     },
     "execution_count": 17,
     "metadata": {},
     "output_type": "execute_result"
    }
   ],
   "source": [
    "res.head()"
   ]
  },
  {
   "cell_type": "markdown",
   "metadata": {},
   "source": [
    "---"
   ]
  },
  {
   "cell_type": "markdown",
   "metadata": {},
   "source": [
    "## Calculate the ranks of the predictions\n",
    "\n",
    "Ranks are assigned in descending order (rank of 1 means the top prediction)."
   ]
  },
  {
   "cell_type": "code",
   "execution_count": 18,
   "metadata": {
    "collapsed": true
   },
   "outputs": [],
   "source": [
    "ranks = (res\n",
    "    .rank(numeric_only=True, ascending=False)\n",
    "    .drop(\"true_label\", axis=1)\n",
    "    .rename(columns={\n",
    "        \"orig_value\": \"orig_rank\",\n",
    "        \"matx_value\": \"matx_rank\"\n",
    "    })\n",
    ")"
   ]
  },
  {
   "cell_type": "code",
   "execution_count": 19,
   "metadata": {},
   "outputs": [
    {
     "data": {
      "text/html": [
       "<div>\n",
       "<style>\n",
       "    .dataframe thead tr:only-child th {\n",
       "        text-align: right;\n",
       "    }\n",
       "\n",
       "    .dataframe thead th {\n",
       "        text-align: left;\n",
       "    }\n",
       "\n",
       "    .dataframe tbody tr th {\n",
       "        vertical-align: top;\n",
       "    }\n",
       "</style>\n",
       "<table border=\"1\" class=\"dataframe\">\n",
       "  <thead>\n",
       "    <tr style=\"text-align: right;\">\n",
       "      <th></th>\n",
       "      <th>orig_rank</th>\n",
       "      <th>matx_rank</th>\n",
       "    </tr>\n",
       "  </thead>\n",
       "  <tbody>\n",
       "    <tr>\n",
       "      <th>0</th>\n",
       "      <td>1.0</td>\n",
       "      <td>1.0</td>\n",
       "    </tr>\n",
       "    <tr>\n",
       "      <th>1</th>\n",
       "      <td>2.0</td>\n",
       "      <td>2.0</td>\n",
       "    </tr>\n",
       "    <tr>\n",
       "      <th>2</th>\n",
       "      <td>3.0</td>\n",
       "      <td>3.0</td>\n",
       "    </tr>\n",
       "    <tr>\n",
       "      <th>3</th>\n",
       "      <td>4.0</td>\n",
       "      <td>6.0</td>\n",
       "    </tr>\n",
       "    <tr>\n",
       "      <th>4</th>\n",
       "      <td>5.0</td>\n",
       "      <td>4.0</td>\n",
       "    </tr>\n",
       "  </tbody>\n",
       "</table>\n",
       "</div>"
      ],
      "text/plain": [
       "   orig_rank  matx_rank\n",
       "0        1.0        1.0\n",
       "1        2.0        2.0\n",
       "2        3.0        3.0\n",
       "3        4.0        6.0\n",
       "4        5.0        4.0"
      ]
     },
     "execution_count": 19,
     "metadata": {},
     "output_type": "execute_result"
    }
   ],
   "source": [
    "ranks.head()"
   ]
  },
  {
   "cell_type": "code",
   "execution_count": 20,
   "metadata": {
    "collapsed": true
   },
   "outputs": [],
   "source": [
    "fin = res.merge(ranks, left_index=True, right_index=True)"
   ]
  },
  {
   "cell_type": "code",
   "execution_count": 21,
   "metadata": {},
   "outputs": [
    {
     "data": {
      "text/html": [
       "<div>\n",
       "<style>\n",
       "    .dataframe thead tr:only-child th {\n",
       "        text-align: right;\n",
       "    }\n",
       "\n",
       "    .dataframe thead th {\n",
       "        text-align: left;\n",
       "    }\n",
       "\n",
       "    .dataframe tbody tr th {\n",
       "        vertical-align: top;\n",
       "    }\n",
       "</style>\n",
       "<table border=\"1\" class=\"dataframe\">\n",
       "  <thead>\n",
       "    <tr style=\"text-align: right;\">\n",
       "      <th></th>\n",
       "      <th>chemical_id</th>\n",
       "      <th>disease_id</th>\n",
       "      <th>orig_value</th>\n",
       "      <th>true_label</th>\n",
       "      <th>matx_value</th>\n",
       "      <th>orig_rank</th>\n",
       "      <th>matx_rank</th>\n",
       "    </tr>\n",
       "  </thead>\n",
       "  <tbody>\n",
       "    <tr>\n",
       "      <th>0</th>\n",
       "      <td>DB00630</td>\n",
       "      <td>DOID:11476</td>\n",
       "      <td>0.960181</td>\n",
       "      <td>1</td>\n",
       "      <td>0.960243</td>\n",
       "      <td>1.0</td>\n",
       "      <td>1.0</td>\n",
       "    </tr>\n",
       "    <tr>\n",
       "      <th>1</th>\n",
       "      <td>DB00282</td>\n",
       "      <td>DOID:11476</td>\n",
       "      <td>0.949637</td>\n",
       "      <td>0</td>\n",
       "      <td>0.948716</td>\n",
       "      <td>2.0</td>\n",
       "      <td>2.0</td>\n",
       "    </tr>\n",
       "    <tr>\n",
       "      <th>2</th>\n",
       "      <td>DB00884</td>\n",
       "      <td>DOID:5408</td>\n",
       "      <td>0.942462</td>\n",
       "      <td>1</td>\n",
       "      <td>0.945517</td>\n",
       "      <td>3.0</td>\n",
       "      <td>3.0</td>\n",
       "    </tr>\n",
       "    <tr>\n",
       "      <th>3</th>\n",
       "      <td>DB00710</td>\n",
       "      <td>DOID:11476</td>\n",
       "      <td>0.918706</td>\n",
       "      <td>1</td>\n",
       "      <td>0.907215</td>\n",
       "      <td>4.0</td>\n",
       "      <td>6.0</td>\n",
       "    </tr>\n",
       "    <tr>\n",
       "      <th>4</th>\n",
       "      <td>DB00282</td>\n",
       "      <td>DOID:5408</td>\n",
       "      <td>0.916035</td>\n",
       "      <td>0</td>\n",
       "      <td>0.914161</td>\n",
       "      <td>5.0</td>\n",
       "      <td>4.0</td>\n",
       "    </tr>\n",
       "  </tbody>\n",
       "</table>\n",
       "</div>"
      ],
      "text/plain": [
       "  chemical_id  disease_id  orig_value  true_label  matx_value  orig_rank  \\\n",
       "0     DB00630  DOID:11476    0.960181           1    0.960243        1.0   \n",
       "1     DB00282  DOID:11476    0.949637           0    0.948716        2.0   \n",
       "2     DB00884   DOID:5408    0.942462           1    0.945517        3.0   \n",
       "3     DB00710  DOID:11476    0.918706           1    0.907215        4.0   \n",
       "4     DB00282   DOID:5408    0.916035           0    0.914161        5.0   \n",
       "\n",
       "   matx_rank  \n",
       "0        1.0  \n",
       "1        2.0  \n",
       "2        3.0  \n",
       "3        6.0  \n",
       "4        4.0  "
      ]
     },
     "execution_count": 21,
     "metadata": {},
     "output_type": "execute_result"
    }
   ],
   "source": [
    "fin.head()"
   ]
  },
  {
   "cell_type": "markdown",
   "metadata": {},
   "source": [
    "---"
   ]
  },
  {
   "cell_type": "markdown",
   "metadata": {},
   "source": [
    "## Calculate the difference in rank for a prediction between the two methods\n",
    "\n",
    "Calculate how the ranks differ between the two methods."
   ]
  },
  {
   "cell_type": "code",
   "execution_count": 22,
   "metadata": {
    "collapsed": true
   },
   "outputs": [],
   "source": [
    "fin = (fin\n",
    "    .assign(\n",
    "        rank_diff = lambda df: pd.Series.abs(df[\"orig_rank\"] - df[\"matx_rank\"])\n",
    "    )\n",
    "    .assign(\n",
    "        diff_pct = lambda df: df[\"rank_diff\"] / len(fin) * 100\n",
    "    )\n",
    ")"
   ]
  },
  {
   "cell_type": "code",
   "execution_count": 23,
   "metadata": {},
   "outputs": [
    {
     "data": {
      "text/html": [
       "<div>\n",
       "<style>\n",
       "    .dataframe thead tr:only-child th {\n",
       "        text-align: right;\n",
       "    }\n",
       "\n",
       "    .dataframe thead th {\n",
       "        text-align: left;\n",
       "    }\n",
       "\n",
       "    .dataframe tbody tr th {\n",
       "        vertical-align: top;\n",
       "    }\n",
       "</style>\n",
       "<table border=\"1\" class=\"dataframe\">\n",
       "  <thead>\n",
       "    <tr style=\"text-align: right;\">\n",
       "      <th></th>\n",
       "      <th>chemical_id</th>\n",
       "      <th>disease_id</th>\n",
       "      <th>orig_value</th>\n",
       "      <th>true_label</th>\n",
       "      <th>matx_value</th>\n",
       "      <th>orig_rank</th>\n",
       "      <th>matx_rank</th>\n",
       "      <th>rank_diff</th>\n",
       "      <th>diff_pct</th>\n",
       "    </tr>\n",
       "  </thead>\n",
       "  <tbody>\n",
       "    <tr>\n",
       "      <th>0</th>\n",
       "      <td>DB00630</td>\n",
       "      <td>DOID:11476</td>\n",
       "      <td>0.960181</td>\n",
       "      <td>1</td>\n",
       "      <td>0.960243</td>\n",
       "      <td>1.0</td>\n",
       "      <td>1.0</td>\n",
       "      <td>0.0</td>\n",
       "      <td>0.000000</td>\n",
       "    </tr>\n",
       "    <tr>\n",
       "      <th>1</th>\n",
       "      <td>DB00282</td>\n",
       "      <td>DOID:11476</td>\n",
       "      <td>0.949637</td>\n",
       "      <td>0</td>\n",
       "      <td>0.948716</td>\n",
       "      <td>2.0</td>\n",
       "      <td>2.0</td>\n",
       "      <td>0.0</td>\n",
       "      <td>0.000000</td>\n",
       "    </tr>\n",
       "    <tr>\n",
       "      <th>2</th>\n",
       "      <td>DB00884</td>\n",
       "      <td>DOID:5408</td>\n",
       "      <td>0.942462</td>\n",
       "      <td>1</td>\n",
       "      <td>0.945517</td>\n",
       "      <td>3.0</td>\n",
       "      <td>3.0</td>\n",
       "      <td>0.0</td>\n",
       "      <td>0.000000</td>\n",
       "    </tr>\n",
       "    <tr>\n",
       "      <th>3</th>\n",
       "      <td>DB00710</td>\n",
       "      <td>DOID:11476</td>\n",
       "      <td>0.918706</td>\n",
       "      <td>1</td>\n",
       "      <td>0.907215</td>\n",
       "      <td>4.0</td>\n",
       "      <td>6.0</td>\n",
       "      <td>2.0</td>\n",
       "      <td>0.013803</td>\n",
       "    </tr>\n",
       "    <tr>\n",
       "      <th>4</th>\n",
       "      <td>DB00282</td>\n",
       "      <td>DOID:5408</td>\n",
       "      <td>0.916035</td>\n",
       "      <td>0</td>\n",
       "      <td>0.914161</td>\n",
       "      <td>5.0</td>\n",
       "      <td>4.0</td>\n",
       "      <td>1.0</td>\n",
       "      <td>0.006901</td>\n",
       "    </tr>\n",
       "  </tbody>\n",
       "</table>\n",
       "</div>"
      ],
      "text/plain": [
       "  chemical_id  disease_id  orig_value  true_label  matx_value  orig_rank  \\\n",
       "0     DB00630  DOID:11476    0.960181           1    0.960243        1.0   \n",
       "1     DB00282  DOID:11476    0.949637           0    0.948716        2.0   \n",
       "2     DB00884   DOID:5408    0.942462           1    0.945517        3.0   \n",
       "3     DB00710  DOID:11476    0.918706           1    0.907215        4.0   \n",
       "4     DB00282   DOID:5408    0.916035           0    0.914161        5.0   \n",
       "\n",
       "   matx_rank  rank_diff  diff_pct  \n",
       "0        1.0        0.0  0.000000  \n",
       "1        2.0        0.0  0.000000  \n",
       "2        3.0        0.0  0.000000  \n",
       "3        6.0        2.0  0.013803  \n",
       "4        4.0        1.0  0.006901  "
      ]
     },
     "execution_count": 23,
     "metadata": {},
     "output_type": "execute_result"
    }
   ],
   "source": [
    "fin.head()"
   ]
  },
  {
   "cell_type": "code",
   "execution_count": 24,
   "metadata": {},
   "outputs": [
    {
     "data": {
      "text/plain": [
       "18.385093167701864"
      ]
     },
     "execution_count": 24,
     "metadata": {},
     "output_type": "execute_result"
    }
   ],
   "source": [
    "fin[\"diff_pct\"].max()"
   ]
  },
  {
   "cell_type": "markdown",
   "metadata": {},
   "source": [
    "## How much variance in ranking is there?"
   ]
  },
  {
   "cell_type": "code",
   "execution_count": 25,
   "metadata": {},
   "outputs": [
    {
     "data": {
      "text/plain": [
       "<matplotlib.axes._subplots.AxesSubplot at 0x7fe8f2a4bcf8>"
      ]
     },
     "execution_count": 25,
     "metadata": {},
     "output_type": "execute_result"
    },
    {
     "data": {
      "image/png": "[encoded data removed]",
      "text/plain": [
       "<matplotlib.figure.Figure at 0x7fe8f2a41be0>"
      ]
     },
     "metadata": {},
     "output_type": "display_data"
    }
   ],
   "source": [
    "sns.boxplot(y=fin[\"diff_pct\"])"
   ]
  },
  {
   "cell_type": "markdown",
   "metadata": {},
   "source": [
    "## Does variance vary based on the true label?"
   ]
  },
  {
   "cell_type": "code",
   "execution_count": 26,
   "metadata": {},
   "outputs": [
    {
     "data": {
      "text/plain": [
       "<matplotlib.axes._subplots.AxesSubplot at 0x7fe8f299b320>"
      ]
     },
     "execution_count": 26,
     "metadata": {},
     "output_type": "execute_result"
    },
    {
     "data": {
      "image/png": "[encoded data removed]",
      "text/plain": [
       "<matplotlib.figure.Figure at 0x7fe8f2a4b128>"
      ]
     },
     "metadata": {},
     "output_type": "display_data"
    }
   ],
   "source": [
    "sns.violinplot(data=fin, x=\"true_label\", y=\"diff_pct\")"
   ]
  },
  {
   "cell_type": "markdown",
   "metadata": {},
   "source": [
    "---"
   ]
  },
  {
   "cell_type": "markdown",
   "metadata": {},
   "source": [
    "## Visual comparison of ranks"
   ]
  },
  {
   "cell_type": "code",
   "execution_count": 27,
   "metadata": {},
   "outputs": [
    {
     "data": {
      "text/plain": [
       "<seaborn.axisgrid.JointGrid at 0x7fe8f29184a8>"
      ]
     },
     "execution_count": 27,
     "metadata": {},
     "output_type": "execute_result"
    },
    {
     "data": {
      "image/png": "[encoded data removed]",
      "text/plain": [
       "<matplotlib.figure.Figure at 0x7fe8f29787f0>"
      ]
     },
     "metadata": {},
     "output_type": "display_data"
    }
   ],
   "source": [
    "sns.jointplot(\n",
    "    data=fin,\n",
    "    x=\"orig_rank\", y=\"matx_rank\",\n",
    "    size=9\n",
    ")"
   ]
  },
  {
   "cell_type": "markdown",
   "metadata": {},
   "source": [
    "For the most part this seems to show that the matrix method is comparable to the original neo4j method at ranking the predictions.\n",
    "\n",
    "There don't seem to be any major deviations from the y=x line on the predictions. The medium amount of fuzziness is probably due to the fact that the matrix method cannot provide exact matches in DWPC values to the original neo4j method, and therefore this influences the final predicted value, which changes the calculated rank."
   ]
  },
  {
   "cell_type": "code",
   "execution_count": 28,
   "metadata": {},
   "outputs": [
    {
     "data": {
      "text/plain": [
       "<seaborn.axisgrid.JointGrid at 0x7fe8f2978748>"
      ]
     },
     "execution_count": 28,
     "metadata": {},
     "output_type": "execute_result"
    },
    {
     "data": {
      "image/png": "[encoded data removed]",
      "text/plain": [
       "<matplotlib.figure.Figure at 0x7fe8f2978710>"
      ]
     },
     "metadata": {},
     "output_type": "display_data"
    }
   ],
   "source": [
    "sns.jointplot(\n",
    "    data=fin.query(\"true_label == 1\"),\n",
    "    x=\"orig_rank\", y=\"matx_rank\",\n",
    "    size=9\n",
    ")"
   ]
  },
  {
   "cell_type": "code",
   "execution_count": 29,
   "metadata": {},
   "outputs": [
    {
     "data": {
      "text/plain": [
       "<seaborn.axisgrid.JointGrid at 0x7fe8f26acd30>"
      ]
     },
     "execution_count": 29,
     "metadata": {},
     "output_type": "execute_result"
    },
    {
     "data": {
      "image/png": "[encoded data removed]",
      "text/plain": [
       "<matplotlib.figure.Figure at 0x7fe8f2667b70>"
      ]
     },
     "metadata": {},
     "output_type": "display_data"
    }
   ],
   "source": [
    "sns.jointplot(\n",
    "    data=fin.query(\"true_label == 0\"),\n",
    "    x=\"orig_rank\", y=\"matx_rank\",\n",
    "    size=9\n",
    ")"
   ]
  },
  {
   "cell_type": "markdown",
   "metadata": {},
   "source": [
    "No obvious outliers in the prediction ranks, which implies that the matrix method is generating similar results.\n",
    "\n",
    "Next: look at the model being built, and the features being selected."
   ]
  }
 ],
 "metadata": {
  "kernelspec": {
   "display_name": "Python 3",
   "language": "python",
   "name": "python3"
  },
  "language_info": {
   "codemirror_mode": {
    "name": "ipython",
    "version": 3
   },
   "file_extension": ".py",
   "mimetype": "text/x-python",
   "name": "python",
   "nbconvert_exporter": "python",
   "pygments_lexer": "ipython3",
   "version": "3.5.3"
  }
 },
 "nbformat": 4,
 "nbformat_minor": 2
}
